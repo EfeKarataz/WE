{
 "cells": [
  {
   "attachments": {},
   "cell_type": "markdown",
   "id": "04961dbb",
   "metadata": {},
   "source": [
    "# Data Story Gender Pay Gap\n",
    "\n",
    "## Introduction\n",
    "\n",
    "For more than two centuries women have been fighting for equal rights and equal treatment. It has become more and more a political issue.\n",
    "In many Western societies equal rights for men and women are laid down in law.\n",
    "This does not mean that men and women are treated equally, but in many contries gender discrimination is against the law.\n",
    "A notorious difference between men and women is their salaries, how much they get paid for the same amount and quality of work.\n",
    "\n",
    "This story will explore salaries of software developers, based on data from Stack Overflow (SO), an online community of software developers.\n",
    "SO runs a yearly survey, asking its members questions about their age, skills, work, interests.\n",
    "Data from these surveys are available and can be useed to analyse the working conditions for these developers.\n",
    "We will use the surveys from the years 2014 until 2022.\n",
    "\n",
    "In particular, we will explore the correlation between yearly salary and features like age, country and job type.\n",
    "\n",
    "## Salary and Age\n",
    "\n",
    "Salaries tend to rise when people grow older. Let's see what the basic correlation between the two features Salary and Age is."
   ]
  },
  {
   "cell_type": "code",
   "execution_count": 6,
   "id": "ac44a056",
   "metadata": {
    "ExecuteTime": {
     "end_time": "2023-06-17T10:04:57.189930Z",
     "start_time": "2023-06-17T10:04:56.958315Z"
    }
   },
   "outputs": [],
   "source": [
    "%run salary_age.ipynb"
   ]
  },
  {
   "attachments": {},
   "cell_type": "markdown",
   "id": "8f39554e",
   "metadata": {},
   "source": [
    "Clearly, this graph shows a rise in salary when people grow older.\n",
    "\n",
    "We expect the same happening when the experience of the developer increases."
   ]
  },
  {
   "cell_type": "code",
   "execution_count": null,
   "id": "2412bd71",
   "metadata": {},
   "outputs": [],
   "source": [
    "%run salary_yearscode.ipynb"
   ]
  },
  {
   "attachments": {},
   "cell_type": "markdown",
   "id": "a8cb9a98",
   "metadata": {},
   "source": [
    "## The Gender Pay Gap\n",
    "\n",
    "Based on supplied salaries in the SO surveys, we see that the average salary of men is USD 62,264 and for women it is USD 59,289.\n",
    "\n",
    "If we define the Gender Pay Gap (GPG) as $\\frac{averageSalaryMen - averageSalaryWomen}{averageSalaryMen}$,\n",
    "the overall GPG is 4.8%, so women receive 4.8% less pay than men."
   ]
  },
  {
   "attachments": {},
   "cell_type": "markdown",
   "id": "790c5ce4",
   "metadata": {},
   "source": [
    "Since women are earning, on average, less than men, we are going to search for factors that may influence this difference.\n",
    "\n",
    "First let's analyse if this difference occurs in every age segment and in every country."
   ]
  },
  {
   "cell_type": "code",
   "execution_count": 1,
   "id": "223bcc64",
   "metadata": {
    "ExecuteTime": {
     "end_time": "2023-06-17T10:04:57.195748Z",
     "start_time": "2023-06-17T10:04:57.193288Z"
    }
   },
   "outputs": [],
   "source": [
    "%run salaries_gender_age.ipynb"
   ]
  },
  {
   "cell_type": "code",
   "execution_count": 2,
   "id": "5146c3bd",
   "metadata": {
    "ExecuteTime": {
     "end_time": "2023-06-17T10:04:57.198985Z",
     "start_time": "2023-06-17T10:04:57.196814Z"
    }
   },
   "outputs": [
    {
     "data": {
      "application/vnd.plotly.v1+json": {
       "config": {
        "plotlyServerURL": "https://plot.ly"
       },
       "data": [
        {
         "hovertemplate": "Country=Canada<br>Year=%{x}<br>SalaryGapPercent=%{y:d}<extra></extra>",
         "legendgroup": "Canada",
         "line": {
          "color": "#636efa",
          "dash": "solid"
         },
         "marker": {
          "symbol": "circle"
         },
         "mode": "lines",
         "name": "Canada",
         "orientation": "v",
         "showlegend": true,
         "type": "scatter",
         "x": [
          2014,
          2015,
          2016,
          2017,
          2018,
          2019,
          2020,
          2021,
          2022
         ],
         "xaxis": "x",
         "y": [
          18.885191347753743,
          32.29425939050319,
          20.756195513762364,
          16.15595687586354,
          12.696908631032294,
          13.095491332013529,
          12.4994837977156,
          10.094763151878297,
          11.836323249786686
         ],
         "yaxis": "y"
        },
        {
         "hovertemplate": "Country=Germany<br>Year=%{x}<br>SalaryGapPercent=%{y:d}<extra></extra>",
         "legendgroup": "Germany",
         "line": {
          "color": "#EF553B",
          "dash": "solid"
         },
         "marker": {
          "symbol": "circle"
         },
         "mode": "lines",
         "name": "Germany",
         "orientation": "v",
         "showlegend": true,
         "type": "scatter",
         "x": [
          2014,
          2015,
          2016,
          2017,
          2018,
          2019,
          2020,
          2021,
          2022
         ],
         "xaxis": "x",
         "y": [
          17.526477622138707,
          18.035849413545215,
          21.29440898553722,
          3.756773894765065,
          9.044773268827615,
          14.656101885954351,
          18.597207868540067,
          16.344386829753514,
          13.87602329624176
         ],
         "yaxis": "y"
        },
        {
         "hovertemplate": "Country=India<br>Year=%{x}<br>SalaryGapPercent=%{y:d}<extra></extra>",
         "legendgroup": "India",
         "line": {
          "color": "#00cc96",
          "dash": "solid"
         },
         "marker": {
          "symbol": "circle"
         },
         "mode": "lines",
         "name": "India",
         "orientation": "v",
         "showlegend": true,
         "type": "scatter",
         "x": [
          2014,
          2015,
          2016,
          2017,
          2018,
          2019,
          2020,
          2021,
          2022
         ],
         "xaxis": "x",
         "y": [
          3.3333333333333472,
          5.499519621169973,
          2.4489997440126037,
          46.41114797423927,
          10.678186975981006,
          43.76386700102033,
          -8.504162049628249,
          23.123889828265924,
          35.91980582381649
         ],
         "yaxis": "y"
        },
        {
         "hovertemplate": "Country=United Kingdom<br>Year=%{x}<br>SalaryGapPercent=%{y:d}<extra></extra>",
         "legendgroup": "United Kingdom",
         "line": {
          "color": "#ab63fa",
          "dash": "solid"
         },
         "marker": {
          "symbol": "circle"
         },
         "mode": "lines",
         "name": "United Kingdom",
         "orientation": "v",
         "showlegend": true,
         "type": "scatter",
         "x": [
          2014,
          2015,
          2016,
          2017,
          2018,
          2019,
          2020,
          2021,
          2022
         ],
         "xaxis": "x",
         "y": [
          35.41706191108582,
          28.0578596813942,
          20.149750638986813,
          13.37883023775702,
          22.271963665903343,
          15.273830205321865,
          13.50978981889189,
          21.27902087215123,
          15.479095317701507
         ],
         "yaxis": "y"
        },
        {
         "hovertemplate": "Country=United States<br>Year=%{x}<br>SalaryGapPercent=%{y:d}<extra></extra>",
         "legendgroup": "United States",
         "line": {
          "color": "#FFA15A",
          "dash": "solid"
         },
         "marker": {
          "symbol": "circle"
         },
         "mode": "lines",
         "name": "United States",
         "orientation": "v",
         "showlegend": true,
         "type": "scatter",
         "x": [
          2014,
          2015,
          2016,
          2017,
          2018,
          2019,
          2020,
          2021,
          2022
         ],
         "xaxis": "x",
         "y": [
          8.470369028419235,
          12.950463106815363,
          12.46431731038739,
          6.79814385362892,
          12.793368561409627,
          9.610040157299819,
          8.862034489716603,
          11.70640021451836,
          7.548858316473223
         ],
         "yaxis": "y"
        }
       ],
       "layout": {
        "legend": {
         "title": {
          "text": "Country"
         },
         "tracegroupgap": 0
        },
        "template": {
         "data": {
          "bar": [
           {
            "error_x": {
             "color": "#2a3f5f"
            },
            "error_y": {
             "color": "#2a3f5f"
            },
            "marker": {
             "line": {
              "color": "#E5ECF6",
              "width": 0.5
             },
             "pattern": {
              "fillmode": "overlay",
              "size": 10,
              "solidity": 0.2
             }
            },
            "type": "bar"
           }
          ],
          "barpolar": [
           {
            "marker": {
             "line": {
              "color": "#E5ECF6",
              "width": 0.5
             },
             "pattern": {
              "fillmode": "overlay",
              "size": 10,
              "solidity": 0.2
             }
            },
            "type": "barpolar"
           }
          ],
          "carpet": [
           {
            "aaxis": {
             "endlinecolor": "#2a3f5f",
             "gridcolor": "white",
             "linecolor": "white",
             "minorgridcolor": "white",
             "startlinecolor": "#2a3f5f"
            },
            "baxis": {
             "endlinecolor": "#2a3f5f",
             "gridcolor": "white",
             "linecolor": "white",
             "minorgridcolor": "white",
             "startlinecolor": "#2a3f5f"
            },
            "type": "carpet"
           }
          ],
          "choropleth": [
           {
            "colorbar": {
             "outlinewidth": 0,
             "ticks": ""
            },
            "type": "choropleth"
           }
          ],
          "contour": [
           {
            "colorbar": {
             "outlinewidth": 0,
             "ticks": ""
            },
            "colorscale": [
             [
              0,
              "#0d0887"
             ],
             [
              0.1111111111111111,
              "#46039f"
             ],
             [
              0.2222222222222222,
              "#7201a8"
             ],
             [
              0.3333333333333333,
              "#9c179e"
             ],
             [
              0.4444444444444444,
              "#bd3786"
             ],
             [
              0.5555555555555556,
              "#d8576b"
             ],
             [
              0.6666666666666666,
              "#ed7953"
             ],
             [
              0.7777777777777778,
              "#fb9f3a"
             ],
             [
              0.8888888888888888,
              "#fdca26"
             ],
             [
              1,
              "#f0f921"
             ]
            ],
            "type": "contour"
           }
          ],
          "contourcarpet": [
           {
            "colorbar": {
             "outlinewidth": 0,
             "ticks": ""
            },
            "type": "contourcarpet"
           }
          ],
          "heatmap": [
           {
            "colorbar": {
             "outlinewidth": 0,
             "ticks": ""
            },
            "colorscale": [
             [
              0,
              "#0d0887"
             ],
             [
              0.1111111111111111,
              "#46039f"
             ],
             [
              0.2222222222222222,
              "#7201a8"
             ],
             [
              0.3333333333333333,
              "#9c179e"
             ],
             [
              0.4444444444444444,
              "#bd3786"
             ],
             [
              0.5555555555555556,
              "#d8576b"
             ],
             [
              0.6666666666666666,
              "#ed7953"
             ],
             [
              0.7777777777777778,
              "#fb9f3a"
             ],
             [
              0.8888888888888888,
              "#fdca26"
             ],
             [
              1,
              "#f0f921"
             ]
            ],
            "type": "heatmap"
           }
          ],
          "heatmapgl": [
           {
            "colorbar": {
             "outlinewidth": 0,
             "ticks": ""
            },
            "colorscale": [
             [
              0,
              "#0d0887"
             ],
             [
              0.1111111111111111,
              "#46039f"
             ],
             [
              0.2222222222222222,
              "#7201a8"
             ],
             [
              0.3333333333333333,
              "#9c179e"
             ],
             [
              0.4444444444444444,
              "#bd3786"
             ],
             [
              0.5555555555555556,
              "#d8576b"
             ],
             [
              0.6666666666666666,
              "#ed7953"
             ],
             [
              0.7777777777777778,
              "#fb9f3a"
             ],
             [
              0.8888888888888888,
              "#fdca26"
             ],
             [
              1,
              "#f0f921"
             ]
            ],
            "type": "heatmapgl"
           }
          ],
          "histogram": [
           {
            "marker": {
             "pattern": {
              "fillmode": "overlay",
              "size": 10,
              "solidity": 0.2
             }
            },
            "type": "histogram"
           }
          ],
          "histogram2d": [
           {
            "colorbar": {
             "outlinewidth": 0,
             "ticks": ""
            },
            "colorscale": [
             [
              0,
              "#0d0887"
             ],
             [
              0.1111111111111111,
              "#46039f"
             ],
             [
              0.2222222222222222,
              "#7201a8"
             ],
             [
              0.3333333333333333,
              "#9c179e"
             ],
             [
              0.4444444444444444,
              "#bd3786"
             ],
             [
              0.5555555555555556,
              "#d8576b"
             ],
             [
              0.6666666666666666,
              "#ed7953"
             ],
             [
              0.7777777777777778,
              "#fb9f3a"
             ],
             [
              0.8888888888888888,
              "#fdca26"
             ],
             [
              1,
              "#f0f921"
             ]
            ],
            "type": "histogram2d"
           }
          ],
          "histogram2dcontour": [
           {
            "colorbar": {
             "outlinewidth": 0,
             "ticks": ""
            },
            "colorscale": [
             [
              0,
              "#0d0887"
             ],
             [
              0.1111111111111111,
              "#46039f"
             ],
             [
              0.2222222222222222,
              "#7201a8"
             ],
             [
              0.3333333333333333,
              "#9c179e"
             ],
             [
              0.4444444444444444,
              "#bd3786"
             ],
             [
              0.5555555555555556,
              "#d8576b"
             ],
             [
              0.6666666666666666,
              "#ed7953"
             ],
             [
              0.7777777777777778,
              "#fb9f3a"
             ],
             [
              0.8888888888888888,
              "#fdca26"
             ],
             [
              1,
              "#f0f921"
             ]
            ],
            "type": "histogram2dcontour"
           }
          ],
          "mesh3d": [
           {
            "colorbar": {
             "outlinewidth": 0,
             "ticks": ""
            },
            "type": "mesh3d"
           }
          ],
          "parcoords": [
           {
            "line": {
             "colorbar": {
              "outlinewidth": 0,
              "ticks": ""
             }
            },
            "type": "parcoords"
           }
          ],
          "pie": [
           {
            "automargin": true,
            "type": "pie"
           }
          ],
          "scatter": [
           {
            "fillpattern": {
             "fillmode": "overlay",
             "size": 10,
             "solidity": 0.2
            },
            "type": "scatter"
           }
          ],
          "scatter3d": [
           {
            "line": {
             "colorbar": {
              "outlinewidth": 0,
              "ticks": ""
             }
            },
            "marker": {
             "colorbar": {
              "outlinewidth": 0,
              "ticks": ""
             }
            },
            "type": "scatter3d"
           }
          ],
          "scattercarpet": [
           {
            "marker": {
             "colorbar": {
              "outlinewidth": 0,
              "ticks": ""
             }
            },
            "type": "scattercarpet"
           }
          ],
          "scattergeo": [
           {
            "marker": {
             "colorbar": {
              "outlinewidth": 0,
              "ticks": ""
             }
            },
            "type": "scattergeo"
           }
          ],
          "scattergl": [
           {
            "marker": {
             "colorbar": {
              "outlinewidth": 0,
              "ticks": ""
             }
            },
            "type": "scattergl"
           }
          ],
          "scattermapbox": [
           {
            "marker": {
             "colorbar": {
              "outlinewidth": 0,
              "ticks": ""
             }
            },
            "type": "scattermapbox"
           }
          ],
          "scatterpolar": [
           {
            "marker": {
             "colorbar": {
              "outlinewidth": 0,
              "ticks": ""
             }
            },
            "type": "scatterpolar"
           }
          ],
          "scatterpolargl": [
           {
            "marker": {
             "colorbar": {
              "outlinewidth": 0,
              "ticks": ""
             }
            },
            "type": "scatterpolargl"
           }
          ],
          "scatterternary": [
           {
            "marker": {
             "colorbar": {
              "outlinewidth": 0,
              "ticks": ""
             }
            },
            "type": "scatterternary"
           }
          ],
          "surface": [
           {
            "colorbar": {
             "outlinewidth": 0,
             "ticks": ""
            },
            "colorscale": [
             [
              0,
              "#0d0887"
             ],
             [
              0.1111111111111111,
              "#46039f"
             ],
             [
              0.2222222222222222,
              "#7201a8"
             ],
             [
              0.3333333333333333,
              "#9c179e"
             ],
             [
              0.4444444444444444,
              "#bd3786"
             ],
             [
              0.5555555555555556,
              "#d8576b"
             ],
             [
              0.6666666666666666,
              "#ed7953"
             ],
             [
              0.7777777777777778,
              "#fb9f3a"
             ],
             [
              0.8888888888888888,
              "#fdca26"
             ],
             [
              1,
              "#f0f921"
             ]
            ],
            "type": "surface"
           }
          ],
          "table": [
           {
            "cells": {
             "fill": {
              "color": "#EBF0F8"
             },
             "line": {
              "color": "white"
             }
            },
            "header": {
             "fill": {
              "color": "#C8D4E3"
             },
             "line": {
              "color": "white"
             }
            },
            "type": "table"
           }
          ]
         },
         "layout": {
          "annotationdefaults": {
           "arrowcolor": "#2a3f5f",
           "arrowhead": 0,
           "arrowwidth": 1
          },
          "autotypenumbers": "strict",
          "coloraxis": {
           "colorbar": {
            "outlinewidth": 0,
            "ticks": ""
           }
          },
          "colorscale": {
           "diverging": [
            [
             0,
             "#8e0152"
            ],
            [
             0.1,
             "#c51b7d"
            ],
            [
             0.2,
             "#de77ae"
            ],
            [
             0.3,
             "#f1b6da"
            ],
            [
             0.4,
             "#fde0ef"
            ],
            [
             0.5,
             "#f7f7f7"
            ],
            [
             0.6,
             "#e6f5d0"
            ],
            [
             0.7,
             "#b8e186"
            ],
            [
             0.8,
             "#7fbc41"
            ],
            [
             0.9,
             "#4d9221"
            ],
            [
             1,
             "#276419"
            ]
           ],
           "sequential": [
            [
             0,
             "#0d0887"
            ],
            [
             0.1111111111111111,
             "#46039f"
            ],
            [
             0.2222222222222222,
             "#7201a8"
            ],
            [
             0.3333333333333333,
             "#9c179e"
            ],
            [
             0.4444444444444444,
             "#bd3786"
            ],
            [
             0.5555555555555556,
             "#d8576b"
            ],
            [
             0.6666666666666666,
             "#ed7953"
            ],
            [
             0.7777777777777778,
             "#fb9f3a"
            ],
            [
             0.8888888888888888,
             "#fdca26"
            ],
            [
             1,
             "#f0f921"
            ]
           ],
           "sequentialminus": [
            [
             0,
             "#0d0887"
            ],
            [
             0.1111111111111111,
             "#46039f"
            ],
            [
             0.2222222222222222,
             "#7201a8"
            ],
            [
             0.3333333333333333,
             "#9c179e"
            ],
            [
             0.4444444444444444,
             "#bd3786"
            ],
            [
             0.5555555555555556,
             "#d8576b"
            ],
            [
             0.6666666666666666,
             "#ed7953"
            ],
            [
             0.7777777777777778,
             "#fb9f3a"
            ],
            [
             0.8888888888888888,
             "#fdca26"
            ],
            [
             1,
             "#f0f921"
            ]
           ]
          },
          "colorway": [
           "#636efa",
           "#EF553B",
           "#00cc96",
           "#ab63fa",
           "#FFA15A",
           "#19d3f3",
           "#FF6692",
           "#B6E880",
           "#FF97FF",
           "#FECB52"
          ],
          "font": {
           "color": "#2a3f5f"
          },
          "geo": {
           "bgcolor": "white",
           "lakecolor": "white",
           "landcolor": "#E5ECF6",
           "showlakes": true,
           "showland": true,
           "subunitcolor": "white"
          },
          "hoverlabel": {
           "align": "left"
          },
          "hovermode": "closest",
          "mapbox": {
           "style": "light"
          },
          "paper_bgcolor": "white",
          "plot_bgcolor": "#E5ECF6",
          "polar": {
           "angularaxis": {
            "gridcolor": "white",
            "linecolor": "white",
            "ticks": ""
           },
           "bgcolor": "#E5ECF6",
           "radialaxis": {
            "gridcolor": "white",
            "linecolor": "white",
            "ticks": ""
           }
          },
          "scene": {
           "xaxis": {
            "backgroundcolor": "#E5ECF6",
            "gridcolor": "white",
            "gridwidth": 2,
            "linecolor": "white",
            "showbackground": true,
            "ticks": "",
            "zerolinecolor": "white"
           },
           "yaxis": {
            "backgroundcolor": "#E5ECF6",
            "gridcolor": "white",
            "gridwidth": 2,
            "linecolor": "white",
            "showbackground": true,
            "ticks": "",
            "zerolinecolor": "white"
           },
           "zaxis": {
            "backgroundcolor": "#E5ECF6",
            "gridcolor": "white",
            "gridwidth": 2,
            "linecolor": "white",
            "showbackground": true,
            "ticks": "",
            "zerolinecolor": "white"
           }
          },
          "shapedefaults": {
           "line": {
            "color": "#2a3f5f"
           }
          },
          "ternary": {
           "aaxis": {
            "gridcolor": "white",
            "linecolor": "white",
            "ticks": ""
           },
           "baxis": {
            "gridcolor": "white",
            "linecolor": "white",
            "ticks": ""
           },
           "bgcolor": "#E5ECF6",
           "caxis": {
            "gridcolor": "white",
            "linecolor": "white",
            "ticks": ""
           }
          },
          "title": {
           "x": 0.05
          },
          "xaxis": {
           "automargin": true,
           "gridcolor": "white",
           "linecolor": "white",
           "ticks": "",
           "title": {
            "standoff": 15
           },
           "zerolinecolor": "white",
           "zerolinewidth": 2
          },
          "yaxis": {
           "automargin": true,
           "gridcolor": "white",
           "linecolor": "white",
           "ticks": "",
           "title": {
            "standoff": 15
           },
           "zerolinecolor": "white",
           "zerolinewidth": 2
          }
         }
        },
        "title": {
         "text": "Salary gap between men and women from 2014-2022"
        },
        "xaxis": {
         "anchor": "y",
         "domain": [
          0,
          1
         ],
         "title": {
          "text": "Year"
         }
        },
        "yaxis": {
         "anchor": "x",
         "domain": [
          0,
          1
         ],
         "title": {
          "text": "Salary gap in percentage"
         }
        }
       }
      }
     },
     "metadata": {},
     "output_type": "display_data"
    }
   ],
   "source": [
    "%run salaries_gender_countries.ipynb"
   ]
  },
  {
   "cell_type": "code",
   "execution_count": 10,
   "id": "8ef4e9b0",
   "metadata": {
    "ExecuteTime": {
     "end_time": "2023-06-17T10:04:57.639891Z",
     "start_time": "2023-06-17T10:04:57.199322Z"
    }
   },
   "outputs": [
    {
     "data": {
      "application/vnd.plotly.v1+json": {
       "config": {
        "plotlyServerURL": "https://plot.ly"
       },
       "data": [
        {
         "coloraxis": "coloraxis",
         "customdata": [
          [
           20229.6875
          ],
          [
           5108.363636363638
          ],
          [
           4070.727272727272
          ],
          [
           2586.25
          ],
          [
           17873
          ],
          [
           889.2590613718421
          ],
          [
           6163.093798449612
          ],
          [
           1692.1604196036205
          ],
          [
           7390.493331745656
          ],
          [
           5384.2868217054265
          ],
          [
           22327
          ],
          [
           452.2000000000007
          ],
          [
           831.4693877551017
          ],
          [
           9608.846783625733
          ],
          [
           84790
          ],
          [
           21525.953125
          ],
          [
           337.0386212038211
          ],
          [
           4595.76738197425
          ],
          [
           11667.2
          ],
          [
           1625.5789473684208
          ],
          [
           2354.1884745762727
          ],
          [
           623.6825396825388
          ],
          [
           4446.147107438017
          ],
          [
           8837.120501635769
          ],
          [
           8470.074074074073
          ],
          [
           6022.886956521739
          ],
          [
           7407.727272727272
          ],
          [
           4765.357344632768
          ],
          [
           1743.1750242639973
          ],
          [
           7734.33407079646
          ],
          [
           11647.42857142857
          ],
          [
           2166.944029850747
          ],
          [
           5636.666666666666
          ],
          [
           10197.501373626372
          ],
          [
           4389.578947368421
          ],
          [
           75.83714285714086
          ],
          [
           131.01174960049684
          ],
          [
           9184.842592592591
          ],
          [
           4285.841340969542
          ],
          [
           4183.1
          ],
          [
           662.3151162790709
          ],
          [
           10359
          ],
          [
           2104.108974358973
          ],
          [
           2714.7766990291275
          ],
          [
           3833.466666666667
          ],
          [
           1031.409627955578
          ],
          [
           229.5540780141855
          ],
          [
           2106.246979865771
          ],
          [
           3148.21052631579
          ],
          [
           1915.7127086007677
          ],
          [
           2908
          ],
          [
           18108.71443358252
          ],
          [
           702.488602329453
          ],
          [
           4503
          ],
          [
           1319.588235294117
          ],
          [
           2057.3474470734727
          ],
          [
           10971.514285714286
          ],
          [
           1771.416666666666
          ],
          [
           8534.4609375
          ],
          [
           4471.642857142859
          ],
          [
           3287.5325670498096
          ],
          [
           12229.282485875705
          ],
          [
           3464.333333333332
          ],
          [
           5814
          ],
          [
           4814.371496720333
          ],
          [
           5841.511111111111
          ],
          [
           4209.636363636364
          ],
          [
           2666.954513148543
          ],
          [
           12040.900000000001
          ],
          [
           59021.2380952381
          ],
          [
           5902.731292517007
          ],
          [
           7860
          ],
          [
           2310.9333333333334
          ],
          [
           3640.4224598930487
          ],
          [
           1845.2191780821922
          ],
          [
           1308.605273833673
          ],
          [
           1956.653664302601
          ],
          [
           4178.5
          ],
          [
           7693.083333333336
          ],
          [
           811.4547296674955
          ],
          [
           4902.666666666666
          ],
          [
           6289.473684210527
          ],
          [
           1180.9333333333325
          ],
          [
           1737.7111111111108
          ],
          [
           5652.568241903504
          ],
          [
           326.3221288515415
          ],
          [
           30000
          ],
          [
           581.7549844339919
          ],
          [
           3823.9702474986843
          ],
          [
           22466.16216216216
          ],
          [
           7483.235354049924
          ],
          [
           2545.2535014005553
          ],
          [
           1947.7332089552256
          ],
          [
           9914.42480620155
          ],
          [
           1676.5725165562908
          ],
          [
           7750
          ],
          [
           2715.4990656892332
          ],
          [
           2060.094069529653
          ],
          [
           2255.9941944847596
          ],
          [
           1951.2054816869204
          ],
          [
           11091.619047619048
          ],
          [
           2901.6846153846127
          ],
          [
           9653.454545454544
          ],
          [
           9889.36842105263
          ],
          [
           4777.688888888889
          ],
          [
           3776.9565571103158
          ],
          [
           6526.484848484848
          ],
          [
           1654.5890843482157
          ],
          [
           6674.540000000001
          ],
          [
           4035.937314905459
          ],
          [
           3431.5972985516273
          ],
          [
           8916.25
          ],
          [
           6000.09756097561
          ],
          [
           8584.954022988506
          ],
          [
           176.38461538461524
          ],
          [
           3826.75
          ],
          [
           3991.666666666668
          ]
         ],
         "geo": "geo",
         "hovertemplate": "Country=%{location}<br>SalaryGap=%{z:$d}<extra></extra>",
         "locationmode": "country names",
         "locations": [
          "Afghanistan",
          "Albania",
          "Algeria",
          "Andorra",
          "Angola",
          "Argentina",
          "Armenia",
          "Australia",
          "Austria",
          "Azerbaijan",
          "Bahrain",
          "Bangladesh",
          "Belarus",
          "Belgium",
          "Bhutan",
          "Bosnia and Herzegovina",
          "Brazil",
          "Bulgaria",
          "Cambodia",
          "Cameroon",
          "Canada",
          "Chile",
          "China",
          "Colombia",
          "Costa Rica",
          "Croatia",
          "Cyprus",
          "Czech Republic",
          "Denmark",
          "Dominican Republic",
          "Ecuador",
          "Egypt",
          "El Salvador",
          "Estonia",
          "Ethiopia",
          "Finland",
          "France",
          "Georgia",
          "Germany",
          "Ghana",
          "Greece",
          "Honduras",
          "Hong Kong",
          "Hungary",
          "Iceland",
          "India",
          "Indonesia",
          "Iran",
          "Iraq",
          "Ireland",
          "Isle of Man",
          "Israel",
          "Italy",
          "Ivory Coast",
          "Jamaica",
          "Japan",
          "Jordan",
          "Kazakhstan",
          "Kenya",
          "Latvia",
          "Lebanon",
          "Lithuania",
          "Macedonia",
          "Madagascar",
          "Malaysia",
          "Malta",
          "Mauritius",
          "Mexico",
          "Moldova",
          "Mongolia",
          "Morocco",
          "Mozambique",
          "Myanmar",
          "Nepal",
          "Netherlands",
          "New Zealand",
          "Nigeria",
          "North Korea",
          "Norway",
          "Pakistan",
          "Palestine",
          "Paraguay",
          "Peru",
          "Philippines",
          "Poland",
          "Portugal",
          "Puerto Rico",
          "Romania",
          "Russia",
          "Saudi Arabia",
          "Serbia",
          "Singapore",
          "Slovakia",
          "Slovenia",
          "South Africa",
          "South Korea",
          "Spain",
          "Sri Lanka",
          "Sweden",
          "Switzerland",
          "Syria",
          "Taiwan",
          "Tanzania",
          "Thailand",
          "Tunisia",
          "Turkey",
          "Uganda",
          "Ukraine",
          "United Arab Emirates",
          "United Kingdom",
          "United States",
          "Uruguay",
          "Uzbekistan",
          "Venezuela",
          "Vietnam",
          "Zambia",
          "Zimbabwe"
         ],
         "name": "",
         "type": "choropleth",
         "z": [
          20229.6875,
          5108.363636363638,
          4070.727272727272,
          2586.25,
          17873,
          889.2590613718421,
          6163.093798449612,
          1692.1604196036205,
          7390.493331745656,
          5384.2868217054265,
          22327,
          452.2000000000007,
          831.4693877551017,
          9608.846783625733,
          84790,
          21525.953125,
          337.0386212038211,
          4595.76738197425,
          11667.2,
          1625.5789473684208,
          2354.1884745762727,
          623.6825396825388,
          4446.147107438017,
          8837.120501635769,
          8470.074074074073,
          6022.886956521739,
          7407.727272727272,
          4765.357344632768,
          1743.1750242639973,
          7734.33407079646,
          11647.42857142857,
          2166.944029850747,
          5636.666666666666,
          10197.501373626372,
          4389.578947368421,
          75.83714285714086,
          131.01174960049684,
          9184.842592592591,
          4285.841340969542,
          4183.1,
          662.3151162790709,
          10359,
          2104.108974358973,
          2714.7766990291275,
          3833.466666666667,
          1031.409627955578,
          229.5540780141855,
          2106.246979865771,
          3148.21052631579,
          1915.7127086007677,
          2908,
          18108.71443358252,
          702.488602329453,
          4503,
          1319.588235294117,
          2057.3474470734727,
          10971.514285714286,
          1771.416666666666,
          8534.4609375,
          4471.642857142859,
          3287.5325670498096,
          12229.282485875705,
          3464.333333333332,
          5814,
          4814.371496720333,
          5841.511111111111,
          4209.636363636364,
          2666.954513148543,
          12040.900000000001,
          59021.2380952381,
          5902.731292517007,
          7860,
          2310.9333333333334,
          3640.4224598930487,
          1845.2191780821922,
          1308.605273833673,
          1956.653664302601,
          4178.5,
          7693.083333333336,
          811.4547296674955,
          4902.666666666666,
          6289.473684210527,
          1180.9333333333325,
          1737.7111111111108,
          5652.568241903504,
          326.3221288515415,
          30000,
          581.7549844339919,
          3823.9702474986843,
          22466.16216216216,
          7483.235354049924,
          2545.2535014005553,
          1947.7332089552256,
          9914.42480620155,
          1676.5725165562908,
          7750,
          2715.4990656892332,
          2060.094069529653,
          2255.9941944847596,
          1951.2054816869204,
          11091.619047619048,
          2901.6846153846127,
          9653.454545454544,
          9889.36842105263,
          4777.688888888889,
          3776.9565571103158,
          6526.484848484848,
          1654.5890843482157,
          6674.540000000001,
          4035.937314905459,
          3431.5972985516273,
          8916.25,
          6000.09756097561,
          8584.954022988506,
          176.38461538461524,
          3826.75,
          3991.666666666668
         ]
        }
       ],
       "layout": {
        "coloraxis": {
         "cmax": 84790,
         "cmin": 0,
         "colorbar": {
          "title": {
           "text": "SalaryGap"
          }
         },
         "colorscale": [
          [
           0,
           "rgb(255,247,236)"
          ],
          [
           0.125,
           "rgb(254,232,200)"
          ],
          [
           0.25,
           "rgb(253,212,158)"
          ],
          [
           0.375,
           "rgb(253,187,132)"
          ],
          [
           0.5,
           "rgb(252,141,89)"
          ],
          [
           0.625,
           "rgb(239,101,72)"
          ],
          [
           0.75,
           "rgb(215,48,31)"
          ],
          [
           0.875,
           "rgb(179,0,0)"
          ],
          [
           1,
           "rgb(127,0,0)"
          ]
         ]
        },
        "geo": {
         "center": {},
         "domain": {
          "x": [
           0,
           1
          ],
          "y": [
           0,
           1
          ]
         },
         "oceancolor": "#a8d5f2",
         "showcoastlines": false,
         "showcountries": true,
         "showocean": true
        },
        "legend": {
         "tracegroupgap": 0
        },
        "margin": {
         "b": 0,
         "l": 10,
         "r": 0,
         "t": 40
        },
        "sliders": [
         {
          "active": 0,
          "currentvalue": {
           "prefix": "Age: "
          },
          "steps": [
           {
            "args": [
             {
              "z": [
               [
                20229.6875,
                5108.363636363638,
                4070.727272727272,
                2586.25,
                17873,
                889.2590613718421,
                6163.093798449612,
                1692.1604196036205,
                7390.493331745656,
                5384.2868217054265,
                22327,
                452.2000000000007,
                831.4693877551017,
                9608.846783625733,
                84790,
                21525.953125,
                337.0386212038211,
                4595.76738197425,
                11667.2,
                1625.5789473684208,
                2354.1884745762727,
                623.6825396825388,
                4446.147107438017,
                8837.120501635769,
                8470.074074074073,
                6022.886956521739,
                7407.727272727272,
                4765.357344632768,
                1743.1750242639973,
                7734.33407079646,
                11647.42857142857,
                2166.944029850747,
                5636.666666666666,
                10197.501373626372,
                4389.578947368421,
                75.83714285714086,
                131.01174960049684,
                9184.842592592591,
                4285.841340969542,
                4183.1,
                662.3151162790709,
                10359,
                2104.108974358973,
                2714.7766990291275,
                3833.466666666667,
                1031.409627955578,
                229.5540780141855,
                2106.246979865771,
                3148.21052631579,
                1915.7127086007677,
                2908,
                18108.71443358252,
                702.488602329453,
                4503,
                1319.588235294117,
                2057.3474470734727,
                10971.514285714286,
                1771.416666666666,
                8534.4609375,
                4471.642857142859,
                3287.5325670498096,
                12229.282485875705,
                3464.333333333332,
                5814,
                4814.371496720333,
                5841.511111111111,
                4209.636363636364,
                2666.954513148543,
                12040.900000000001,
                59021.2380952381,
                5902.731292517007,
                7860,
                2310.9333333333334,
                3640.4224598930487,
                1845.2191780821922,
                1308.605273833673,
                1956.653664302601,
                4178.5,
                7693.083333333336,
                811.4547296674955,
                4902.666666666666,
                6289.473684210527,
                1180.9333333333325,
                1737.7111111111108,
                5652.568241903504,
                326.3221288515415,
                30000,
                581.7549844339919,
                3823.9702474986843,
                22466.16216216216,
                7483.235354049924,
                2545.2535014005553,
                1947.7332089552256,
                9914.42480620155,
                1676.5725165562908,
                7750,
                2715.4990656892332,
                2060.094069529653,
                2255.9941944847596,
                1951.2054816869204,
                11091.619047619048,
                2901.6846153846127,
                9653.454545454544,
                9889.36842105263,
                4777.688888888889,
                3776.9565571103158,
                6526.484848484848,
                1654.5890843482157,
                6674.540000000001,
                4035.937314905459,
                3431.5972985516273,
                8916.25,
                6000.09756097561,
                8584.954022988506,
                176.38461538461524,
                3826.75,
                3991.666666666668
               ]
              ]
             },
             {
              "title": "Global salary gap distribution in dollars between men and women (18-24 years old)"
             }
            ],
            "label": "18-24",
            "method": "update"
           },
           {
            "args": [
             {
              "z": [
               [
                5043.225806451614,
                7955.216517857145,
                2291.1126760563384,
                5345.232966120879,
                2205.9461538461546,
                7831.704002733997,
                9516.161266643328,
                69603,
                226.26666666666642,
                1841.2268796992485,
                13907.612869198314,
                11270.008333333339,
                7884.9285714285725,
                12083.62056414923,
                2890.367398332084,
                6264.041178987645,
                5072.588235294119,
                8315.765152102933,
                1248.5652271034996,
                12144.899509803923,
                7825.70735042735,
                5231.340966921125,
                10132.92142857143,
                3230.4571428571435,
                13933.578431372553,
                3336.5431556916155,
                9433.562807220456,
                8755.35451977401,
                11336.25396825397,
                1817.8014973262052,
                3762.4197530864185,
                3657.209198813056,
                3173.623880597017,
                17472.6,
                2322.9664968873767,
                7360.911614471268,
                5000,
                16597.407494145198,
                5790.926987324921,
                39384.55445544554,
                1154.6039303150574,
                7088.456140350878,
                5124,
                13960.25641025641,
                7273.338081273563,
                10373.75142118863,
                2250.0727272727236,
                3352.609223418127,
                6278.096114519427,
                8406.089952531645,
                15628.142857142859,
                4404.694580172298,
                28211,
                12217.149601446625,
                6714.138415922647,
                9157.375,
                11577.963786471526,
                18450.138814016173,
                6702.723577235771,
                3681.3121107266415,
                10857.919999999998,
                12091.310344827587,
                17385.82113821138,
                3136.244485294119,
                11293.024061210112,
                28221.966292134828,
                4661.074468085106,
                4762.280000000001,
                4818.272024428272,
                4420.7692307692305,
                1405.0697674418625,
                7674.5,
                3531.707458634399,
                25382.550000000003,
                13323.479925303456,
                21487.95,
                22286.4,
                9391.74609929078,
                11745.978038629386,
                6278.672287291331,
                13469.81818181818,
                3270.801171801173,
                48515.59090909091,
                10610.065025252523,
                5763.1742751451675,
                8753,
                1552.468791208792,
                2018.5952380952367,
                11326.172949002219,
                15331.995169082125,
                3630.624062519695,
                12266.022042025455,
                6179.393547990909,
                14191.76470588235,
                10954.504236746856,
                5902.6201897465835,
                12071.516161616164,
                10134.679780639006,
                21770.19459141681,
                12083.964721485412,
                11968.60548807917,
                6470.603874272143,
                15708.333333333336,
                5872.773016025465,
                39.78227446312485,
                87.45454545454595,
                7596,
                4103.071896166795,
                8150.727958510135,
                3652.875,
                8880.274718679673,
                2557.317829457359,
                8405.400000000001,
                6230.236150234741,
                4290.792680797189,
                4890.597402597403,
                10193.880705079602,
                18154.443307086614,
                10523.71425208971,
                5706.845666474197,
                5287.803846153845,
                20869.175,
                6652.375939849624,
                2099.17528735632,
                8873.055555555555,
                20123.684210526317
               ]
              ]
             },
             {
              "title": "Global salary gap distribution in dollars between men and women (25-34 years old)"
             }
            ],
            "label": "25-34",
            "method": "update"
           },
           {
            "args": [
             {
              "z": [
               [
                21028.083333333332,
                23837.113688524587,
                20805.54758331344,
                19969.41661251896,
                37011.38202247191,
                17850.703115814227,
                151642,
                7616.8888888888905,
                20701.895833333336,
                10665.338048651505,
                15872.020609579104,
                11192.861781662767,
                28480.745341614907,
                31898.331932773108,
                14067.45273631841,
                13841.352941176476,
                25026.028169014084,
                1231.4705882352937,
                20459.83953168044,
                14723.010659676715,
                10683.0625,
                18507.462813800514,
                12374.796970781157,
                16540.857142857145,
                16576.81956895771,
                6195.891476034856,
                10882.02380952381,
                18796.43478260869,
                22337.4121037464,
                9617.017857142855,
                22306.711711711712,
                1473.142857142855,
                10769.179643765907,
                12541.071783756212,
                12644.118512780791,
                21535.45220779221,
                17381.875,
                7016.708333333336,
                15590.695652173912,
                12650,
                27550.5063559322,
                5323.510204081627,
                1699,
                11083.099999999999,
                22199.96153846153,
                10108.875,
                17838.51404494382,
                5613.42105263158,
                24152.945343511456,
                11720.475242718443,
                8908.823529411766,
                2750.2999999999993,
                9950.9012345679,
                10436.918278084719,
                8964.678571428572,
                321.4761904761908,
                31280.826666666668,
                4687.0395981087495,
                22179.87916666667,
                14556.744169443118,
                14758.536990216555,
                12442.017857142855,
                17498.203703703708,
                19953.8515625,
                6105.055614973258,
                12573.83861561866,
                18928.571428571428,
                4460.218485633246,
                5993.129629629631,
                9161.57327609053,
                20583.2212885154,
                89143.26000000001,
                20061.104651162794,
                21888.389743589745,
                24284.097705403405,
                38787.150684931505,
                16801.33244484602,
                18875.272297916046,
                41495.97321428572,
                14434.882882882883,
                14676
               ]
              ]
             },
             {
              "title": "Global salary gap distribution in dollars between men and women (35-44 years old)"
             }
            ],
            "label": "35-44",
            "method": "update"
           },
           {
            "args": [
             {
              "z": [
               [
                15471.912621359224,
                28211.201863832408,
                3686.5593220338924,
                1322.6666666666679,
                57514.17475728155,
                9864.67355371901,
                19948.675000000003,
                5234.8131868131895,
                18598.290322580644,
                8910.519999999997,
                14585.255681818177,
                941.7777777777774,
                21032.01769911505,
                24296.68025606469,
                20220.044444444444,
                25944.208333333336,
                12497,
                27375.604395604394,
                56316.97959183673,
                18635.22146118722,
                29689.43947858473,
                39306.64615384616,
                1647,
                62000,
                27549.805555555555,
                20071.238196663107,
                27842.87046632124,
                3956.619047619053,
                7474.392655367235,
                70264,
                19359.848484848488,
                13327.534883720931,
                22427.465517241377,
                26680.977272727272,
                6284.648148148146,
                13608.346938775503,
                1808.146362839616,
                6769.16492146597,
                6563.7473118279595,
                14901.476190476184,
                19432.93160671735,
                26841.460944901424
               ]
              ]
             },
             {
              "title": "Global salary gap distribution in dollars between men and women (45-54 years old)"
             }
            ],
            "label": "45-54",
            "method": "update"
           },
           {
            "args": [
             {
              "z": [
               [
                32402.3094890511,
                35498.94896331739,
                10495.666666666672,
                70831.16315789474,
                2357.158730158728,
                8892,
                32386.948275862072,
                17479.933333333334,
                20729.478260869568,
                12096.28671328671,
                22096.458333333336,
                12349,
                15815.094339622643,
                25251.215550423403,
                25931.492907160602
               ]
              ]
             },
             {
              "title": "Global salary gap distribution in dollars between men and women (55-64 years old)"
             }
            ],
            "label": "55-64",
            "method": "update"
           },
           {
            "args": [
             {
              "z": [
               [
                20681.714285714286,
                13118.452830188675,
                42519.5,
                9966.88888888889,
                8477.333333333336,
                10782.605091547535,
                51050
               ]
              ]
             },
             {
              "title": "Global salary gap distribution in dollars between men and women (65+ years old)"
             }
            ],
            "label": "65+",
            "method": "update"
           }
          ]
         }
        ],
        "template": {
         "data": {
          "bar": [
           {
            "error_x": {
             "color": "#2a3f5f"
            },
            "error_y": {
             "color": "#2a3f5f"
            },
            "marker": {
             "line": {
              "color": "#E5ECF6",
              "width": 0.5
             },
             "pattern": {
              "fillmode": "overlay",
              "size": 10,
              "solidity": 0.2
             }
            },
            "type": "bar"
           }
          ],
          "barpolar": [
           {
            "marker": {
             "line": {
              "color": "#E5ECF6",
              "width": 0.5
             },
             "pattern": {
              "fillmode": "overlay",
              "size": 10,
              "solidity": 0.2
             }
            },
            "type": "barpolar"
           }
          ],
          "carpet": [
           {
            "aaxis": {
             "endlinecolor": "#2a3f5f",
             "gridcolor": "white",
             "linecolor": "white",
             "minorgridcolor": "white",
             "startlinecolor": "#2a3f5f"
            },
            "baxis": {
             "endlinecolor": "#2a3f5f",
             "gridcolor": "white",
             "linecolor": "white",
             "minorgridcolor": "white",
             "startlinecolor": "#2a3f5f"
            },
            "type": "carpet"
           }
          ],
          "choropleth": [
           {
            "colorbar": {
             "outlinewidth": 0,
             "ticks": ""
            },
            "type": "choropleth"
           }
          ],
          "contour": [
           {
            "colorbar": {
             "outlinewidth": 0,
             "ticks": ""
            },
            "colorscale": [
             [
              0,
              "#0d0887"
             ],
             [
              0.1111111111111111,
              "#46039f"
             ],
             [
              0.2222222222222222,
              "#7201a8"
             ],
             [
              0.3333333333333333,
              "#9c179e"
             ],
             [
              0.4444444444444444,
              "#bd3786"
             ],
             [
              0.5555555555555556,
              "#d8576b"
             ],
             [
              0.6666666666666666,
              "#ed7953"
             ],
             [
              0.7777777777777778,
              "#fb9f3a"
             ],
             [
              0.8888888888888888,
              "#fdca26"
             ],
             [
              1,
              "#f0f921"
             ]
            ],
            "type": "contour"
           }
          ],
          "contourcarpet": [
           {
            "colorbar": {
             "outlinewidth": 0,
             "ticks": ""
            },
            "type": "contourcarpet"
           }
          ],
          "heatmap": [
           {
            "colorbar": {
             "outlinewidth": 0,
             "ticks": ""
            },
            "colorscale": [
             [
              0,
              "#0d0887"
             ],
             [
              0.1111111111111111,
              "#46039f"
             ],
             [
              0.2222222222222222,
              "#7201a8"
             ],
             [
              0.3333333333333333,
              "#9c179e"
             ],
             [
              0.4444444444444444,
              "#bd3786"
             ],
             [
              0.5555555555555556,
              "#d8576b"
             ],
             [
              0.6666666666666666,
              "#ed7953"
             ],
             [
              0.7777777777777778,
              "#fb9f3a"
             ],
             [
              0.8888888888888888,
              "#fdca26"
             ],
             [
              1,
              "#f0f921"
             ]
            ],
            "type": "heatmap"
           }
          ],
          "heatmapgl": [
           {
            "colorbar": {
             "outlinewidth": 0,
             "ticks": ""
            },
            "colorscale": [
             [
              0,
              "#0d0887"
             ],
             [
              0.1111111111111111,
              "#46039f"
             ],
             [
              0.2222222222222222,
              "#7201a8"
             ],
             [
              0.3333333333333333,
              "#9c179e"
             ],
             [
              0.4444444444444444,
              "#bd3786"
             ],
             [
              0.5555555555555556,
              "#d8576b"
             ],
             [
              0.6666666666666666,
              "#ed7953"
             ],
             [
              0.7777777777777778,
              "#fb9f3a"
             ],
             [
              0.8888888888888888,
              "#fdca26"
             ],
             [
              1,
              "#f0f921"
             ]
            ],
            "type": "heatmapgl"
           }
          ],
          "histogram": [
           {
            "marker": {
             "pattern": {
              "fillmode": "overlay",
              "size": 10,
              "solidity": 0.2
             }
            },
            "type": "histogram"
           }
          ],
          "histogram2d": [
           {
            "colorbar": {
             "outlinewidth": 0,
             "ticks": ""
            },
            "colorscale": [
             [
              0,
              "#0d0887"
             ],
             [
              0.1111111111111111,
              "#46039f"
             ],
             [
              0.2222222222222222,
              "#7201a8"
             ],
             [
              0.3333333333333333,
              "#9c179e"
             ],
             [
              0.4444444444444444,
              "#bd3786"
             ],
             [
              0.5555555555555556,
              "#d8576b"
             ],
             [
              0.6666666666666666,
              "#ed7953"
             ],
             [
              0.7777777777777778,
              "#fb9f3a"
             ],
             [
              0.8888888888888888,
              "#fdca26"
             ],
             [
              1,
              "#f0f921"
             ]
            ],
            "type": "histogram2d"
           }
          ],
          "histogram2dcontour": [
           {
            "colorbar": {
             "outlinewidth": 0,
             "ticks": ""
            },
            "colorscale": [
             [
              0,
              "#0d0887"
             ],
             [
              0.1111111111111111,
              "#46039f"
             ],
             [
              0.2222222222222222,
              "#7201a8"
             ],
             [
              0.3333333333333333,
              "#9c179e"
             ],
             [
              0.4444444444444444,
              "#bd3786"
             ],
             [
              0.5555555555555556,
              "#d8576b"
             ],
             [
              0.6666666666666666,
              "#ed7953"
             ],
             [
              0.7777777777777778,
              "#fb9f3a"
             ],
             [
              0.8888888888888888,
              "#fdca26"
             ],
             [
              1,
              "#f0f921"
             ]
            ],
            "type": "histogram2dcontour"
           }
          ],
          "mesh3d": [
           {
            "colorbar": {
             "outlinewidth": 0,
             "ticks": ""
            },
            "type": "mesh3d"
           }
          ],
          "parcoords": [
           {
            "line": {
             "colorbar": {
              "outlinewidth": 0,
              "ticks": ""
             }
            },
            "type": "parcoords"
           }
          ],
          "pie": [
           {
            "automargin": true,
            "type": "pie"
           }
          ],
          "scatter": [
           {
            "fillpattern": {
             "fillmode": "overlay",
             "size": 10,
             "solidity": 0.2
            },
            "type": "scatter"
           }
          ],
          "scatter3d": [
           {
            "line": {
             "colorbar": {
              "outlinewidth": 0,
              "ticks": ""
             }
            },
            "marker": {
             "colorbar": {
              "outlinewidth": 0,
              "ticks": ""
             }
            },
            "type": "scatter3d"
           }
          ],
          "scattercarpet": [
           {
            "marker": {
             "colorbar": {
              "outlinewidth": 0,
              "ticks": ""
             }
            },
            "type": "scattercarpet"
           }
          ],
          "scattergeo": [
           {
            "marker": {
             "colorbar": {
              "outlinewidth": 0,
              "ticks": ""
             }
            },
            "type": "scattergeo"
           }
          ],
          "scattergl": [
           {
            "marker": {
             "colorbar": {
              "outlinewidth": 0,
              "ticks": ""
             }
            },
            "type": "scattergl"
           }
          ],
          "scattermapbox": [
           {
            "marker": {
             "colorbar": {
              "outlinewidth": 0,
              "ticks": ""
             }
            },
            "type": "scattermapbox"
           }
          ],
          "scatterpolar": [
           {
            "marker": {
             "colorbar": {
              "outlinewidth": 0,
              "ticks": ""
             }
            },
            "type": "scatterpolar"
           }
          ],
          "scatterpolargl": [
           {
            "marker": {
             "colorbar": {
              "outlinewidth": 0,
              "ticks": ""
             }
            },
            "type": "scatterpolargl"
           }
          ],
          "scatterternary": [
           {
            "marker": {
             "colorbar": {
              "outlinewidth": 0,
              "ticks": ""
             }
            },
            "type": "scatterternary"
           }
          ],
          "surface": [
           {
            "colorbar": {
             "outlinewidth": 0,
             "ticks": ""
            },
            "colorscale": [
             [
              0,
              "#0d0887"
             ],
             [
              0.1111111111111111,
              "#46039f"
             ],
             [
              0.2222222222222222,
              "#7201a8"
             ],
             [
              0.3333333333333333,
              "#9c179e"
             ],
             [
              0.4444444444444444,
              "#bd3786"
             ],
             [
              0.5555555555555556,
              "#d8576b"
             ],
             [
              0.6666666666666666,
              "#ed7953"
             ],
             [
              0.7777777777777778,
              "#fb9f3a"
             ],
             [
              0.8888888888888888,
              "#fdca26"
             ],
             [
              1,
              "#f0f921"
             ]
            ],
            "type": "surface"
           }
          ],
          "table": [
           {
            "cells": {
             "fill": {
              "color": "#EBF0F8"
             },
             "line": {
              "color": "white"
             }
            },
            "header": {
             "fill": {
              "color": "#C8D4E3"
             },
             "line": {
              "color": "white"
             }
            },
            "type": "table"
           }
          ]
         },
         "layout": {
          "annotationdefaults": {
           "arrowcolor": "#2a3f5f",
           "arrowhead": 0,
           "arrowwidth": 1
          },
          "autotypenumbers": "strict",
          "coloraxis": {
           "colorbar": {
            "outlinewidth": 0,
            "ticks": ""
           }
          },
          "colorscale": {
           "diverging": [
            [
             0,
             "#8e0152"
            ],
            [
             0.1,
             "#c51b7d"
            ],
            [
             0.2,
             "#de77ae"
            ],
            [
             0.3,
             "#f1b6da"
            ],
            [
             0.4,
             "#fde0ef"
            ],
            [
             0.5,
             "#f7f7f7"
            ],
            [
             0.6,
             "#e6f5d0"
            ],
            [
             0.7,
             "#b8e186"
            ],
            [
             0.8,
             "#7fbc41"
            ],
            [
             0.9,
             "#4d9221"
            ],
            [
             1,
             "#276419"
            ]
           ],
           "sequential": [
            [
             0,
             "#0d0887"
            ],
            [
             0.1111111111111111,
             "#46039f"
            ],
            [
             0.2222222222222222,
             "#7201a8"
            ],
            [
             0.3333333333333333,
             "#9c179e"
            ],
            [
             0.4444444444444444,
             "#bd3786"
            ],
            [
             0.5555555555555556,
             "#d8576b"
            ],
            [
             0.6666666666666666,
             "#ed7953"
            ],
            [
             0.7777777777777778,
             "#fb9f3a"
            ],
            [
             0.8888888888888888,
             "#fdca26"
            ],
            [
             1,
             "#f0f921"
            ]
           ],
           "sequentialminus": [
            [
             0,
             "#0d0887"
            ],
            [
             0.1111111111111111,
             "#46039f"
            ],
            [
             0.2222222222222222,
             "#7201a8"
            ],
            [
             0.3333333333333333,
             "#9c179e"
            ],
            [
             0.4444444444444444,
             "#bd3786"
            ],
            [
             0.5555555555555556,
             "#d8576b"
            ],
            [
             0.6666666666666666,
             "#ed7953"
            ],
            [
             0.7777777777777778,
             "#fb9f3a"
            ],
            [
             0.8888888888888888,
             "#fdca26"
            ],
            [
             1,
             "#f0f921"
            ]
           ]
          },
          "colorway": [
           "#636efa",
           "#EF553B",
           "#00cc96",
           "#ab63fa",
           "#FFA15A",
           "#19d3f3",
           "#FF6692",
           "#B6E880",
           "#FF97FF",
           "#FECB52"
          ],
          "font": {
           "color": "#2a3f5f"
          },
          "geo": {
           "bgcolor": "white",
           "lakecolor": "white",
           "landcolor": "#E5ECF6",
           "showlakes": true,
           "showland": true,
           "subunitcolor": "white"
          },
          "hoverlabel": {
           "align": "left"
          },
          "hovermode": "closest",
          "mapbox": {
           "style": "light"
          },
          "paper_bgcolor": "white",
          "plot_bgcolor": "#E5ECF6",
          "polar": {
           "angularaxis": {
            "gridcolor": "white",
            "linecolor": "white",
            "ticks": ""
           },
           "bgcolor": "#E5ECF6",
           "radialaxis": {
            "gridcolor": "white",
            "linecolor": "white",
            "ticks": ""
           }
          },
          "scene": {
           "xaxis": {
            "backgroundcolor": "#E5ECF6",
            "gridcolor": "white",
            "gridwidth": 2,
            "linecolor": "white",
            "showbackground": true,
            "ticks": "",
            "zerolinecolor": "white"
           },
           "yaxis": {
            "backgroundcolor": "#E5ECF6",
            "gridcolor": "white",
            "gridwidth": 2,
            "linecolor": "white",
            "showbackground": true,
            "ticks": "",
            "zerolinecolor": "white"
           },
           "zaxis": {
            "backgroundcolor": "#E5ECF6",
            "gridcolor": "white",
            "gridwidth": 2,
            "linecolor": "white",
            "showbackground": true,
            "ticks": "",
            "zerolinecolor": "white"
           }
          },
          "shapedefaults": {
           "line": {
            "color": "#2a3f5f"
           }
          },
          "ternary": {
           "aaxis": {
            "gridcolor": "white",
            "linecolor": "white",
            "ticks": ""
           },
           "baxis": {
            "gridcolor": "white",
            "linecolor": "white",
            "ticks": ""
           },
           "bgcolor": "#E5ECF6",
           "caxis": {
            "gridcolor": "white",
            "linecolor": "white",
            "ticks": ""
           }
          },
          "title": {
           "x": 0.05
          },
          "xaxis": {
           "automargin": true,
           "gridcolor": "white",
           "linecolor": "white",
           "ticks": "",
           "title": {
            "standoff": 15
           },
           "zerolinecolor": "white",
           "zerolinewidth": 2
          },
          "yaxis": {
           "automargin": true,
           "gridcolor": "white",
           "linecolor": "white",
           "ticks": "",
           "title": {
            "standoff": 15
           },
           "zerolinecolor": "white",
           "zerolinewidth": 2
          }
         }
        },
        "title": {
         "text": "Global salary gap distribution in dollars between men and women (18-24 years old)"
        }
       }
      },
      "text/html": [
       "<div>                            <div id=\"f9e80303-ae3a-4f5f-adb5-6dc161d4ae0b\" class=\"plotly-graph-div\" style=\"height:525px; width:100%;\"></div>            <script type=\"text/javascript\">                require([\"plotly\"], function(Plotly) {                    window.PLOTLYENV=window.PLOTLYENV || {};                                    if (document.getElementById(\"f9e80303-ae3a-4f5f-adb5-6dc161d4ae0b\")) {                    Plotly.newPlot(                        \"f9e80303-ae3a-4f5f-adb5-6dc161d4ae0b\",                        [{\"coloraxis\":\"coloraxis\",\"customdata\":[[20229.6875],[5108.363636363638],[4070.727272727272],[2586.25],[17873.0],[889.2590613718421],[6163.093798449612],[1692.1604196036205],[7390.493331745656],[5384.2868217054265],[22327.0],[452.2000000000007],[831.4693877551017],[9608.846783625733],[84790.0],[21525.953125],[337.0386212038211],[4595.76738197425],[11667.2],[1625.5789473684208],[2354.1884745762727],[623.6825396825388],[4446.147107438017],[8837.120501635769],[8470.074074074073],[6022.886956521739],[7407.727272727272],[4765.357344632768],[1743.1750242639973],[7734.33407079646],[11647.42857142857],[2166.944029850747],[5636.666666666666],[10197.501373626372],[4389.578947368421],[75.83714285714086],[131.01174960049684],[9184.842592592591],[4285.841340969542],[4183.1],[662.3151162790709],[10359.0],[2104.108974358973],[2714.7766990291275],[3833.466666666667],[1031.409627955578],[229.5540780141855],[2106.246979865771],[3148.21052631579],[1915.7127086007677],[2908.0],[18108.71443358252],[702.488602329453],[4503.0],[1319.588235294117],[2057.3474470734727],[10971.514285714286],[1771.416666666666],[8534.4609375],[4471.642857142859],[3287.5325670498096],[12229.282485875705],[3464.333333333332],[5814.0],[4814.371496720333],[5841.511111111111],[4209.636363636364],[2666.954513148543],[12040.900000000001],[59021.2380952381],[5902.731292517007],[7860.0],[2310.9333333333334],[3640.4224598930487],[1845.2191780821922],[1308.605273833673],[1956.653664302601],[4178.5],[7693.083333333336],[811.4547296674955],[4902.666666666666],[6289.473684210527],[1180.9333333333325],[1737.7111111111108],[5652.568241903504],[326.3221288515415],[30000.0],[581.7549844339919],[3823.9702474986843],[22466.16216216216],[7483.235354049924],[2545.2535014005553],[1947.7332089552256],[9914.42480620155],[1676.5725165562908],[7750.0],[2715.4990656892332],[2060.094069529653],[2255.9941944847596],[1951.2054816869204],[11091.619047619048],[2901.6846153846127],[9653.454545454544],[9889.36842105263],[4777.688888888889],[3776.9565571103158],[6526.484848484848],[1654.5890843482157],[6674.540000000001],[4035.937314905459],[3431.5972985516273],[8916.25],[6000.09756097561],[8584.954022988506],[176.38461538461524],[3826.75],[3991.666666666668]],\"geo\":\"geo\",\"hovertemplate\":\"Country=%{location}<br>SalaryGap=%{z:$d}<extra></extra>\",\"locationmode\":\"country names\",\"locations\":[\"Afghanistan\",\"Albania\",\"Algeria\",\"Andorra\",\"Angola\",\"Argentina\",\"Armenia\",\"Australia\",\"Austria\",\"Azerbaijan\",\"Bahrain\",\"Bangladesh\",\"Belarus\",\"Belgium\",\"Bhutan\",\"Bosnia and Herzegovina\",\"Brazil\",\"Bulgaria\",\"Cambodia\",\"Cameroon\",\"Canada\",\"Chile\",\"China\",\"Colombia\",\"Costa Rica\",\"Croatia\",\"Cyprus\",\"Czech Republic\",\"Denmark\",\"Dominican Republic\",\"Ecuador\",\"Egypt\",\"El Salvador\",\"Estonia\",\"Ethiopia\",\"Finland\",\"France\",\"Georgia\",\"Germany\",\"Ghana\",\"Greece\",\"Honduras\",\"Hong Kong\",\"Hungary\",\"Iceland\",\"India\",\"Indonesia\",\"Iran\",\"Iraq\",\"Ireland\",\"Isle of Man\",\"Israel\",\"Italy\",\"Ivory Coast\",\"Jamaica\",\"Japan\",\"Jordan\",\"Kazakhstan\",\"Kenya\",\"Latvia\",\"Lebanon\",\"Lithuania\",\"Macedonia\",\"Madagascar\",\"Malaysia\",\"Malta\",\"Mauritius\",\"Mexico\",\"Moldova\",\"Mongolia\",\"Morocco\",\"Mozambique\",\"Myanmar\",\"Nepal\",\"Netherlands\",\"New Zealand\",\"Nigeria\",\"North Korea\",\"Norway\",\"Pakistan\",\"Palestine\",\"Paraguay\",\"Peru\",\"Philippines\",\"Poland\",\"Portugal\",\"Puerto Rico\",\"Romania\",\"Russia\",\"Saudi Arabia\",\"Serbia\",\"Singapore\",\"Slovakia\",\"Slovenia\",\"South Africa\",\"South Korea\",\"Spain\",\"Sri Lanka\",\"Sweden\",\"Switzerland\",\"Syria\",\"Taiwan\",\"Tanzania\",\"Thailand\",\"Tunisia\",\"Turkey\",\"Uganda\",\"Ukraine\",\"United Arab Emirates\",\"United Kingdom\",\"United States\",\"Uruguay\",\"Uzbekistan\",\"Venezuela\",\"Vietnam\",\"Zambia\",\"Zimbabwe\"],\"name\":\"\",\"z\":[20229.6875,5108.363636363638,4070.727272727272,2586.25,17873.0,889.2590613718421,6163.093798449612,1692.1604196036205,7390.493331745656,5384.2868217054265,22327.0,452.2000000000007,831.4693877551017,9608.846783625733,84790.0,21525.953125,337.0386212038211,4595.76738197425,11667.2,1625.5789473684208,2354.1884745762727,623.6825396825388,4446.147107438017,8837.120501635769,8470.074074074073,6022.886956521739,7407.727272727272,4765.357344632768,1743.1750242639973,7734.33407079646,11647.42857142857,2166.944029850747,5636.666666666666,10197.501373626372,4389.578947368421,75.83714285714086,131.01174960049684,9184.842592592591,4285.841340969542,4183.1,662.3151162790709,10359.0,2104.108974358973,2714.7766990291275,3833.466666666667,1031.409627955578,229.5540780141855,2106.246979865771,3148.21052631579,1915.7127086007677,2908.0,18108.71443358252,702.488602329453,4503.0,1319.588235294117,2057.3474470734727,10971.514285714286,1771.416666666666,8534.4609375,4471.642857142859,3287.5325670498096,12229.282485875705,3464.333333333332,5814.0,4814.371496720333,5841.511111111111,4209.636363636364,2666.954513148543,12040.900000000001,59021.2380952381,5902.731292517007,7860.0,2310.9333333333334,3640.4224598930487,1845.2191780821922,1308.605273833673,1956.653664302601,4178.5,7693.083333333336,811.4547296674955,4902.666666666666,6289.473684210527,1180.9333333333325,1737.7111111111108,5652.568241903504,326.3221288515415,30000.0,581.7549844339919,3823.9702474986843,22466.16216216216,7483.235354049924,2545.2535014005553,1947.7332089552256,9914.42480620155,1676.5725165562908,7750.0,2715.4990656892332,2060.094069529653,2255.9941944847596,1951.2054816869204,11091.619047619048,2901.6846153846127,9653.454545454544,9889.36842105263,4777.688888888889,3776.9565571103158,6526.484848484848,1654.5890843482157,6674.540000000001,4035.937314905459,3431.5972985516273,8916.25,6000.09756097561,8584.954022988506,176.38461538461524,3826.75,3991.666666666668],\"type\":\"choropleth\"}],                        {\"template\":{\"data\":{\"histogram2dcontour\":[{\"type\":\"histogram2dcontour\",\"colorbar\":{\"outlinewidth\":0,\"ticks\":\"\"},\"colorscale\":[[0.0,\"#0d0887\"],[0.1111111111111111,\"#46039f\"],[0.2222222222222222,\"#7201a8\"],[0.3333333333333333,\"#9c179e\"],[0.4444444444444444,\"#bd3786\"],[0.5555555555555556,\"#d8576b\"],[0.6666666666666666,\"#ed7953\"],[0.7777777777777778,\"#fb9f3a\"],[0.8888888888888888,\"#fdca26\"],[1.0,\"#f0f921\"]]}],\"choropleth\":[{\"type\":\"choropleth\",\"colorbar\":{\"outlinewidth\":0,\"ticks\":\"\"}}],\"histogram2d\":[{\"type\":\"histogram2d\",\"colorbar\":{\"outlinewidth\":0,\"ticks\":\"\"},\"colorscale\":[[0.0,\"#0d0887\"],[0.1111111111111111,\"#46039f\"],[0.2222222222222222,\"#7201a8\"],[0.3333333333333333,\"#9c179e\"],[0.4444444444444444,\"#bd3786\"],[0.5555555555555556,\"#d8576b\"],[0.6666666666666666,\"#ed7953\"],[0.7777777777777778,\"#fb9f3a\"],[0.8888888888888888,\"#fdca26\"],[1.0,\"#f0f921\"]]}],\"heatmap\":[{\"type\":\"heatmap\",\"colorbar\":{\"outlinewidth\":0,\"ticks\":\"\"},\"colorscale\":[[0.0,\"#0d0887\"],[0.1111111111111111,\"#46039f\"],[0.2222222222222222,\"#7201a8\"],[0.3333333333333333,\"#9c179e\"],[0.4444444444444444,\"#bd3786\"],[0.5555555555555556,\"#d8576b\"],[0.6666666666666666,\"#ed7953\"],[0.7777777777777778,\"#fb9f3a\"],[0.8888888888888888,\"#fdca26\"],[1.0,\"#f0f921\"]]}],\"heatmapgl\":[{\"type\":\"heatmapgl\",\"colorbar\":{\"outlinewidth\":0,\"ticks\":\"\"},\"colorscale\":[[0.0,\"#0d0887\"],[0.1111111111111111,\"#46039f\"],[0.2222222222222222,\"#7201a8\"],[0.3333333333333333,\"#9c179e\"],[0.4444444444444444,\"#bd3786\"],[0.5555555555555556,\"#d8576b\"],[0.6666666666666666,\"#ed7953\"],[0.7777777777777778,\"#fb9f3a\"],[0.8888888888888888,\"#fdca26\"],[1.0,\"#f0f921\"]]}],\"contourcarpet\":[{\"type\":\"contourcarpet\",\"colorbar\":{\"outlinewidth\":0,\"ticks\":\"\"}}],\"contour\":[{\"type\":\"contour\",\"colorbar\":{\"outlinewidth\":0,\"ticks\":\"\"},\"colorscale\":[[0.0,\"#0d0887\"],[0.1111111111111111,\"#46039f\"],[0.2222222222222222,\"#7201a8\"],[0.3333333333333333,\"#9c179e\"],[0.4444444444444444,\"#bd3786\"],[0.5555555555555556,\"#d8576b\"],[0.6666666666666666,\"#ed7953\"],[0.7777777777777778,\"#fb9f3a\"],[0.8888888888888888,\"#fdca26\"],[1.0,\"#f0f921\"]]}],\"surface\":[{\"type\":\"surface\",\"colorbar\":{\"outlinewidth\":0,\"ticks\":\"\"},\"colorscale\":[[0.0,\"#0d0887\"],[0.1111111111111111,\"#46039f\"],[0.2222222222222222,\"#7201a8\"],[0.3333333333333333,\"#9c179e\"],[0.4444444444444444,\"#bd3786\"],[0.5555555555555556,\"#d8576b\"],[0.6666666666666666,\"#ed7953\"],[0.7777777777777778,\"#fb9f3a\"],[0.8888888888888888,\"#fdca26\"],[1.0,\"#f0f921\"]]}],\"mesh3d\":[{\"type\":\"mesh3d\",\"colorbar\":{\"outlinewidth\":0,\"ticks\":\"\"}}],\"scatter\":[{\"fillpattern\":{\"fillmode\":\"overlay\",\"size\":10,\"solidity\":0.2},\"type\":\"scatter\"}],\"parcoords\":[{\"type\":\"parcoords\",\"line\":{\"colorbar\":{\"outlinewidth\":0,\"ticks\":\"\"}}}],\"scatterpolargl\":[{\"type\":\"scatterpolargl\",\"marker\":{\"colorbar\":{\"outlinewidth\":0,\"ticks\":\"\"}}}],\"bar\":[{\"error_x\":{\"color\":\"#2a3f5f\"},\"error_y\":{\"color\":\"#2a3f5f\"},\"marker\":{\"line\":{\"color\":\"#E5ECF6\",\"width\":0.5},\"pattern\":{\"fillmode\":\"overlay\",\"size\":10,\"solidity\":0.2}},\"type\":\"bar\"}],\"scattergeo\":[{\"type\":\"scattergeo\",\"marker\":{\"colorbar\":{\"outlinewidth\":0,\"ticks\":\"\"}}}],\"scatterpolar\":[{\"type\":\"scatterpolar\",\"marker\":{\"colorbar\":{\"outlinewidth\":0,\"ticks\":\"\"}}}],\"histogram\":[{\"marker\":{\"pattern\":{\"fillmode\":\"overlay\",\"size\":10,\"solidity\":0.2}},\"type\":\"histogram\"}],\"scattergl\":[{\"type\":\"scattergl\",\"marker\":{\"colorbar\":{\"outlinewidth\":0,\"ticks\":\"\"}}}],\"scatter3d\":[{\"type\":\"scatter3d\",\"line\":{\"colorbar\":{\"outlinewidth\":0,\"ticks\":\"\"}},\"marker\":{\"colorbar\":{\"outlinewidth\":0,\"ticks\":\"\"}}}],\"scattermapbox\":[{\"type\":\"scattermapbox\",\"marker\":{\"colorbar\":{\"outlinewidth\":0,\"ticks\":\"\"}}}],\"scatterternary\":[{\"type\":\"scatterternary\",\"marker\":{\"colorbar\":{\"outlinewidth\":0,\"ticks\":\"\"}}}],\"scattercarpet\":[{\"type\":\"scattercarpet\",\"marker\":{\"colorbar\":{\"outlinewidth\":0,\"ticks\":\"\"}}}],\"carpet\":[{\"aaxis\":{\"endlinecolor\":\"#2a3f5f\",\"gridcolor\":\"white\",\"linecolor\":\"white\",\"minorgridcolor\":\"white\",\"startlinecolor\":\"#2a3f5f\"},\"baxis\":{\"endlinecolor\":\"#2a3f5f\",\"gridcolor\":\"white\",\"linecolor\":\"white\",\"minorgridcolor\":\"white\",\"startlinecolor\":\"#2a3f5f\"},\"type\":\"carpet\"}],\"table\":[{\"cells\":{\"fill\":{\"color\":\"#EBF0F8\"},\"line\":{\"color\":\"white\"}},\"header\":{\"fill\":{\"color\":\"#C8D4E3\"},\"line\":{\"color\":\"white\"}},\"type\":\"table\"}],\"barpolar\":[{\"marker\":{\"line\":{\"color\":\"#E5ECF6\",\"width\":0.5},\"pattern\":{\"fillmode\":\"overlay\",\"size\":10,\"solidity\":0.2}},\"type\":\"barpolar\"}],\"pie\":[{\"automargin\":true,\"type\":\"pie\"}]},\"layout\":{\"autotypenumbers\":\"strict\",\"colorway\":[\"#636efa\",\"#EF553B\",\"#00cc96\",\"#ab63fa\",\"#FFA15A\",\"#19d3f3\",\"#FF6692\",\"#B6E880\",\"#FF97FF\",\"#FECB52\"],\"font\":{\"color\":\"#2a3f5f\"},\"hovermode\":\"closest\",\"hoverlabel\":{\"align\":\"left\"},\"paper_bgcolor\":\"white\",\"plot_bgcolor\":\"#E5ECF6\",\"polar\":{\"bgcolor\":\"#E5ECF6\",\"angularaxis\":{\"gridcolor\":\"white\",\"linecolor\":\"white\",\"ticks\":\"\"},\"radialaxis\":{\"gridcolor\":\"white\",\"linecolor\":\"white\",\"ticks\":\"\"}},\"ternary\":{\"bgcolor\":\"#E5ECF6\",\"aaxis\":{\"gridcolor\":\"white\",\"linecolor\":\"white\",\"ticks\":\"\"},\"baxis\":{\"gridcolor\":\"white\",\"linecolor\":\"white\",\"ticks\":\"\"},\"caxis\":{\"gridcolor\":\"white\",\"linecolor\":\"white\",\"ticks\":\"\"}},\"coloraxis\":{\"colorbar\":{\"outlinewidth\":0,\"ticks\":\"\"}},\"colorscale\":{\"sequential\":[[0.0,\"#0d0887\"],[0.1111111111111111,\"#46039f\"],[0.2222222222222222,\"#7201a8\"],[0.3333333333333333,\"#9c179e\"],[0.4444444444444444,\"#bd3786\"],[0.5555555555555556,\"#d8576b\"],[0.6666666666666666,\"#ed7953\"],[0.7777777777777778,\"#fb9f3a\"],[0.8888888888888888,\"#fdca26\"],[1.0,\"#f0f921\"]],\"sequentialminus\":[[0.0,\"#0d0887\"],[0.1111111111111111,\"#46039f\"],[0.2222222222222222,\"#7201a8\"],[0.3333333333333333,\"#9c179e\"],[0.4444444444444444,\"#bd3786\"],[0.5555555555555556,\"#d8576b\"],[0.6666666666666666,\"#ed7953\"],[0.7777777777777778,\"#fb9f3a\"],[0.8888888888888888,\"#fdca26\"],[1.0,\"#f0f921\"]],\"diverging\":[[0,\"#8e0152\"],[0.1,\"#c51b7d\"],[0.2,\"#de77ae\"],[0.3,\"#f1b6da\"],[0.4,\"#fde0ef\"],[0.5,\"#f7f7f7\"],[0.6,\"#e6f5d0\"],[0.7,\"#b8e186\"],[0.8,\"#7fbc41\"],[0.9,\"#4d9221\"],[1,\"#276419\"]]},\"xaxis\":{\"gridcolor\":\"white\",\"linecolor\":\"white\",\"ticks\":\"\",\"title\":{\"standoff\":15},\"zerolinecolor\":\"white\",\"automargin\":true,\"zerolinewidth\":2},\"yaxis\":{\"gridcolor\":\"white\",\"linecolor\":\"white\",\"ticks\":\"\",\"title\":{\"standoff\":15},\"zerolinecolor\":\"white\",\"automargin\":true,\"zerolinewidth\":2},\"scene\":{\"xaxis\":{\"backgroundcolor\":\"#E5ECF6\",\"gridcolor\":\"white\",\"linecolor\":\"white\",\"showbackground\":true,\"ticks\":\"\",\"zerolinecolor\":\"white\",\"gridwidth\":2},\"yaxis\":{\"backgroundcolor\":\"#E5ECF6\",\"gridcolor\":\"white\",\"linecolor\":\"white\",\"showbackground\":true,\"ticks\":\"\",\"zerolinecolor\":\"white\",\"gridwidth\":2},\"zaxis\":{\"backgroundcolor\":\"#E5ECF6\",\"gridcolor\":\"white\",\"linecolor\":\"white\",\"showbackground\":true,\"ticks\":\"\",\"zerolinecolor\":\"white\",\"gridwidth\":2}},\"shapedefaults\":{\"line\":{\"color\":\"#2a3f5f\"}},\"annotationdefaults\":{\"arrowcolor\":\"#2a3f5f\",\"arrowhead\":0,\"arrowwidth\":1},\"geo\":{\"bgcolor\":\"white\",\"landcolor\":\"#E5ECF6\",\"subunitcolor\":\"white\",\"showland\":true,\"showlakes\":true,\"lakecolor\":\"white\"},\"title\":{\"x\":0.05},\"mapbox\":{\"style\":\"light\"}}},\"geo\":{\"domain\":{\"x\":[0.0,1.0],\"y\":[0.0,1.0]},\"center\":{},\"showcountries\":true,\"showcoastlines\":false,\"showocean\":true,\"oceancolor\":\"#a8d5f2\"},\"coloraxis\":{\"colorbar\":{\"title\":{\"text\":\"SalaryGap\"}},\"colorscale\":[[0.0,\"rgb(255,247,236)\"],[0.125,\"rgb(254,232,200)\"],[0.25,\"rgb(253,212,158)\"],[0.375,\"rgb(253,187,132)\"],[0.5,\"rgb(252,141,89)\"],[0.625,\"rgb(239,101,72)\"],[0.75,\"rgb(215,48,31)\"],[0.875,\"rgb(179,0,0)\"],[1.0,\"rgb(127,0,0)\"]],\"cmin\":0,\"cmax\":84790.0},\"legend\":{\"tracegroupgap\":0},\"title\":{\"text\":\"Global salary gap distribution in dollars between men and women (18-24 years old)\"},\"margin\":{\"t\":40,\"r\":0,\"b\":0,\"l\":10},\"sliders\":[{\"active\":0,\"currentvalue\":{\"prefix\":\"Age: \"},\"steps\":[{\"args\":[{\"z\":[[20229.6875,5108.363636363638,4070.727272727272,2586.25,17873.0,889.2590613718421,6163.093798449612,1692.1604196036205,7390.493331745656,5384.2868217054265,22327.0,452.2000000000007,831.4693877551017,9608.846783625733,84790.0,21525.953125,337.0386212038211,4595.76738197425,11667.2,1625.5789473684208,2354.1884745762727,623.6825396825388,4446.147107438017,8837.120501635769,8470.074074074073,6022.886956521739,7407.727272727272,4765.357344632768,1743.1750242639973,7734.33407079646,11647.42857142857,2166.944029850747,5636.666666666666,10197.501373626372,4389.578947368421,75.83714285714086,131.01174960049684,9184.842592592591,4285.841340969542,4183.1,662.3151162790709,10359.0,2104.108974358973,2714.7766990291275,3833.466666666667,1031.409627955578,229.5540780141855,2106.246979865771,3148.21052631579,1915.7127086007677,2908.0,18108.71443358252,702.488602329453,4503.0,1319.588235294117,2057.3474470734727,10971.514285714286,1771.416666666666,8534.4609375,4471.642857142859,3287.5325670498096,12229.282485875705,3464.333333333332,5814.0,4814.371496720333,5841.511111111111,4209.636363636364,2666.954513148543,12040.900000000001,59021.2380952381,5902.731292517007,7860.0,2310.9333333333334,3640.4224598930487,1845.2191780821922,1308.605273833673,1956.653664302601,4178.5,7693.083333333336,811.4547296674955,4902.666666666666,6289.473684210527,1180.9333333333325,1737.7111111111108,5652.568241903504,326.3221288515415,30000.0,581.7549844339919,3823.9702474986843,22466.16216216216,7483.235354049924,2545.2535014005553,1947.7332089552256,9914.42480620155,1676.5725165562908,7750.0,2715.4990656892332,2060.094069529653,2255.9941944847596,1951.2054816869204,11091.619047619048,2901.6846153846127,9653.454545454544,9889.36842105263,4777.688888888889,3776.9565571103158,6526.484848484848,1654.5890843482157,6674.540000000001,4035.937314905459,3431.5972985516273,8916.25,6000.09756097561,8584.954022988506,176.38461538461524,3826.75,3991.666666666668]]},{\"title\":\"Global salary gap distribution in dollars between men and women (18-24 years old)\"}],\"label\":\"18-24\",\"method\":\"update\"},{\"args\":[{\"z\":[[5043.225806451614,7955.216517857145,2291.1126760563384,5345.232966120879,2205.9461538461546,7831.704002733997,9516.161266643328,69603.0,226.26666666666642,1841.2268796992485,13907.612869198314,11270.008333333339,7884.9285714285725,12083.62056414923,2890.367398332084,6264.041178987645,5072.588235294119,8315.765152102933,1248.5652271034996,12144.899509803923,7825.70735042735,5231.340966921125,10132.92142857143,3230.4571428571435,13933.578431372553,3336.5431556916155,9433.562807220456,8755.35451977401,11336.25396825397,1817.8014973262052,3762.4197530864185,3657.209198813056,3173.623880597017,17472.6,2322.9664968873767,7360.911614471268,5000.0,16597.407494145198,5790.926987324921,39384.55445544554,1154.6039303150574,7088.456140350878,5124.0,13960.25641025641,7273.338081273563,10373.75142118863,2250.0727272727236,3352.609223418127,6278.096114519427,8406.089952531645,15628.142857142859,4404.694580172298,28211.0,12217.149601446625,6714.138415922647,9157.375,11577.963786471526,18450.138814016173,6702.723577235771,3681.3121107266415,10857.919999999998,12091.310344827587,17385.82113821138,3136.244485294119,11293.024061210112,28221.966292134828,4661.074468085106,4762.280000000001,4818.272024428272,4420.7692307692305,1405.0697674418625,7674.5,3531.707458634399,25382.550000000003,13323.479925303456,21487.95,22286.4,9391.74609929078,11745.978038629386,6278.672287291331,13469.81818181818,3270.801171801173,48515.59090909091,10610.065025252523,5763.1742751451675,8753.0,1552.468791208792,2018.5952380952367,11326.172949002219,15331.995169082125,3630.624062519695,12266.022042025455,6179.393547990909,14191.76470588235,10954.504236746856,5902.6201897465835,12071.516161616164,10134.679780639006,21770.19459141681,12083.964721485412,11968.60548807917,6470.603874272143,15708.333333333336,5872.773016025465,39.78227446312485,87.45454545454595,7596.0,4103.071896166795,8150.727958510135,3652.875,8880.274718679673,2557.317829457359,8405.400000000001,6230.236150234741,4290.792680797189,4890.597402597403,10193.880705079602,18154.443307086614,10523.71425208971,5706.845666474197,5287.803846153845,20869.175,6652.375939849624,2099.17528735632,8873.055555555555,20123.684210526317]]},{\"title\":\"Global salary gap distribution in dollars between men and women (25-34 years old)\"}],\"label\":\"25-34\",\"method\":\"update\"},{\"args\":[{\"z\":[[21028.083333333332,23837.113688524587,20805.54758331344,19969.41661251896,37011.38202247191,17850.703115814227,151642.0,7616.8888888888905,20701.895833333336,10665.338048651505,15872.020609579104,11192.861781662767,28480.745341614907,31898.331932773108,14067.45273631841,13841.352941176476,25026.028169014084,1231.4705882352937,20459.83953168044,14723.010659676715,10683.0625,18507.462813800514,12374.796970781157,16540.857142857145,16576.81956895771,6195.891476034856,10882.02380952381,18796.43478260869,22337.4121037464,9617.017857142855,22306.711711711712,1473.142857142855,10769.179643765907,12541.071783756212,12644.118512780791,21535.45220779221,17381.875,7016.708333333336,15590.695652173912,12650.0,27550.5063559322,5323.510204081627,1699.0,11083.099999999999,22199.96153846153,10108.875,17838.51404494382,5613.42105263158,24152.945343511456,11720.475242718443,8908.823529411766,2750.2999999999993,9950.9012345679,10436.918278084719,8964.678571428572,321.4761904761908,31280.826666666668,4687.0395981087495,22179.87916666667,14556.744169443118,14758.536990216555,12442.017857142855,17498.203703703708,19953.8515625,6105.055614973258,12573.83861561866,18928.571428571428,4460.218485633246,5993.129629629631,9161.57327609053,20583.2212885154,89143.26000000001,20061.104651162794,21888.389743589745,24284.097705403405,38787.150684931505,16801.33244484602,18875.272297916046,41495.97321428572,14434.882882882883,14676.0]]},{\"title\":\"Global salary gap distribution in dollars between men and women (35-44 years old)\"}],\"label\":\"35-44\",\"method\":\"update\"},{\"args\":[{\"z\":[[15471.912621359224,28211.201863832408,3686.5593220338924,1322.6666666666679,57514.17475728155,9864.67355371901,19948.675000000003,5234.8131868131895,18598.290322580644,8910.519999999997,14585.255681818177,941.7777777777774,21032.01769911505,24296.68025606469,20220.044444444444,25944.208333333336,12497.0,27375.604395604394,56316.97959183673,18635.22146118722,29689.43947858473,39306.64615384616,1647.0,62000.0,27549.805555555555,20071.238196663107,27842.87046632124,3956.619047619053,7474.392655367235,70264.0,19359.848484848488,13327.534883720931,22427.465517241377,26680.977272727272,6284.648148148146,13608.346938775503,1808.146362839616,6769.16492146597,6563.7473118279595,14901.476190476184,19432.93160671735,26841.460944901424]]},{\"title\":\"Global salary gap distribution in dollars between men and women (45-54 years old)\"}],\"label\":\"45-54\",\"method\":\"update\"},{\"args\":[{\"z\":[[32402.3094890511,35498.94896331739,10495.666666666672,70831.16315789474,2357.158730158728,8892.0,32386.948275862072,17479.933333333334,20729.478260869568,12096.28671328671,22096.458333333336,12349.0,15815.094339622643,25251.215550423403,25931.492907160602]]},{\"title\":\"Global salary gap distribution in dollars between men and women (55-64 years old)\"}],\"label\":\"55-64\",\"method\":\"update\"},{\"args\":[{\"z\":[[20681.714285714286,13118.452830188675,42519.5,9966.88888888889,8477.333333333336,10782.605091547535,51050.0]]},{\"title\":\"Global salary gap distribution in dollars between men and women (65+ years old)\"}],\"label\":\"65+\",\"method\":\"update\"}]}]},                        {\"responsive\": true}                    ).then(function(){\n",
       "                            \n",
       "var gd = document.getElementById('f9e80303-ae3a-4f5f-adb5-6dc161d4ae0b');\n",
       "var x = new MutationObserver(function (mutations, observer) {{\n",
       "        var display = window.getComputedStyle(gd).display;\n",
       "        if (!display || display === 'none') {{\n",
       "            console.log([gd, 'removed!']);\n",
       "            Plotly.purge(gd);\n",
       "            observer.disconnect();\n",
       "        }}\n",
       "}});\n",
       "\n",
       "// Listen for the removal of the full notebook cells\n",
       "var notebookContainer = gd.closest('#notebook-container');\n",
       "if (notebookContainer) {{\n",
       "    x.observe(notebookContainer, {childList: true});\n",
       "}}\n",
       "\n",
       "// Listen for the clearing of the current output cell\n",
       "var outputEl = gd.closest('.output');\n",
       "if (outputEl) {{\n",
       "    x.observe(outputEl, {childList: true});\n",
       "}}\n",
       "\n",
       "                        })                };                });            </script>        </div>"
      ]
     },
     "metadata": {},
     "output_type": "display_data"
    }
   ],
   "source": [
    "%run gender_salary_gap_map.ipynb"
   ]
  },
  {
   "cell_type": "code",
   "execution_count": 2,
   "metadata": {
    "ExecuteTime": {
     "end_time": "2023-06-18T16:52:42.572043Z",
     "start_time": "2023-06-18T16:52:41.986618Z"
    },
    "collapsed": false
   },
   "outputs": [
    {
     "data": {
      "application/vnd.plotly.v1+json": {
       "config": {
        "plotlyServerURL": "https://plot.ly"
       },
       "data": [
        {
         "arrangement": "snap",
         "link": {
          "arrowlen": 14,
          "color": [
           "rgba(0,0,255,0.1)",
           "rgba(0,0,255,0.1)",
           "rgba(0,0,255,0.1)",
           "rgba(0,0,255,0.1)",
           "rgba(0,0,255,0.1)",
           "rgba(0,0,255,0.1)",
           "rgba(0,0,255,0.1)",
           "rgba(255,0,0,0.1)",
           "rgba(255,0,0,0.1)",
           "rgba(255,0,0,0.1)",
           "rgba(255,0,0,0.1)",
           "rgba(255,0,0,0.1)",
           "rgba(255,0,0,0.1)",
           "rgba(255,0,0,0.1)",
           "rgba(255,255,255,0)",
           "rgba(255,255,255,0)"
          ],
          "customdata": [
           "Almost all male respondents<br>completed secondary education",
           "",
           "Most male respondents continued to tertiary education,<br>though slightly less than female respondents",
           "",
           "Over a quarter of male respondents continued to a master or doctorate,<br>though slightly less than female respondents",
           "",
           "",
           "Almost all female respondents<br>completed secondary education",
           "",
           "Most female respondents continued to tertiary education,<br>though slightly more than female respondents",
           "",
           "Over a quarter of female respondents continued to a master or doctorate,<br>though slightly more than male respondents"
          ],
          "hovertemplate": " %{customdata}<extra></extra>",
          "source": [
           1,
           1,
           2,
           2,
           3,
           3,
           4,
           5,
           5,
           6,
           6,
           7,
           7,
           8,
           9,
           9
          ],
          "target": [
           2,
           0,
           3,
           0,
           4,
           0,
           0,
           6,
           0,
           7,
           0,
           8,
           0,
           0,
           1,
           5
          ],
          "value": [
           98.91687436465058,
           0,
           89.21028324328788,
           0,
           27.144707442554093,
           0,
           0,
           99.21963729620809,
           0,
           91.3280820663125,
           0,
           28.899065762960248,
           0,
           0,
           100,
           100
          ]
         },
         "node": {
          "color": [
           "green",
           "#bfc5ff",
           "#bfc5ff",
           "#bfc5ff",
           "#bfc5ff",
           "pink",
           "pink",
           "pink",
           "pink"
          ],
          "customdata": [
           "",
           "All valid answers from male<br> respondents were used",
           "Male respondents, secondary degree",
           "Male respondents, tertiary education",
           "Male respondents, master / doctorate",
           "All valid answers from female<br> respondents were used",
           "Female respondents, secondary degree",
           "Female respondents, tertiary education",
           "Female respondents, master / doctorate"
          ],
          "hovertemplate": "%{customdata}<extra></extra>",
          "line": {
           "color": "black",
           "width": 0.1
          },
          "pad": 15,
          "thickness": 20,
          "x": [
           0.01,
           0.2,
           0.4,
           0.6,
           0.01,
           0.2,
           0.4,
           0.6,
           -1
          ],
          "y": [
           0.3,
           0.3,
           0.735,
           0.6,
           0.2,
           0.2,
           0.2,
           0.05,
           0.1
          ]
         },
         "type": "sankey"
        }
       ],
       "layout": {
        "annotations": [
         {
          "font": {
           "color": "grey",
           "size": 10
          },
          "showarrow": false,
          "text": "Approximately equal, slightly higher for female respondents",
          "x": 0.01,
          "y": 1.15
         },
         {
          "showarrow": false,
          "text": "All respondents",
          "x": -0.02,
          "y": -0.1
         },
         {
          "showarrow": false,
          "text": "Secondary",
          "x": 0.17,
          "y": -0.1
         },
         {
          "showarrow": false,
          "text": "Bachelor/Tertiary",
          "x": 0.4,
          "y": -0.1
         },
         {
          "showarrow": false,
          "text": "Master/PhD",
          "x": 0.6,
          "y": -0.1
         },
         {
          "showarrow": false,
          "text": "98.9%",
          "x": 0.075,
          "y": 0.4
         },
         {
          "showarrow": false,
          "text": "89.2%",
          "x": 0.275,
          "y": 0.4
         },
         {
          "showarrow": false,
          "text": "27.1%",
          "x": 0.51,
          "y": 0.4
         },
         {
          "showarrow": false,
          "text": "99.2%",
          "x": 0.075,
          "y": 0.97
         },
         {
          "showarrow": false,
          "text": "91.3%",
          "x": 0.275,
          "y": 0.97
         },
         {
          "showarrow": false,
          "text": "28.9%",
          "x": 0.51,
          "y": 0.97
         },
         {
          "showarrow": false,
          "text": "Female",
          "x": -0.07,
          "y": 0.8
         },
         {
          "showarrow": false,
          "text": "Male",
          "x": -0.05,
          "y": 0.2
         }
        ],
        "font": {
         "size": 15
        },
        "modebar": {
         "remove": [
          "lasso2d",
          "select2d",
          "resetsankeygroup"
         ]
        },
        "template": {
         "data": {
          "bar": [
           {
            "error_x": {
             "color": "#2a3f5f"
            },
            "error_y": {
             "color": "#2a3f5f"
            },
            "marker": {
             "line": {
              "color": "#E5ECF6",
              "width": 0.5
             },
             "pattern": {
              "fillmode": "overlay",
              "size": 10,
              "solidity": 0.2
             }
            },
            "type": "bar"
           }
          ],
          "barpolar": [
           {
            "marker": {
             "line": {
              "color": "#E5ECF6",
              "width": 0.5
             },
             "pattern": {
              "fillmode": "overlay",
              "size": 10,
              "solidity": 0.2
             }
            },
            "type": "barpolar"
           }
          ],
          "carpet": [
           {
            "aaxis": {
             "endlinecolor": "#2a3f5f",
             "gridcolor": "white",
             "linecolor": "white",
             "minorgridcolor": "white",
             "startlinecolor": "#2a3f5f"
            },
            "baxis": {
             "endlinecolor": "#2a3f5f",
             "gridcolor": "white",
             "linecolor": "white",
             "minorgridcolor": "white",
             "startlinecolor": "#2a3f5f"
            },
            "type": "carpet"
           }
          ],
          "choropleth": [
           {
            "colorbar": {
             "outlinewidth": 0,
             "ticks": ""
            },
            "type": "choropleth"
           }
          ],
          "contour": [
           {
            "colorbar": {
             "outlinewidth": 0,
             "ticks": ""
            },
            "colorscale": [
             [
              0,
              "#0d0887"
             ],
             [
              0.1111111111111111,
              "#46039f"
             ],
             [
              0.2222222222222222,
              "#7201a8"
             ],
             [
              0.3333333333333333,
              "#9c179e"
             ],
             [
              0.4444444444444444,
              "#bd3786"
             ],
             [
              0.5555555555555556,
              "#d8576b"
             ],
             [
              0.6666666666666666,
              "#ed7953"
             ],
             [
              0.7777777777777778,
              "#fb9f3a"
             ],
             [
              0.8888888888888888,
              "#fdca26"
             ],
             [
              1,
              "#f0f921"
             ]
            ],
            "type": "contour"
           }
          ],
          "contourcarpet": [
           {
            "colorbar": {
             "outlinewidth": 0,
             "ticks": ""
            },
            "type": "contourcarpet"
           }
          ],
          "heatmap": [
           {
            "colorbar": {
             "outlinewidth": 0,
             "ticks": ""
            },
            "colorscale": [
             [
              0,
              "#0d0887"
             ],
             [
              0.1111111111111111,
              "#46039f"
             ],
             [
              0.2222222222222222,
              "#7201a8"
             ],
             [
              0.3333333333333333,
              "#9c179e"
             ],
             [
              0.4444444444444444,
              "#bd3786"
             ],
             [
              0.5555555555555556,
              "#d8576b"
             ],
             [
              0.6666666666666666,
              "#ed7953"
             ],
             [
              0.7777777777777778,
              "#fb9f3a"
             ],
             [
              0.8888888888888888,
              "#fdca26"
             ],
             [
              1,
              "#f0f921"
             ]
            ],
            "type": "heatmap"
           }
          ],
          "heatmapgl": [
           {
            "colorbar": {
             "outlinewidth": 0,
             "ticks": ""
            },
            "colorscale": [
             [
              0,
              "#0d0887"
             ],
             [
              0.1111111111111111,
              "#46039f"
             ],
             [
              0.2222222222222222,
              "#7201a8"
             ],
             [
              0.3333333333333333,
              "#9c179e"
             ],
             [
              0.4444444444444444,
              "#bd3786"
             ],
             [
              0.5555555555555556,
              "#d8576b"
             ],
             [
              0.6666666666666666,
              "#ed7953"
             ],
             [
              0.7777777777777778,
              "#fb9f3a"
             ],
             [
              0.8888888888888888,
              "#fdca26"
             ],
             [
              1,
              "#f0f921"
             ]
            ],
            "type": "heatmapgl"
           }
          ],
          "histogram": [
           {
            "marker": {
             "pattern": {
              "fillmode": "overlay",
              "size": 10,
              "solidity": 0.2
             }
            },
            "type": "histogram"
           }
          ],
          "histogram2d": [
           {
            "colorbar": {
             "outlinewidth": 0,
             "ticks": ""
            },
            "colorscale": [
             [
              0,
              "#0d0887"
             ],
             [
              0.1111111111111111,
              "#46039f"
             ],
             [
              0.2222222222222222,
              "#7201a8"
             ],
             [
              0.3333333333333333,
              "#9c179e"
             ],
             [
              0.4444444444444444,
              "#bd3786"
             ],
             [
              0.5555555555555556,
              "#d8576b"
             ],
             [
              0.6666666666666666,
              "#ed7953"
             ],
             [
              0.7777777777777778,
              "#fb9f3a"
             ],
             [
              0.8888888888888888,
              "#fdca26"
             ],
             [
              1,
              "#f0f921"
             ]
            ],
            "type": "histogram2d"
           }
          ],
          "histogram2dcontour": [
           {
            "colorbar": {
             "outlinewidth": 0,
             "ticks": ""
            },
            "colorscale": [
             [
              0,
              "#0d0887"
             ],
             [
              0.1111111111111111,
              "#46039f"
             ],
             [
              0.2222222222222222,
              "#7201a8"
             ],
             [
              0.3333333333333333,
              "#9c179e"
             ],
             [
              0.4444444444444444,
              "#bd3786"
             ],
             [
              0.5555555555555556,
              "#d8576b"
             ],
             [
              0.6666666666666666,
              "#ed7953"
             ],
             [
              0.7777777777777778,
              "#fb9f3a"
             ],
             [
              0.8888888888888888,
              "#fdca26"
             ],
             [
              1,
              "#f0f921"
             ]
            ],
            "type": "histogram2dcontour"
           }
          ],
          "mesh3d": [
           {
            "colorbar": {
             "outlinewidth": 0,
             "ticks": ""
            },
            "type": "mesh3d"
           }
          ],
          "parcoords": [
           {
            "line": {
             "colorbar": {
              "outlinewidth": 0,
              "ticks": ""
             }
            },
            "type": "parcoords"
           }
          ],
          "pie": [
           {
            "automargin": true,
            "type": "pie"
           }
          ],
          "scatter": [
           {
            "fillpattern": {
             "fillmode": "overlay",
             "size": 10,
             "solidity": 0.2
            },
            "type": "scatter"
           }
          ],
          "scatter3d": [
           {
            "line": {
             "colorbar": {
              "outlinewidth": 0,
              "ticks": ""
             }
            },
            "marker": {
             "colorbar": {
              "outlinewidth": 0,
              "ticks": ""
             }
            },
            "type": "scatter3d"
           }
          ],
          "scattercarpet": [
           {
            "marker": {
             "colorbar": {
              "outlinewidth": 0,
              "ticks": ""
             }
            },
            "type": "scattercarpet"
           }
          ],
          "scattergeo": [
           {
            "marker": {
             "colorbar": {
              "outlinewidth": 0,
              "ticks": ""
             }
            },
            "type": "scattergeo"
           }
          ],
          "scattergl": [
           {
            "marker": {
             "colorbar": {
              "outlinewidth": 0,
              "ticks": ""
             }
            },
            "type": "scattergl"
           }
          ],
          "scattermapbox": [
           {
            "marker": {
             "colorbar": {
              "outlinewidth": 0,
              "ticks": ""
             }
            },
            "type": "scattermapbox"
           }
          ],
          "scatterpolar": [
           {
            "marker": {
             "colorbar": {
              "outlinewidth": 0,
              "ticks": ""
             }
            },
            "type": "scatterpolar"
           }
          ],
          "scatterpolargl": [
           {
            "marker": {
             "colorbar": {
              "outlinewidth": 0,
              "ticks": ""
             }
            },
            "type": "scatterpolargl"
           }
          ],
          "scatterternary": [
           {
            "marker": {
             "colorbar": {
              "outlinewidth": 0,
              "ticks": ""
             }
            },
            "type": "scatterternary"
           }
          ],
          "surface": [
           {
            "colorbar": {
             "outlinewidth": 0,
             "ticks": ""
            },
            "colorscale": [
             [
              0,
              "#0d0887"
             ],
             [
              0.1111111111111111,
              "#46039f"
             ],
             [
              0.2222222222222222,
              "#7201a8"
             ],
             [
              0.3333333333333333,
              "#9c179e"
             ],
             [
              0.4444444444444444,
              "#bd3786"
             ],
             [
              0.5555555555555556,
              "#d8576b"
             ],
             [
              0.6666666666666666,
              "#ed7953"
             ],
             [
              0.7777777777777778,
              "#fb9f3a"
             ],
             [
              0.8888888888888888,
              "#fdca26"
             ],
             [
              1,
              "#f0f921"
             ]
            ],
            "type": "surface"
           }
          ],
          "table": [
           {
            "cells": {
             "fill": {
              "color": "#EBF0F8"
             },
             "line": {
              "color": "white"
             }
            },
            "header": {
             "fill": {
              "color": "#C8D4E3"
             },
             "line": {
              "color": "white"
             }
            },
            "type": "table"
           }
          ]
         },
         "layout": {
          "annotationdefaults": {
           "arrowcolor": "#2a3f5f",
           "arrowhead": 0,
           "arrowwidth": 1
          },
          "autotypenumbers": "strict",
          "coloraxis": {
           "colorbar": {
            "outlinewidth": 0,
            "ticks": ""
           }
          },
          "colorscale": {
           "diverging": [
            [
             0,
             "#8e0152"
            ],
            [
             0.1,
             "#c51b7d"
            ],
            [
             0.2,
             "#de77ae"
            ],
            [
             0.3,
             "#f1b6da"
            ],
            [
             0.4,
             "#fde0ef"
            ],
            [
             0.5,
             "#f7f7f7"
            ],
            [
             0.6,
             "#e6f5d0"
            ],
            [
             0.7,
             "#b8e186"
            ],
            [
             0.8,
             "#7fbc41"
            ],
            [
             0.9,
             "#4d9221"
            ],
            [
             1,
             "#276419"
            ]
           ],
           "sequential": [
            [
             0,
             "#0d0887"
            ],
            [
             0.1111111111111111,
             "#46039f"
            ],
            [
             0.2222222222222222,
             "#7201a8"
            ],
            [
             0.3333333333333333,
             "#9c179e"
            ],
            [
             0.4444444444444444,
             "#bd3786"
            ],
            [
             0.5555555555555556,
             "#d8576b"
            ],
            [
             0.6666666666666666,
             "#ed7953"
            ],
            [
             0.7777777777777778,
             "#fb9f3a"
            ],
            [
             0.8888888888888888,
             "#fdca26"
            ],
            [
             1,
             "#f0f921"
            ]
           ],
           "sequentialminus": [
            [
             0,
             "#0d0887"
            ],
            [
             0.1111111111111111,
             "#46039f"
            ],
            [
             0.2222222222222222,
             "#7201a8"
            ],
            [
             0.3333333333333333,
             "#9c179e"
            ],
            [
             0.4444444444444444,
             "#bd3786"
            ],
            [
             0.5555555555555556,
             "#d8576b"
            ],
            [
             0.6666666666666666,
             "#ed7953"
            ],
            [
             0.7777777777777778,
             "#fb9f3a"
            ],
            [
             0.8888888888888888,
             "#fdca26"
            ],
            [
             1,
             "#f0f921"
            ]
           ]
          },
          "colorway": [
           "#636efa",
           "#EF553B",
           "#00cc96",
           "#ab63fa",
           "#FFA15A",
           "#19d3f3",
           "#FF6692",
           "#B6E880",
           "#FF97FF",
           "#FECB52"
          ],
          "font": {
           "color": "#2a3f5f"
          },
          "geo": {
           "bgcolor": "white",
           "lakecolor": "white",
           "landcolor": "#E5ECF6",
           "showlakes": true,
           "showland": true,
           "subunitcolor": "white"
          },
          "hoverlabel": {
           "align": "left"
          },
          "hovermode": "closest",
          "mapbox": {
           "style": "light"
          },
          "paper_bgcolor": "white",
          "plot_bgcolor": "#E5ECF6",
          "polar": {
           "angularaxis": {
            "gridcolor": "white",
            "linecolor": "white",
            "ticks": ""
           },
           "bgcolor": "#E5ECF6",
           "radialaxis": {
            "gridcolor": "white",
            "linecolor": "white",
            "ticks": ""
           }
          },
          "scene": {
           "xaxis": {
            "backgroundcolor": "#E5ECF6",
            "gridcolor": "white",
            "gridwidth": 2,
            "linecolor": "white",
            "showbackground": true,
            "ticks": "",
            "zerolinecolor": "white"
           },
           "yaxis": {
            "backgroundcolor": "#E5ECF6",
            "gridcolor": "white",
            "gridwidth": 2,
            "linecolor": "white",
            "showbackground": true,
            "ticks": "",
            "zerolinecolor": "white"
           },
           "zaxis": {
            "backgroundcolor": "#E5ECF6",
            "gridcolor": "white",
            "gridwidth": 2,
            "linecolor": "white",
            "showbackground": true,
            "ticks": "",
            "zerolinecolor": "white"
           }
          },
          "shapedefaults": {
           "line": {
            "color": "#2a3f5f"
           }
          },
          "ternary": {
           "aaxis": {
            "gridcolor": "white",
            "linecolor": "white",
            "ticks": ""
           },
           "baxis": {
            "gridcolor": "white",
            "linecolor": "white",
            "ticks": ""
           },
           "bgcolor": "#E5ECF6",
           "caxis": {
            "gridcolor": "white",
            "linecolor": "white",
            "ticks": ""
           }
          },
          "title": {
           "x": 0.05
          },
          "xaxis": {
           "automargin": true,
           "gridcolor": "white",
           "linecolor": "white",
           "ticks": "",
           "title": {
            "standoff": 15
           },
           "zerolinecolor": "white",
           "zerolinewidth": 2
          },
          "yaxis": {
           "automargin": true,
           "gridcolor": "white",
           "linecolor": "white",
           "ticks": "",
           "title": {
            "standoff": 15
           },
           "zerolinecolor": "white",
           "zerolinewidth": 2
          }
         }
        },
        "title": {
         "text": "Retention in education system, split by gender"
        },
        "width": 1200
       }
      },
      "text/html": [
       "<div>                            <div id=\"9f60d9bc-491a-4ca8-baa9-6a3f63be800c\" class=\"plotly-graph-div\" style=\"height:525px; width:1200px;\"></div>            <script type=\"text/javascript\">                require([\"plotly\"], function(Plotly) {                    window.PLOTLYENV=window.PLOTLYENV || {};                                    if (document.getElementById(\"9f60d9bc-491a-4ca8-baa9-6a3f63be800c\")) {                    Plotly.newPlot(                        \"9f60d9bc-491a-4ca8-baa9-6a3f63be800c\",                        [{\"arrangement\":\"snap\",\"link\":{\"arrowlen\":14,\"color\":[\"rgba(0,0,255,0.1)\",\"rgba(0,0,255,0.1)\",\"rgba(0,0,255,0.1)\",\"rgba(0,0,255,0.1)\",\"rgba(0,0,255,0.1)\",\"rgba(0,0,255,0.1)\",\"rgba(0,0,255,0.1)\",\"rgba(255,0,0,0.1)\",\"rgba(255,0,0,0.1)\",\"rgba(255,0,0,0.1)\",\"rgba(255,0,0,0.1)\",\"rgba(255,0,0,0.1)\",\"rgba(255,0,0,0.1)\",\"rgba(255,0,0,0.1)\",\"rgba(255,255,255,0)\",\"rgba(255,255,255,0)\"],\"customdata\":[\"Almost all male respondents<br>completed secondary education\",\"\",\"Most male respondents continued to tertiary education,<br>though slightly less than female respondents\",\"\",\"Over a quarter of male respondents continued to a master or doctorate,<br>though slightly less than female respondents\",\"\",\"\",\"Almost all female respondents<br>completed secondary education\",\"\",\"Most female respondents continued to tertiary education,<br>though slightly more than female respondents\",\"\",\"Over a quarter of female respondents continued to a master or doctorate,<br>though slightly more than male respondents\"],\"hovertemplate\":\" %{customdata}<extra></extra>\",\"source\":[1,1,2,2,3,3,4,5,5,6,6,7,7,8,9,9],\"target\":[2,0,3,0,4,0,0,6,0,7,0,8,0,0,1,5],\"value\":[98.91687436465058,0,89.21028324328788,0,27.144707442554093,0,0,99.21963729620809,0,91.3280820663125,0,28.899065762960248,0,0,100,100]},\"node\":{\"color\":[\"green\",\"#bfc5ff\",\"#bfc5ff\",\"#bfc5ff\",\"#bfc5ff\",\"pink\",\"pink\",\"pink\",\"pink\"],\"customdata\":[\"\",\"All valid answers from male<br> respondents were used\",\"Male respondents, secondary degree\",\"Male respondents, tertiary education\",\"Male respondents, master / doctorate\",\"All valid answers from female<br> respondents were used\",\"Female respondents, secondary degree\",\"Female respondents, tertiary education\",\"Female respondents, master / doctorate\"],\"hovertemplate\":\"%{customdata}<extra></extra>\",\"line\":{\"color\":\"black\",\"width\":0.1},\"pad\":15,\"thickness\":20,\"x\":[0.01,0.2,0.4,0.6,0.01,0.2,0.4,0.6,-1],\"y\":[0.3,0.3,0.735,0.6,0.2,0.2,0.2,0.05,0.1]},\"type\":\"sankey\"}],                        {\"template\":{\"data\":{\"histogram2dcontour\":[{\"type\":\"histogram2dcontour\",\"colorbar\":{\"outlinewidth\":0,\"ticks\":\"\"},\"colorscale\":[[0.0,\"#0d0887\"],[0.1111111111111111,\"#46039f\"],[0.2222222222222222,\"#7201a8\"],[0.3333333333333333,\"#9c179e\"],[0.4444444444444444,\"#bd3786\"],[0.5555555555555556,\"#d8576b\"],[0.6666666666666666,\"#ed7953\"],[0.7777777777777778,\"#fb9f3a\"],[0.8888888888888888,\"#fdca26\"],[1.0,\"#f0f921\"]]}],\"choropleth\":[{\"type\":\"choropleth\",\"colorbar\":{\"outlinewidth\":0,\"ticks\":\"\"}}],\"histogram2d\":[{\"type\":\"histogram2d\",\"colorbar\":{\"outlinewidth\":0,\"ticks\":\"\"},\"colorscale\":[[0.0,\"#0d0887\"],[0.1111111111111111,\"#46039f\"],[0.2222222222222222,\"#7201a8\"],[0.3333333333333333,\"#9c179e\"],[0.4444444444444444,\"#bd3786\"],[0.5555555555555556,\"#d8576b\"],[0.6666666666666666,\"#ed7953\"],[0.7777777777777778,\"#fb9f3a\"],[0.8888888888888888,\"#fdca26\"],[1.0,\"#f0f921\"]]}],\"heatmap\":[{\"type\":\"heatmap\",\"colorbar\":{\"outlinewidth\":0,\"ticks\":\"\"},\"colorscale\":[[0.0,\"#0d0887\"],[0.1111111111111111,\"#46039f\"],[0.2222222222222222,\"#7201a8\"],[0.3333333333333333,\"#9c179e\"],[0.4444444444444444,\"#bd3786\"],[0.5555555555555556,\"#d8576b\"],[0.6666666666666666,\"#ed7953\"],[0.7777777777777778,\"#fb9f3a\"],[0.8888888888888888,\"#fdca26\"],[1.0,\"#f0f921\"]]}],\"heatmapgl\":[{\"type\":\"heatmapgl\",\"colorbar\":{\"outlinewidth\":0,\"ticks\":\"\"},\"colorscale\":[[0.0,\"#0d0887\"],[0.1111111111111111,\"#46039f\"],[0.2222222222222222,\"#7201a8\"],[0.3333333333333333,\"#9c179e\"],[0.4444444444444444,\"#bd3786\"],[0.5555555555555556,\"#d8576b\"],[0.6666666666666666,\"#ed7953\"],[0.7777777777777778,\"#fb9f3a\"],[0.8888888888888888,\"#fdca26\"],[1.0,\"#f0f921\"]]}],\"contourcarpet\":[{\"type\":\"contourcarpet\",\"colorbar\":{\"outlinewidth\":0,\"ticks\":\"\"}}],\"contour\":[{\"type\":\"contour\",\"colorbar\":{\"outlinewidth\":0,\"ticks\":\"\"},\"colorscale\":[[0.0,\"#0d0887\"],[0.1111111111111111,\"#46039f\"],[0.2222222222222222,\"#7201a8\"],[0.3333333333333333,\"#9c179e\"],[0.4444444444444444,\"#bd3786\"],[0.5555555555555556,\"#d8576b\"],[0.6666666666666666,\"#ed7953\"],[0.7777777777777778,\"#fb9f3a\"],[0.8888888888888888,\"#fdca26\"],[1.0,\"#f0f921\"]]}],\"surface\":[{\"type\":\"surface\",\"colorbar\":{\"outlinewidth\":0,\"ticks\":\"\"},\"colorscale\":[[0.0,\"#0d0887\"],[0.1111111111111111,\"#46039f\"],[0.2222222222222222,\"#7201a8\"],[0.3333333333333333,\"#9c179e\"],[0.4444444444444444,\"#bd3786\"],[0.5555555555555556,\"#d8576b\"],[0.6666666666666666,\"#ed7953\"],[0.7777777777777778,\"#fb9f3a\"],[0.8888888888888888,\"#fdca26\"],[1.0,\"#f0f921\"]]}],\"mesh3d\":[{\"type\":\"mesh3d\",\"colorbar\":{\"outlinewidth\":0,\"ticks\":\"\"}}],\"scatter\":[{\"fillpattern\":{\"fillmode\":\"overlay\",\"size\":10,\"solidity\":0.2},\"type\":\"scatter\"}],\"parcoords\":[{\"type\":\"parcoords\",\"line\":{\"colorbar\":{\"outlinewidth\":0,\"ticks\":\"\"}}}],\"scatterpolargl\":[{\"type\":\"scatterpolargl\",\"marker\":{\"colorbar\":{\"outlinewidth\":0,\"ticks\":\"\"}}}],\"bar\":[{\"error_x\":{\"color\":\"#2a3f5f\"},\"error_y\":{\"color\":\"#2a3f5f\"},\"marker\":{\"line\":{\"color\":\"#E5ECF6\",\"width\":0.5},\"pattern\":{\"fillmode\":\"overlay\",\"size\":10,\"solidity\":0.2}},\"type\":\"bar\"}],\"scattergeo\":[{\"type\":\"scattergeo\",\"marker\":{\"colorbar\":{\"outlinewidth\":0,\"ticks\":\"\"}}}],\"scatterpolar\":[{\"type\":\"scatterpolar\",\"marker\":{\"colorbar\":{\"outlinewidth\":0,\"ticks\":\"\"}}}],\"histogram\":[{\"marker\":{\"pattern\":{\"fillmode\":\"overlay\",\"size\":10,\"solidity\":0.2}},\"type\":\"histogram\"}],\"scattergl\":[{\"type\":\"scattergl\",\"marker\":{\"colorbar\":{\"outlinewidth\":0,\"ticks\":\"\"}}}],\"scatter3d\":[{\"type\":\"scatter3d\",\"line\":{\"colorbar\":{\"outlinewidth\":0,\"ticks\":\"\"}},\"marker\":{\"colorbar\":{\"outlinewidth\":0,\"ticks\":\"\"}}}],\"scattermapbox\":[{\"type\":\"scattermapbox\",\"marker\":{\"colorbar\":{\"outlinewidth\":0,\"ticks\":\"\"}}}],\"scatterternary\":[{\"type\":\"scatterternary\",\"marker\":{\"colorbar\":{\"outlinewidth\":0,\"ticks\":\"\"}}}],\"scattercarpet\":[{\"type\":\"scattercarpet\",\"marker\":{\"colorbar\":{\"outlinewidth\":0,\"ticks\":\"\"}}}],\"carpet\":[{\"aaxis\":{\"endlinecolor\":\"#2a3f5f\",\"gridcolor\":\"white\",\"linecolor\":\"white\",\"minorgridcolor\":\"white\",\"startlinecolor\":\"#2a3f5f\"},\"baxis\":{\"endlinecolor\":\"#2a3f5f\",\"gridcolor\":\"white\",\"linecolor\":\"white\",\"minorgridcolor\":\"white\",\"startlinecolor\":\"#2a3f5f\"},\"type\":\"carpet\"}],\"table\":[{\"cells\":{\"fill\":{\"color\":\"#EBF0F8\"},\"line\":{\"color\":\"white\"}},\"header\":{\"fill\":{\"color\":\"#C8D4E3\"},\"line\":{\"color\":\"white\"}},\"type\":\"table\"}],\"barpolar\":[{\"marker\":{\"line\":{\"color\":\"#E5ECF6\",\"width\":0.5},\"pattern\":{\"fillmode\":\"overlay\",\"size\":10,\"solidity\":0.2}},\"type\":\"barpolar\"}],\"pie\":[{\"automargin\":true,\"type\":\"pie\"}]},\"layout\":{\"autotypenumbers\":\"strict\",\"colorway\":[\"#636efa\",\"#EF553B\",\"#00cc96\",\"#ab63fa\",\"#FFA15A\",\"#19d3f3\",\"#FF6692\",\"#B6E880\",\"#FF97FF\",\"#FECB52\"],\"font\":{\"color\":\"#2a3f5f\"},\"hovermode\":\"closest\",\"hoverlabel\":{\"align\":\"left\"},\"paper_bgcolor\":\"white\",\"plot_bgcolor\":\"#E5ECF6\",\"polar\":{\"bgcolor\":\"#E5ECF6\",\"angularaxis\":{\"gridcolor\":\"white\",\"linecolor\":\"white\",\"ticks\":\"\"},\"radialaxis\":{\"gridcolor\":\"white\",\"linecolor\":\"white\",\"ticks\":\"\"}},\"ternary\":{\"bgcolor\":\"#E5ECF6\",\"aaxis\":{\"gridcolor\":\"white\",\"linecolor\":\"white\",\"ticks\":\"\"},\"baxis\":{\"gridcolor\":\"white\",\"linecolor\":\"white\",\"ticks\":\"\"},\"caxis\":{\"gridcolor\":\"white\",\"linecolor\":\"white\",\"ticks\":\"\"}},\"coloraxis\":{\"colorbar\":{\"outlinewidth\":0,\"ticks\":\"\"}},\"colorscale\":{\"sequential\":[[0.0,\"#0d0887\"],[0.1111111111111111,\"#46039f\"],[0.2222222222222222,\"#7201a8\"],[0.3333333333333333,\"#9c179e\"],[0.4444444444444444,\"#bd3786\"],[0.5555555555555556,\"#d8576b\"],[0.6666666666666666,\"#ed7953\"],[0.7777777777777778,\"#fb9f3a\"],[0.8888888888888888,\"#fdca26\"],[1.0,\"#f0f921\"]],\"sequentialminus\":[[0.0,\"#0d0887\"],[0.1111111111111111,\"#46039f\"],[0.2222222222222222,\"#7201a8\"],[0.3333333333333333,\"#9c179e\"],[0.4444444444444444,\"#bd3786\"],[0.5555555555555556,\"#d8576b\"],[0.6666666666666666,\"#ed7953\"],[0.7777777777777778,\"#fb9f3a\"],[0.8888888888888888,\"#fdca26\"],[1.0,\"#f0f921\"]],\"diverging\":[[0,\"#8e0152\"],[0.1,\"#c51b7d\"],[0.2,\"#de77ae\"],[0.3,\"#f1b6da\"],[0.4,\"#fde0ef\"],[0.5,\"#f7f7f7\"],[0.6,\"#e6f5d0\"],[0.7,\"#b8e186\"],[0.8,\"#7fbc41\"],[0.9,\"#4d9221\"],[1,\"#276419\"]]},\"xaxis\":{\"gridcolor\":\"white\",\"linecolor\":\"white\",\"ticks\":\"\",\"title\":{\"standoff\":15},\"zerolinecolor\":\"white\",\"automargin\":true,\"zerolinewidth\":2},\"yaxis\":{\"gridcolor\":\"white\",\"linecolor\":\"white\",\"ticks\":\"\",\"title\":{\"standoff\":15},\"zerolinecolor\":\"white\",\"automargin\":true,\"zerolinewidth\":2},\"scene\":{\"xaxis\":{\"backgroundcolor\":\"#E5ECF6\",\"gridcolor\":\"white\",\"linecolor\":\"white\",\"showbackground\":true,\"ticks\":\"\",\"zerolinecolor\":\"white\",\"gridwidth\":2},\"yaxis\":{\"backgroundcolor\":\"#E5ECF6\",\"gridcolor\":\"white\",\"linecolor\":\"white\",\"showbackground\":true,\"ticks\":\"\",\"zerolinecolor\":\"white\",\"gridwidth\":2},\"zaxis\":{\"backgroundcolor\":\"#E5ECF6\",\"gridcolor\":\"white\",\"linecolor\":\"white\",\"showbackground\":true,\"ticks\":\"\",\"zerolinecolor\":\"white\",\"gridwidth\":2}},\"shapedefaults\":{\"line\":{\"color\":\"#2a3f5f\"}},\"annotationdefaults\":{\"arrowcolor\":\"#2a3f5f\",\"arrowhead\":0,\"arrowwidth\":1},\"geo\":{\"bgcolor\":\"white\",\"landcolor\":\"#E5ECF6\",\"subunitcolor\":\"white\",\"showland\":true,\"showlakes\":true,\"lakecolor\":\"white\"},\"title\":{\"x\":0.05},\"mapbox\":{\"style\":\"light\"}}},\"title\":{\"text\":\"Retention in education system, split by gender\"},\"font\":{\"size\":15},\"modebar\":{\"remove\":[\"lasso2d\",\"select2d\",\"resetsankeygroup\"]},\"width\":1200,\"annotations\":[{\"font\":{\"color\":\"grey\",\"size\":10},\"showarrow\":false,\"text\":\"Approximately equal, slightly higher for female respondents\",\"x\":0.01,\"y\":1.15},{\"showarrow\":false,\"text\":\"All respondents\",\"x\":-0.02,\"y\":-0.1},{\"showarrow\":false,\"text\":\"Secondary\",\"x\":0.17,\"y\":-0.1},{\"showarrow\":false,\"text\":\"Bachelor/Tertiary\",\"x\":0.4,\"y\":-0.1},{\"showarrow\":false,\"text\":\"Master/PhD\",\"x\":0.6,\"y\":-0.1},{\"showarrow\":false,\"text\":\"98.9%\",\"x\":0.075,\"y\":0.4},{\"showarrow\":false,\"text\":\"89.2%\",\"x\":0.275,\"y\":0.4},{\"showarrow\":false,\"text\":\"27.1%\",\"x\":0.51,\"y\":0.4},{\"showarrow\":false,\"text\":\"99.2%\",\"x\":0.075,\"y\":0.97},{\"showarrow\":false,\"text\":\"91.3%\",\"x\":0.275,\"y\":0.97},{\"showarrow\":false,\"text\":\"28.9%\",\"x\":0.51,\"y\":0.97},{\"showarrow\":false,\"text\":\"Female\",\"x\":-0.07,\"y\":0.8},{\"showarrow\":false,\"text\":\"Male\",\"x\":-0.05,\"y\":0.2}]},                        {\"responsive\": true}                    ).then(function(){\n",
       "                            \n",
       "var gd = document.getElementById('9f60d9bc-491a-4ca8-baa9-6a3f63be800c');\n",
       "var x = new MutationObserver(function (mutations, observer) {{\n",
       "        var display = window.getComputedStyle(gd).display;\n",
       "        if (!display || display === 'none') {{\n",
       "            console.log([gd, 'removed!']);\n",
       "            Plotly.purge(gd);\n",
       "            observer.disconnect();\n",
       "        }}\n",
       "}});\n",
       "\n",
       "// Listen for the removal of the full notebook cells\n",
       "var notebookContainer = gd.closest('#notebook-container');\n",
       "if (notebookContainer) {{\n",
       "    x.observe(notebookContainer, {childList: true});\n",
       "}}\n",
       "\n",
       "// Listen for the clearing of the current output cell\n",
       "var outputEl = gd.closest('.output');\n",
       "if (outputEl) {{\n",
       "    x.observe(outputEl, {childList: true});\n",
       "}}\n",
       "\n",
       "                        })                };                });            </script>        </div>"
      ]
     },
     "metadata": {},
     "output_type": "display_data"
    }
   ],
   "source": [
    "%run gender_education.ipynb"
   ]
  },
  {
   "cell_type": "code",
   "execution_count": 6,
   "metadata": {
    "ExecuteTime": {
     "end_time": "2023-06-18T16:53:22.982231Z",
     "start_time": "2023-06-18T16:53:22.906040Z"
    },
    "collapsed": false
   },
   "outputs": [
    {
     "data": {
      "application/vnd.plotly.v1+json": {
       "config": {
        "plotlyServerURL": "https://plot.ly"
       },
       "data": [
        {
         "customdata": [
          [
           "Data scientist or machine learning specialist"
          ],
          [
           "Engineer, data"
          ],
          [
           "Developer, front-end"
          ],
          [
           "Student"
          ],
          [
           "Developer, full-stack"
          ],
          [
           "Developer, back-end"
          ],
          [
           "Developer, mobile"
          ],
          [
           "Developer, embedded applications or devices"
          ],
          [
           "Engineer, site reliability"
          ],
          [
           "Developer, desktop or enterprise applications"
          ],
          [
           "Educator or academic"
          ],
          [
           "DevOps specialist"
          ],
          [
           "Database administrator"
          ],
          [
           "Developer, QA or test"
          ],
          [
           "Designer"
          ],
          [
           "System administrator"
          ],
          [
           "Engineering manager"
          ],
          [
           "Data or business analyst"
          ],
          [
           "Senior Executive (C-Suite, VP, etc.)"
          ],
          [
           "Product manager"
          ],
          [
           "Developer, game or graphics"
          ],
          [
           "Marketing or sales professional"
          ],
          [
           "Scientist"
          ]
         ],
         "hovertemplate": "Position=%{customdata[0]}<extra></extra>",
         "legendgroup": "",
         "marker": {
          "color": "#636efa",
          "symbol": "circle"
         },
         "mode": "markers",
         "name": "",
         "orientation": "v",
         "showlegend": false,
         "type": "scatter",
         "x": [
          13.099297423887588,
          19.15230961298377,
          13.389590347923681,
          12.472992700729927,
          18.308324151056798,
          19.07412432165762,
          17.506729081334115,
          26.220408163265308,
          31.281954887218046,
          23.32227016262861,
          12.855860908581043,
          32.709734513274334,
          24.012696041822256,
          13.497643097643097,
          13.520155415250121,
          32.20841300191205,
          28.389162561576356,
          13.717917675544793,
          38.479553903345725,
          20.482857142857142,
          21.65764331210191,
          9.544891640866872,
          15.241573033707866
         ],
         "xaxis": "x",
         "y": [
          2.8582333761580303,
          -1.9890513388519833,
          3.707589729599456,
          1.3417406699155163,
          -0.34987040738475145,
          5.722209301811055,
          4.7893672512516945,
          7.56165580672311,
          -7.579777904605152,
          7.803610843364613,
          4.341448700723221,
          1.0975988720226093,
          9.634382030943026,
          11.612011507499377,
          8.706118220432788,
          5.83894676722251,
          -0.7394728431670561,
          9.274840924997758,
          2.7044296927355647,
          -1.2252722217213752,
          7.227224639323176,
          14.175600449681042,
          5.484094799136047
         ],
         "yaxis": "y"
        }
       ],
       "layout": {
        "legend": {
         "tracegroupgap": 0
        },
        "template": {
         "data": {
          "bar": [
           {
            "error_x": {
             "color": "#2a3f5f"
            },
            "error_y": {
             "color": "#2a3f5f"
            },
            "marker": {
             "line": {
              "color": "#E5ECF6",
              "width": 0.5
             },
             "pattern": {
              "fillmode": "overlay",
              "size": 10,
              "solidity": 0.2
             }
            },
            "type": "bar"
           }
          ],
          "barpolar": [
           {
            "marker": {
             "line": {
              "color": "#E5ECF6",
              "width": 0.5
             },
             "pattern": {
              "fillmode": "overlay",
              "size": 10,
              "solidity": 0.2
             }
            },
            "type": "barpolar"
           }
          ],
          "carpet": [
           {
            "aaxis": {
             "endlinecolor": "#2a3f5f",
             "gridcolor": "white",
             "linecolor": "white",
             "minorgridcolor": "white",
             "startlinecolor": "#2a3f5f"
            },
            "baxis": {
             "endlinecolor": "#2a3f5f",
             "gridcolor": "white",
             "linecolor": "white",
             "minorgridcolor": "white",
             "startlinecolor": "#2a3f5f"
            },
            "type": "carpet"
           }
          ],
          "choropleth": [
           {
            "colorbar": {
             "outlinewidth": 0,
             "ticks": ""
            },
            "type": "choropleth"
           }
          ],
          "contour": [
           {
            "colorbar": {
             "outlinewidth": 0,
             "ticks": ""
            },
            "colorscale": [
             [
              0,
              "#0d0887"
             ],
             [
              0.1111111111111111,
              "#46039f"
             ],
             [
              0.2222222222222222,
              "#7201a8"
             ],
             [
              0.3333333333333333,
              "#9c179e"
             ],
             [
              0.4444444444444444,
              "#bd3786"
             ],
             [
              0.5555555555555556,
              "#d8576b"
             ],
             [
              0.6666666666666666,
              "#ed7953"
             ],
             [
              0.7777777777777778,
              "#fb9f3a"
             ],
             [
              0.8888888888888888,
              "#fdca26"
             ],
             [
              1,
              "#f0f921"
             ]
            ],
            "type": "contour"
           }
          ],
          "contourcarpet": [
           {
            "colorbar": {
             "outlinewidth": 0,
             "ticks": ""
            },
            "type": "contourcarpet"
           }
          ],
          "heatmap": [
           {
            "colorbar": {
             "outlinewidth": 0,
             "ticks": ""
            },
            "colorscale": [
             [
              0,
              "#0d0887"
             ],
             [
              0.1111111111111111,
              "#46039f"
             ],
             [
              0.2222222222222222,
              "#7201a8"
             ],
             [
              0.3333333333333333,
              "#9c179e"
             ],
             [
              0.4444444444444444,
              "#bd3786"
             ],
             [
              0.5555555555555556,
              "#d8576b"
             ],
             [
              0.6666666666666666,
              "#ed7953"
             ],
             [
              0.7777777777777778,
              "#fb9f3a"
             ],
             [
              0.8888888888888888,
              "#fdca26"
             ],
             [
              1,
              "#f0f921"
             ]
            ],
            "type": "heatmap"
           }
          ],
          "heatmapgl": [
           {
            "colorbar": {
             "outlinewidth": 0,
             "ticks": ""
            },
            "colorscale": [
             [
              0,
              "#0d0887"
             ],
             [
              0.1111111111111111,
              "#46039f"
             ],
             [
              0.2222222222222222,
              "#7201a8"
             ],
             [
              0.3333333333333333,
              "#9c179e"
             ],
             [
              0.4444444444444444,
              "#bd3786"
             ],
             [
              0.5555555555555556,
              "#d8576b"
             ],
             [
              0.6666666666666666,
              "#ed7953"
             ],
             [
              0.7777777777777778,
              "#fb9f3a"
             ],
             [
              0.8888888888888888,
              "#fdca26"
             ],
             [
              1,
              "#f0f921"
             ]
            ],
            "type": "heatmapgl"
           }
          ],
          "histogram": [
           {
            "marker": {
             "pattern": {
              "fillmode": "overlay",
              "size": 10,
              "solidity": 0.2
             }
            },
            "type": "histogram"
           }
          ],
          "histogram2d": [
           {
            "colorbar": {
             "outlinewidth": 0,
             "ticks": ""
            },
            "colorscale": [
             [
              0,
              "#0d0887"
             ],
             [
              0.1111111111111111,
              "#46039f"
             ],
             [
              0.2222222222222222,
              "#7201a8"
             ],
             [
              0.3333333333333333,
              "#9c179e"
             ],
             [
              0.4444444444444444,
              "#bd3786"
             ],
             [
              0.5555555555555556,
              "#d8576b"
             ],
             [
              0.6666666666666666,
              "#ed7953"
             ],
             [
              0.7777777777777778,
              "#fb9f3a"
             ],
             [
              0.8888888888888888,
              "#fdca26"
             ],
             [
              1,
              "#f0f921"
             ]
            ],
            "type": "histogram2d"
           }
          ],
          "histogram2dcontour": [
           {
            "colorbar": {
             "outlinewidth": 0,
             "ticks": ""
            },
            "colorscale": [
             [
              0,
              "#0d0887"
             ],
             [
              0.1111111111111111,
              "#46039f"
             ],
             [
              0.2222222222222222,
              "#7201a8"
             ],
             [
              0.3333333333333333,
              "#9c179e"
             ],
             [
              0.4444444444444444,
              "#bd3786"
             ],
             [
              0.5555555555555556,
              "#d8576b"
             ],
             [
              0.6666666666666666,
              "#ed7953"
             ],
             [
              0.7777777777777778,
              "#fb9f3a"
             ],
             [
              0.8888888888888888,
              "#fdca26"
             ],
             [
              1,
              "#f0f921"
             ]
            ],
            "type": "histogram2dcontour"
           }
          ],
          "mesh3d": [
           {
            "colorbar": {
             "outlinewidth": 0,
             "ticks": ""
            },
            "type": "mesh3d"
           }
          ],
          "parcoords": [
           {
            "line": {
             "colorbar": {
              "outlinewidth": 0,
              "ticks": ""
             }
            },
            "type": "parcoords"
           }
          ],
          "pie": [
           {
            "automargin": true,
            "type": "pie"
           }
          ],
          "scatter": [
           {
            "fillpattern": {
             "fillmode": "overlay",
             "size": 10,
             "solidity": 0.2
            },
            "type": "scatter"
           }
          ],
          "scatter3d": [
           {
            "line": {
             "colorbar": {
              "outlinewidth": 0,
              "ticks": ""
             }
            },
            "marker": {
             "colorbar": {
              "outlinewidth": 0,
              "ticks": ""
             }
            },
            "type": "scatter3d"
           }
          ],
          "scattercarpet": [
           {
            "marker": {
             "colorbar": {
              "outlinewidth": 0,
              "ticks": ""
             }
            },
            "type": "scattercarpet"
           }
          ],
          "scattergeo": [
           {
            "marker": {
             "colorbar": {
              "outlinewidth": 0,
              "ticks": ""
             }
            },
            "type": "scattergeo"
           }
          ],
          "scattergl": [
           {
            "marker": {
             "colorbar": {
              "outlinewidth": 0,
              "ticks": ""
             }
            },
            "type": "scattergl"
           }
          ],
          "scattermapbox": [
           {
            "marker": {
             "colorbar": {
              "outlinewidth": 0,
              "ticks": ""
             }
            },
            "type": "scattermapbox"
           }
          ],
          "scatterpolar": [
           {
            "marker": {
             "colorbar": {
              "outlinewidth": 0,
              "ticks": ""
             }
            },
            "type": "scatterpolar"
           }
          ],
          "scatterpolargl": [
           {
            "marker": {
             "colorbar": {
              "outlinewidth": 0,
              "ticks": ""
             }
            },
            "type": "scatterpolargl"
           }
          ],
          "scatterternary": [
           {
            "marker": {
             "colorbar": {
              "outlinewidth": 0,
              "ticks": ""
             }
            },
            "type": "scatterternary"
           }
          ],
          "surface": [
           {
            "colorbar": {
             "outlinewidth": 0,
             "ticks": ""
            },
            "colorscale": [
             [
              0,
              "#0d0887"
             ],
             [
              0.1111111111111111,
              "#46039f"
             ],
             [
              0.2222222222222222,
              "#7201a8"
             ],
             [
              0.3333333333333333,
              "#9c179e"
             ],
             [
              0.4444444444444444,
              "#bd3786"
             ],
             [
              0.5555555555555556,
              "#d8576b"
             ],
             [
              0.6666666666666666,
              "#ed7953"
             ],
             [
              0.7777777777777778,
              "#fb9f3a"
             ],
             [
              0.8888888888888888,
              "#fdca26"
             ],
             [
              1,
              "#f0f921"
             ]
            ],
            "type": "surface"
           }
          ],
          "table": [
           {
            "cells": {
             "fill": {
              "color": "#EBF0F8"
             },
             "line": {
              "color": "white"
             }
            },
            "header": {
             "fill": {
              "color": "#C8D4E3"
             },
             "line": {
              "color": "white"
             }
            },
            "type": "table"
           }
          ]
         },
         "layout": {
          "annotationdefaults": {
           "arrowcolor": "#2a3f5f",
           "arrowhead": 0,
           "arrowwidth": 1
          },
          "autotypenumbers": "strict",
          "coloraxis": {
           "colorbar": {
            "outlinewidth": 0,
            "ticks": ""
           }
          },
          "colorscale": {
           "diverging": [
            [
             0,
             "#8e0152"
            ],
            [
             0.1,
             "#c51b7d"
            ],
            [
             0.2,
             "#de77ae"
            ],
            [
             0.3,
             "#f1b6da"
            ],
            [
             0.4,
             "#fde0ef"
            ],
            [
             0.5,
             "#f7f7f7"
            ],
            [
             0.6,
             "#e6f5d0"
            ],
            [
             0.7,
             "#b8e186"
            ],
            [
             0.8,
             "#7fbc41"
            ],
            [
             0.9,
             "#4d9221"
            ],
            [
             1,
             "#276419"
            ]
           ],
           "sequential": [
            [
             0,
             "#0d0887"
            ],
            [
             0.1111111111111111,
             "#46039f"
            ],
            [
             0.2222222222222222,
             "#7201a8"
            ],
            [
             0.3333333333333333,
             "#9c179e"
            ],
            [
             0.4444444444444444,
             "#bd3786"
            ],
            [
             0.5555555555555556,
             "#d8576b"
            ],
            [
             0.6666666666666666,
             "#ed7953"
            ],
            [
             0.7777777777777778,
             "#fb9f3a"
            ],
            [
             0.8888888888888888,
             "#fdca26"
            ],
            [
             1,
             "#f0f921"
            ]
           ],
           "sequentialminus": [
            [
             0,
             "#0d0887"
            ],
            [
             0.1111111111111111,
             "#46039f"
            ],
            [
             0.2222222222222222,
             "#7201a8"
            ],
            [
             0.3333333333333333,
             "#9c179e"
            ],
            [
             0.4444444444444444,
             "#bd3786"
            ],
            [
             0.5555555555555556,
             "#d8576b"
            ],
            [
             0.6666666666666666,
             "#ed7953"
            ],
            [
             0.7777777777777778,
             "#fb9f3a"
            ],
            [
             0.8888888888888888,
             "#fdca26"
            ],
            [
             1,
             "#f0f921"
            ]
           ]
          },
          "colorway": [
           "#636efa",
           "#EF553B",
           "#00cc96",
           "#ab63fa",
           "#FFA15A",
           "#19d3f3",
           "#FF6692",
           "#B6E880",
           "#FF97FF",
           "#FECB52"
          ],
          "font": {
           "color": "#2a3f5f"
          },
          "geo": {
           "bgcolor": "white",
           "lakecolor": "white",
           "landcolor": "#E5ECF6",
           "showlakes": true,
           "showland": true,
           "subunitcolor": "white"
          },
          "hoverlabel": {
           "align": "left"
          },
          "hovermode": "closest",
          "mapbox": {
           "style": "light"
          },
          "paper_bgcolor": "white",
          "plot_bgcolor": "#E5ECF6",
          "polar": {
           "angularaxis": {
            "gridcolor": "white",
            "linecolor": "white",
            "ticks": ""
           },
           "bgcolor": "#E5ECF6",
           "radialaxis": {
            "gridcolor": "white",
            "linecolor": "white",
            "ticks": ""
           }
          },
          "scene": {
           "xaxis": {
            "backgroundcolor": "#E5ECF6",
            "gridcolor": "white",
            "gridwidth": 2,
            "linecolor": "white",
            "showbackground": true,
            "ticks": "",
            "zerolinecolor": "white"
           },
           "yaxis": {
            "backgroundcolor": "#E5ECF6",
            "gridcolor": "white",
            "gridwidth": 2,
            "linecolor": "white",
            "showbackground": true,
            "ticks": "",
            "zerolinecolor": "white"
           },
           "zaxis": {
            "backgroundcolor": "#E5ECF6",
            "gridcolor": "white",
            "gridwidth": 2,
            "linecolor": "white",
            "showbackground": true,
            "ticks": "",
            "zerolinecolor": "white"
           }
          },
          "shapedefaults": {
           "line": {
            "color": "#2a3f5f"
           }
          },
          "ternary": {
           "aaxis": {
            "gridcolor": "white",
            "linecolor": "white",
            "ticks": ""
           },
           "baxis": {
            "gridcolor": "white",
            "linecolor": "white",
            "ticks": ""
           },
           "bgcolor": "#E5ECF6",
           "caxis": {
            "gridcolor": "white",
            "linecolor": "white",
            "ticks": ""
           }
          },
          "title": {
           "x": 0.05
          },
          "xaxis": {
           "automargin": true,
           "gridcolor": "white",
           "linecolor": "white",
           "ticks": "",
           "title": {
            "standoff": 15
           },
           "zerolinecolor": "white",
           "zerolinewidth": 2
          },
          "yaxis": {
           "automargin": true,
           "gridcolor": "white",
           "linecolor": "white",
           "ticks": "",
           "title": {
            "standoff": 15
           },
           "zerolinecolor": "white",
           "zerolinewidth": 2
          }
         }
        },
        "title": {
         "text": "Gender ratio of positions versus pay gap"
        },
        "width": 600,
        "xaxis": {
         "anchor": "y",
         "domain": [
          0,
          1
         ],
         "title": {
          "text": "Average men per woman in position"
         }
        },
        "yaxis": {
         "anchor": "x",
         "domain": [
          0,
          1
         ],
         "title": {
          "text": "Percentage higher payment of men"
         }
        }
       }
      },
      "text/html": [
       "<div>                            <div id=\"78e926a6-195a-4666-9d32-f4bbc4802c6e\" class=\"plotly-graph-div\" style=\"height:525px; width:600px;\"></div>            <script type=\"text/javascript\">                require([\"plotly\"], function(Plotly) {                    window.PLOTLYENV=window.PLOTLYENV || {};                                    if (document.getElementById(\"78e926a6-195a-4666-9d32-f4bbc4802c6e\")) {                    Plotly.newPlot(                        \"78e926a6-195a-4666-9d32-f4bbc4802c6e\",                        [{\"customdata\":[[\"Data scientist or machine learning specialist\"],[\"Engineer, data\"],[\"Developer, front-end\"],[\"Student\"],[\"Developer, full-stack\"],[\"Developer, back-end\"],[\"Developer, mobile\"],[\"Developer, embedded applications or devices\"],[\"Engineer, site reliability\"],[\"Developer, desktop or enterprise applications\"],[\"Educator or academic\"],[\"DevOps specialist\"],[\"Database administrator\"],[\"Developer, QA or test\"],[\"Designer\"],[\"System administrator\"],[\"Engineering manager\"],[\"Data or business analyst\"],[\"Senior Executive (C-Suite, VP, etc.)\"],[\"Product manager\"],[\"Developer, game or graphics\"],[\"Marketing or sales professional\"],[\"Scientist\"]],\"hovertemplate\":\"Position=%{customdata[0]}<extra></extra>\",\"legendgroup\":\"\",\"marker\":{\"color\":\"#636efa\",\"symbol\":\"circle\"},\"mode\":\"markers\",\"name\":\"\",\"orientation\":\"v\",\"showlegend\":false,\"x\":[13.099297423887588,19.15230961298377,13.389590347923681,12.472992700729927,18.308324151056798,19.07412432165762,17.506729081334115,26.220408163265308,31.281954887218046,23.32227016262861,12.855860908581043,32.709734513274334,24.012696041822256,13.497643097643097,13.520155415250121,32.20841300191205,28.389162561576356,13.717917675544793,38.479553903345725,20.482857142857142,21.65764331210191,9.544891640866872,15.241573033707866],\"xaxis\":\"x\",\"y\":[2.8582333761580303,-1.9890513388519833,3.707589729599456,1.3417406699155163,-0.34987040738475145,5.722209301811055,4.7893672512516945,7.56165580672311,-7.579777904605152,7.803610843364613,4.341448700723221,1.0975988720226093,9.634382030943026,11.612011507499377,8.706118220432788,5.83894676722251,-0.7394728431670561,9.274840924997758,2.7044296927355647,-1.2252722217213752,7.227224639323176,14.175600449681042,5.484094799136047],\"yaxis\":\"y\",\"type\":\"scatter\"}],                        {\"template\":{\"data\":{\"histogram2dcontour\":[{\"type\":\"histogram2dcontour\",\"colorbar\":{\"outlinewidth\":0,\"ticks\":\"\"},\"colorscale\":[[0.0,\"#0d0887\"],[0.1111111111111111,\"#46039f\"],[0.2222222222222222,\"#7201a8\"],[0.3333333333333333,\"#9c179e\"],[0.4444444444444444,\"#bd3786\"],[0.5555555555555556,\"#d8576b\"],[0.6666666666666666,\"#ed7953\"],[0.7777777777777778,\"#fb9f3a\"],[0.8888888888888888,\"#fdca26\"],[1.0,\"#f0f921\"]]}],\"choropleth\":[{\"type\":\"choropleth\",\"colorbar\":{\"outlinewidth\":0,\"ticks\":\"\"}}],\"histogram2d\":[{\"type\":\"histogram2d\",\"colorbar\":{\"outlinewidth\":0,\"ticks\":\"\"},\"colorscale\":[[0.0,\"#0d0887\"],[0.1111111111111111,\"#46039f\"],[0.2222222222222222,\"#7201a8\"],[0.3333333333333333,\"#9c179e\"],[0.4444444444444444,\"#bd3786\"],[0.5555555555555556,\"#d8576b\"],[0.6666666666666666,\"#ed7953\"],[0.7777777777777778,\"#fb9f3a\"],[0.8888888888888888,\"#fdca26\"],[1.0,\"#f0f921\"]]}],\"heatmap\":[{\"type\":\"heatmap\",\"colorbar\":{\"outlinewidth\":0,\"ticks\":\"\"},\"colorscale\":[[0.0,\"#0d0887\"],[0.1111111111111111,\"#46039f\"],[0.2222222222222222,\"#7201a8\"],[0.3333333333333333,\"#9c179e\"],[0.4444444444444444,\"#bd3786\"],[0.5555555555555556,\"#d8576b\"],[0.6666666666666666,\"#ed7953\"],[0.7777777777777778,\"#fb9f3a\"],[0.8888888888888888,\"#fdca26\"],[1.0,\"#f0f921\"]]}],\"heatmapgl\":[{\"type\":\"heatmapgl\",\"colorbar\":{\"outlinewidth\":0,\"ticks\":\"\"},\"colorscale\":[[0.0,\"#0d0887\"],[0.1111111111111111,\"#46039f\"],[0.2222222222222222,\"#7201a8\"],[0.3333333333333333,\"#9c179e\"],[0.4444444444444444,\"#bd3786\"],[0.5555555555555556,\"#d8576b\"],[0.6666666666666666,\"#ed7953\"],[0.7777777777777778,\"#fb9f3a\"],[0.8888888888888888,\"#fdca26\"],[1.0,\"#f0f921\"]]}],\"contourcarpet\":[{\"type\":\"contourcarpet\",\"colorbar\":{\"outlinewidth\":0,\"ticks\":\"\"}}],\"contour\":[{\"type\":\"contour\",\"colorbar\":{\"outlinewidth\":0,\"ticks\":\"\"},\"colorscale\":[[0.0,\"#0d0887\"],[0.1111111111111111,\"#46039f\"],[0.2222222222222222,\"#7201a8\"],[0.3333333333333333,\"#9c179e\"],[0.4444444444444444,\"#bd3786\"],[0.5555555555555556,\"#d8576b\"],[0.6666666666666666,\"#ed7953\"],[0.7777777777777778,\"#fb9f3a\"],[0.8888888888888888,\"#fdca26\"],[1.0,\"#f0f921\"]]}],\"surface\":[{\"type\":\"surface\",\"colorbar\":{\"outlinewidth\":0,\"ticks\":\"\"},\"colorscale\":[[0.0,\"#0d0887\"],[0.1111111111111111,\"#46039f\"],[0.2222222222222222,\"#7201a8\"],[0.3333333333333333,\"#9c179e\"],[0.4444444444444444,\"#bd3786\"],[0.5555555555555556,\"#d8576b\"],[0.6666666666666666,\"#ed7953\"],[0.7777777777777778,\"#fb9f3a\"],[0.8888888888888888,\"#fdca26\"],[1.0,\"#f0f921\"]]}],\"mesh3d\":[{\"type\":\"mesh3d\",\"colorbar\":{\"outlinewidth\":0,\"ticks\":\"\"}}],\"scatter\":[{\"fillpattern\":{\"fillmode\":\"overlay\",\"size\":10,\"solidity\":0.2},\"type\":\"scatter\"}],\"parcoords\":[{\"type\":\"parcoords\",\"line\":{\"colorbar\":{\"outlinewidth\":0,\"ticks\":\"\"}}}],\"scatterpolargl\":[{\"type\":\"scatterpolargl\",\"marker\":{\"colorbar\":{\"outlinewidth\":0,\"ticks\":\"\"}}}],\"bar\":[{\"error_x\":{\"color\":\"#2a3f5f\"},\"error_y\":{\"color\":\"#2a3f5f\"},\"marker\":{\"line\":{\"color\":\"#E5ECF6\",\"width\":0.5},\"pattern\":{\"fillmode\":\"overlay\",\"size\":10,\"solidity\":0.2}},\"type\":\"bar\"}],\"scattergeo\":[{\"type\":\"scattergeo\",\"marker\":{\"colorbar\":{\"outlinewidth\":0,\"ticks\":\"\"}}}],\"scatterpolar\":[{\"type\":\"scatterpolar\",\"marker\":{\"colorbar\":{\"outlinewidth\":0,\"ticks\":\"\"}}}],\"histogram\":[{\"marker\":{\"pattern\":{\"fillmode\":\"overlay\",\"size\":10,\"solidity\":0.2}},\"type\":\"histogram\"}],\"scattergl\":[{\"type\":\"scattergl\",\"marker\":{\"colorbar\":{\"outlinewidth\":0,\"ticks\":\"\"}}}],\"scatter3d\":[{\"type\":\"scatter3d\",\"line\":{\"colorbar\":{\"outlinewidth\":0,\"ticks\":\"\"}},\"marker\":{\"colorbar\":{\"outlinewidth\":0,\"ticks\":\"\"}}}],\"scattermapbox\":[{\"type\":\"scattermapbox\",\"marker\":{\"colorbar\":{\"outlinewidth\":0,\"ticks\":\"\"}}}],\"scatterternary\":[{\"type\":\"scatterternary\",\"marker\":{\"colorbar\":{\"outlinewidth\":0,\"ticks\":\"\"}}}],\"scattercarpet\":[{\"type\":\"scattercarpet\",\"marker\":{\"colorbar\":{\"outlinewidth\":0,\"ticks\":\"\"}}}],\"carpet\":[{\"aaxis\":{\"endlinecolor\":\"#2a3f5f\",\"gridcolor\":\"white\",\"linecolor\":\"white\",\"minorgridcolor\":\"white\",\"startlinecolor\":\"#2a3f5f\"},\"baxis\":{\"endlinecolor\":\"#2a3f5f\",\"gridcolor\":\"white\",\"linecolor\":\"white\",\"minorgridcolor\":\"white\",\"startlinecolor\":\"#2a3f5f\"},\"type\":\"carpet\"}],\"table\":[{\"cells\":{\"fill\":{\"color\":\"#EBF0F8\"},\"line\":{\"color\":\"white\"}},\"header\":{\"fill\":{\"color\":\"#C8D4E3\"},\"line\":{\"color\":\"white\"}},\"type\":\"table\"}],\"barpolar\":[{\"marker\":{\"line\":{\"color\":\"#E5ECF6\",\"width\":0.5},\"pattern\":{\"fillmode\":\"overlay\",\"size\":10,\"solidity\":0.2}},\"type\":\"barpolar\"}],\"pie\":[{\"automargin\":true,\"type\":\"pie\"}]},\"layout\":{\"autotypenumbers\":\"strict\",\"colorway\":[\"#636efa\",\"#EF553B\",\"#00cc96\",\"#ab63fa\",\"#FFA15A\",\"#19d3f3\",\"#FF6692\",\"#B6E880\",\"#FF97FF\",\"#FECB52\"],\"font\":{\"color\":\"#2a3f5f\"},\"hovermode\":\"closest\",\"hoverlabel\":{\"align\":\"left\"},\"paper_bgcolor\":\"white\",\"plot_bgcolor\":\"#E5ECF6\",\"polar\":{\"bgcolor\":\"#E5ECF6\",\"angularaxis\":{\"gridcolor\":\"white\",\"linecolor\":\"white\",\"ticks\":\"\"},\"radialaxis\":{\"gridcolor\":\"white\",\"linecolor\":\"white\",\"ticks\":\"\"}},\"ternary\":{\"bgcolor\":\"#E5ECF6\",\"aaxis\":{\"gridcolor\":\"white\",\"linecolor\":\"white\",\"ticks\":\"\"},\"baxis\":{\"gridcolor\":\"white\",\"linecolor\":\"white\",\"ticks\":\"\"},\"caxis\":{\"gridcolor\":\"white\",\"linecolor\":\"white\",\"ticks\":\"\"}},\"coloraxis\":{\"colorbar\":{\"outlinewidth\":0,\"ticks\":\"\"}},\"colorscale\":{\"sequential\":[[0.0,\"#0d0887\"],[0.1111111111111111,\"#46039f\"],[0.2222222222222222,\"#7201a8\"],[0.3333333333333333,\"#9c179e\"],[0.4444444444444444,\"#bd3786\"],[0.5555555555555556,\"#d8576b\"],[0.6666666666666666,\"#ed7953\"],[0.7777777777777778,\"#fb9f3a\"],[0.8888888888888888,\"#fdca26\"],[1.0,\"#f0f921\"]],\"sequentialminus\":[[0.0,\"#0d0887\"],[0.1111111111111111,\"#46039f\"],[0.2222222222222222,\"#7201a8\"],[0.3333333333333333,\"#9c179e\"],[0.4444444444444444,\"#bd3786\"],[0.5555555555555556,\"#d8576b\"],[0.6666666666666666,\"#ed7953\"],[0.7777777777777778,\"#fb9f3a\"],[0.8888888888888888,\"#fdca26\"],[1.0,\"#f0f921\"]],\"diverging\":[[0,\"#8e0152\"],[0.1,\"#c51b7d\"],[0.2,\"#de77ae\"],[0.3,\"#f1b6da\"],[0.4,\"#fde0ef\"],[0.5,\"#f7f7f7\"],[0.6,\"#e6f5d0\"],[0.7,\"#b8e186\"],[0.8,\"#7fbc41\"],[0.9,\"#4d9221\"],[1,\"#276419\"]]},\"xaxis\":{\"gridcolor\":\"white\",\"linecolor\":\"white\",\"ticks\":\"\",\"title\":{\"standoff\":15},\"zerolinecolor\":\"white\",\"automargin\":true,\"zerolinewidth\":2},\"yaxis\":{\"gridcolor\":\"white\",\"linecolor\":\"white\",\"ticks\":\"\",\"title\":{\"standoff\":15},\"zerolinecolor\":\"white\",\"automargin\":true,\"zerolinewidth\":2},\"scene\":{\"xaxis\":{\"backgroundcolor\":\"#E5ECF6\",\"gridcolor\":\"white\",\"linecolor\":\"white\",\"showbackground\":true,\"ticks\":\"\",\"zerolinecolor\":\"white\",\"gridwidth\":2},\"yaxis\":{\"backgroundcolor\":\"#E5ECF6\",\"gridcolor\":\"white\",\"linecolor\":\"white\",\"showbackground\":true,\"ticks\":\"\",\"zerolinecolor\":\"white\",\"gridwidth\":2},\"zaxis\":{\"backgroundcolor\":\"#E5ECF6\",\"gridcolor\":\"white\",\"linecolor\":\"white\",\"showbackground\":true,\"ticks\":\"\",\"zerolinecolor\":\"white\",\"gridwidth\":2}},\"shapedefaults\":{\"line\":{\"color\":\"#2a3f5f\"}},\"annotationdefaults\":{\"arrowcolor\":\"#2a3f5f\",\"arrowhead\":0,\"arrowwidth\":1},\"geo\":{\"bgcolor\":\"white\",\"landcolor\":\"#E5ECF6\",\"subunitcolor\":\"white\",\"showland\":true,\"showlakes\":true,\"lakecolor\":\"white\"},\"title\":{\"x\":0.05},\"mapbox\":{\"style\":\"light\"}}},\"xaxis\":{\"anchor\":\"y\",\"domain\":[0.0,1.0],\"title\":{\"text\":\"Average men per woman in position\"}},\"yaxis\":{\"anchor\":\"x\",\"domain\":[0.0,1.0],\"title\":{\"text\":\"Percentage higher payment of men\"}},\"legend\":{\"tracegroupgap\":0},\"title\":{\"text\":\"Gender ratio of positions versus pay gap\"},\"width\":600},                        {\"responsive\": true}                    ).then(function(){\n",
       "                            \n",
       "var gd = document.getElementById('78e926a6-195a-4666-9d32-f4bbc4802c6e');\n",
       "var x = new MutationObserver(function (mutations, observer) {{\n",
       "        var display = window.getComputedStyle(gd).display;\n",
       "        if (!display || display === 'none') {{\n",
       "            console.log([gd, 'removed!']);\n",
       "            Plotly.purge(gd);\n",
       "            observer.disconnect();\n",
       "        }}\n",
       "}});\n",
       "\n",
       "// Listen for the removal of the full notebook cells\n",
       "var notebookContainer = gd.closest('#notebook-container');\n",
       "if (notebookContainer) {{\n",
       "    x.observe(notebookContainer, {childList: true});\n",
       "}}\n",
       "\n",
       "// Listen for the clearing of the current output cell\n",
       "var outputEl = gd.closest('.output');\n",
       "if (outputEl) {{\n",
       "    x.observe(outputEl, {childList: true});\n",
       "}}\n",
       "\n",
       "                        })                };                });            </script>        </div>"
      ]
     },
     "metadata": {},
     "output_type": "display_data"
    }
   ],
   "source": [
    "%run gender_devtype.ipynb"
   ]
  }
 ],
 "metadata": {
  "kernelspec": {
   "display_name": "Python 3 (ipykernel)",
   "language": "python",
   "name": "python3"
  },
  "language_info": {
   "codemirror_mode": {
    "name": "ipython",
    "version": 3
   },
   "file_extension": ".py",
   "mimetype": "text/x-python",
   "name": "python",
   "nbconvert_exporter": "python",
   "pygments_lexer": "ipython3",
   "version": "3.9.16"
  }
 },
 "nbformat": 4,
 "nbformat_minor": 5
}
