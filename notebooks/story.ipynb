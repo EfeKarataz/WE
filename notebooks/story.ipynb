{
 "cells": [
  {
   "cell_type": "code",
   "execution_count": null,
   "id": "8ea91a8d",
   "metadata": {
    "tags": [
     "remove_input"
    ]
   },
   "outputs": [],
   "source": [
    "%%html\n",
    "<style>\n",
    ".cartesianlayer .bars path,\n",
    ".colorbar .cbfills,\n",
    ".slider-rail-rect { clip-path: inset(0% 0% 0% 0% round 6px); }\n",
    "\n",
    ".legendundefined { clip-path: inset(0% 0% 0% 0% round 3px); }\n",
    "\n",
    ".gtitle .line:nth-of-type(2) { fill: grey; }\n",
    "    \n",
    ".output_area:last-of-type,\n",
    ".cell_output {\n",
    "    filter: drop-shadow(0px 0px 10px rgba(0, 0, 0, 0.2));\n",
    "    -webkit-backdrop-filter: blur(0); // fixes a safari drop-shadow bug\n",
    "}\n",
    "\n",
    ".plotly-graph-div {\n",
    "    border-radius: 10px;\n",
    "    overflow: hidden;\n",
    "    border: 1px solid #d8bea1;\n",
    "}\n",
    "</style>"
   ]
  },
  {
   "cell_type": "markdown",
   "id": "30f356a4",
   "metadata": {
    "tags": [
     "remove_input"
    ]
   },
   "source": [
    "# The salary gap in software development\n",
    "![](../banner.png)\n",
    "\n",
    "For over two centuries, the fight for equal treatment of men and women has slowly marched onwards. With slow developments across the decades, most Western countries have enshrined equal rights into their constitutions in the present day. While this has resulted in much progress in areas where identifying discrimination is simple (such as the right to access education or other services), the salary difference between genders has remained an issue where many believe sexism to be prevalent. Studies show that, to this day, a marked difference exists between the compensation of men and women (Boll & Lagemann, 2019). Others claim that much of this difference is attributable to non-discriminatory external factors. These factors, such as age, education or work experience, would explain the salary gap without gender. The contrast in these perspectives suggests that there may be differences in their accuracy present between fields of work.\n",
    "\n",
    "As the authors work within the field of software development, we selected that field for further insights into the perspectives on the salary gap. The primary data source is an annual developer survey conducted by the web forum Stack Overflow, with nine years (2014 to 2022) combined for analysis. To seek explanations for the differences in salary between genders, we analysed various factors such as age, professional experience and the cultural effects of the countries.\n",
    "\n",
    "First, however, we assessed the current state of the salary gap. By averaging all the responses to the Stack Overflow survey, we calculated the mean yearly salary of software developers (discarding outliers above ＄250,000 yearly). We found that male developers were paid an average of ＄62,264 annually, while female developers were paid ＄59,289. If we define the gender pay gap as the difference between a man's and a woman's salary relative to that of the man's ($\\frac{S_{\\textrm{man}} - S_{\\textrm{woman}}}{S_{\\textrm{man}}}$), then the base pay gap would show women earning around 4.8% less. While smaller than in other fields of work (Boll & Lagemann, 2014), this difference is still noticeable. As such, we searched for the reasons behind this pay gap.\n",
    "\n",
    "## Life experience\n",
    "\n",
    "It is well known that older employees are paid more. Therefore, one argument favouring a non-discriminatory salary difference could be that the average male respondent is older than the average female. When we analysed our dataset, we found that it was indeed so that the average male respondent was slightly older (around two years). Upon comparing the salaries of respondents with their given ages, we found the previously mentioned pattern of generally increasing salaries to be present in software development (except for developers approaching retirement age):"
   ]
  },
  {
   "cell_type": "code",
   "execution_count": null,
   "id": "faf03dec",
   "metadata": {
    "tags": [
     "remove_input"
    ]
   },
   "outputs": [],
   "source": [
    "%run salary_age.ipynb"
   ]
  },
  {
   "cell_type": "markdown",
   "id": "4a8c6930",
   "metadata": {
    "tags": [
     "remove_input"
    ]
   },
   "source": [
    "As such, part of the difference in salary is explained by the different age distributions of the genders.\n",
    "\n",
    "However, while age alone can occasionally command a higher income, practical experience in programming can also be an essential factor.\n",
    "\n",
    "## Work experience\n",
    "\n",
    "Typically, developers with more professional experience will receive a higher salary. To expand further on the work of the previous graph, we calculated the average years that male and female developers had spent coding professionally:"
   ]
  },
  {
   "cell_type": "code",
   "execution_count": null,
   "id": "e869f21a",
   "metadata": {
    "tags": [
     "remove_input"
    ]
   },
   "outputs": [],
   "source": [
    "%run gender_work_experience.ipynb"
   ]
  },
  {
   "cell_type": "markdown",
   "id": "69e14467",
   "metadata": {
    "tags": [
     "remove_input"
    ]
   },
   "source": [
    "These results showed that the male survey respondents had, on average, more professional experience. At first, this would seem to be another convincing argument favouring the non-discriminatory perspective. However, when we calculated the influence of professional experience on salaries separately for men and women, we saw that the above was an incomplete picture:"
   ]
  },
  {
   "cell_type": "code",
   "execution_count": null,
   "id": "ef3a47ec",
   "metadata": {
    "tags": [
     "remove_input"
    ]
   },
   "outputs": [],
   "source": [
    "%run gender_work_experience_2.ipynb"
   ]
  },
  {
   "cell_type": "markdown",
   "id": "b27f07f6",
   "metadata": {
    "tags": [
     "remove_input"
    ]
   },
   "source": [
    "The above chart shows that, while for the first couple years of a developer's career, gender doesn't play a prominent role, a gap arises after five years. This gap widens further at ten years of professional age, meaning that a woman with the same level of professional experience as a man would benefit significantly less from their expertise. This increased difference is present around the age many women might decide to start a family (and thus take maternity leave). Discrimination against women of childbearing age is a known issue that has been studied before (Li et al., 2022) and might explain part of the gap in the above graph.\n",
    "\n",
    "## Education\n",
    "\n",
    "The subsequent potential influence on the salaries of developers we sought to analyse was education. Similar to the previous factors, it could be that the average male respondent had a higher level of education, justifying their increased pay. However, upon combining information about the education level of respondents with their gender, the following visualisation showed little difference:"
   ]
  },
  {
   "cell_type": "code",
   "execution_count": null,
   "id": "a0793658",
   "metadata": {
    "tags": [
     "remove_input"
    ]
   },
   "outputs": [],
   "source": [
    "%run gender_education.ipynb"
   ]
  },
  {
   "cell_type": "markdown",
   "id": "c3420dc1",
   "metadata": {
    "tags": [
     "remove_input"
    ]
   },
   "source": [
    "The above diagram shows that levels of education were approximately equal for both male and female respondents, slightly favouring female respondents. Since all educational levels had somewhat more women reaching them, the argument from education would suggest that women would earn a higher salary. Therefore, this factor cannot explain the salary difference being the opposite of that, and we turned to yet another aspect of the respondents for more insights.\n",
    "\n",
    "## Different positions\n",
    "The final factor we analysed was the type of positions that respondents held. The argument against a discriminatory pay gap was that perhaps female developers tended towards filling lower-paying jobs. If this argument holds, it would mean that the pay gap could be explained as a result of different aspirations.\n",
    "\n",
    "Separating the various answers of respondents into categories based on the type of position they described to be working in, we looked at the pay gap in diverse functions based on the ratio of male developers to female developers (where a ratio of 10 meant that there were ten male developers per female developer). This analysis resulted in the following graph:"
   ]
  },
  {
   "cell_type": "code",
   "execution_count": null,
   "id": "c1bee8eb",
   "metadata": {
    "tags": [
     "remove_input"
    ]
   },
   "outputs": [],
   "source": [
    "%run gender_devtype.ipynb"
   ]
  },
  {
   "cell_type": "markdown",
   "id": "c9c3d982",
   "metadata": {
    "tags": [
     "remove_input"
    ]
   },
   "source": [
    "This graph shows that jobs with more female developers have an increased gap in salary between genders. This trend might suggest a self-fulfilling prophecy, where positions popular among female developers pay those female developers less, instead of female developers simply applying to lower-paying jobs. However, it is essential to note that this trend could be caused by other unrelated factors or be entirely coincidental. Therefore, the most we could definitively say regarding different positions and gender was that no conclusive argument could be supported for either perspective.\n",
    "\n",
    "## Different countries\n",
    "\n",
    "The final factor we analysed was the countries respondents originated from. With distinct cultures worldwide, we were interested in exploring whether some countries or regions might have different levels of pay inequality than others.\n",
    "\n",
    "Graphing the course of the gender pay gap across recent years for some countries with the most survey respondents, we see much variance in the individual countries year by year but a slight downward trend in general."
   ]
  },
  {
   "cell_type": "code",
   "execution_count": null,
   "id": "dece85fa",
   "metadata": {
    "tags": [
     "remove_input"
    ]
   },
   "outputs": [],
   "source": [
    "%run salaries_gender_countries.ipynb"
   ]
  },
  {
   "cell_type": "markdown",
   "id": "262ee373",
   "metadata": {
    "tags": [
     "remove_input"
    ]
   },
   "source": [
    "The three graphed countries with the highest pay inequality in the first year of the dataset (Poland, Spain and the United Kingdom) all saw a significant decrease in said pay gap over the nine years of the dataset. Many countries (including Poland) show large swings in the average pay gap between years, likely due to the low sample size present. Similarly, the consistency of the United States can be explained by the extremely high (over 60% in many years) number of respondents originating from there.\n",
    "\n",
    "In many cases, notable drops in the pay gap can be linked to legislative changes in the countries or activism on the topic. The slight improvements to pay equality in 2022 compared to 2014 are a positive sign, and the general trend in most countries suggests that pay inequality may drop further in the coming years.\n",
    "\n",
    "## Culture and age\n",
    "\n",
    "The world map, showing the salary differences between genders for various age groups, gives a novel insight into the development along the age axis. Here, we combined information about respondents' salaries with the country they live in, calculating the pay gap per country. We then further divided these pay gaps based on respondents' ages, displaying the changes in relative compensation across the globe."
   ]
  },
  {
   "cell_type": "code",
   "execution_count": 3,
   "id": "4d22430f",
   "metadata": {
    "tags": [
     "remove_input"
    ],
    "ExecuteTime": {
     "end_time": "2023-06-24T19:56:31.647973Z",
     "start_time": "2023-06-24T19:56:30.648615Z"
    }
   },
   "outputs": [
    {
     "data": {
      "text/plain": "<IPython.core.display.HTML object>",
      "text/html": "<style>\n.slider-container .slider-rail-rect {\n    fill: #d8bea1 !important;\n    stroke-width: 0 !important;\n    height: 7px !important;\n}\n.slider-grip-rect {\n    fill: #343a42 !important;\n    stroke-width: 0 !important;\n    filter: drop-shadow(0 0 3px rgba(0, 0, 0, 0.3));\n}\n</style>\n"
     },
     "metadata": {},
     "output_type": "display_data"
    },
    {
     "data": {
      "text/html": "        <script type=\"text/javascript\">\n        window.PlotlyConfig = {MathJaxConfig: 'local'};\n        if (window.MathJax && window.MathJax.Hub && window.MathJax.Hub.Config) {window.MathJax.Hub.Config({SVG: {font: \"STIX-Web\"}});}\n        if (typeof require !== 'undefined') {\n        require.undef(\"plotly\");\n        requirejs.config({\n            paths: {\n                'plotly': ['https://cdn.plot.ly/plotly-2.24.1.min']\n            }\n        });\n        require(['plotly'], function(Plotly) {\n            window._Plotly = Plotly;\n        });\n        }\n        </script>\n        "
     },
     "metadata": {},
     "output_type": "display_data"
    },
    {
     "data": {
      "application/vnd.plotly.v1+json": {
       "data": [
        {
         "colorbar": {
          "len": 0.5,
          "orientation": "h",
          "thickness": 10,
          "tickmode": "array",
          "ticktext": [
           "female-favoured",
           "neutral",
           "male-favoured"
          ],
          "tickvals": [
           -100,
           0,
           100
          ],
          "title": {
           "text": ""
          },
          "x": 0.5,
          "xanchor": "center",
          "xref": "paper",
          "y": 0.92,
          "yanchor": "bottom",
          "yref": "paper"
         },
         "colorscale": [
          [
           0.0,
           "#ff1df1"
          ],
          [
           0.5,
           "#a1daa5"
          ],
          [
           1.0,
           "#352bff"
          ]
         ],
         "hovertemplate": "<b>%{location}</b><br>Salary gap: %{z:.1f}%<extra></extra>",
         "locationmode": "country names",
         "locations": [
          "Afghanistan",
          "Albania",
          "Algeria",
          "Andorra",
          "Angola",
          "Argentina",
          "Armenia",
          "Australia",
          "Austria",
          "Azerbaijan",
          "Bahrain",
          "Bangladesh",
          "Belarus",
          "Belgium",
          "Bhutan",
          "Bosnia and Herzegovina",
          "Brazil",
          "Bulgaria",
          "Cambodia",
          "Cameroon",
          "Canada",
          "Chile",
          "China",
          "Colombia",
          "Costa Rica",
          "Croatia",
          "Cyprus",
          "Czech Republic",
          "Denmark",
          "Dominican Republic",
          "Ecuador",
          "Egypt",
          "El Salvador",
          "Estonia",
          "Ethiopia",
          "Finland",
          "France",
          "Georgia",
          "Germany",
          "Ghana",
          "Greece",
          "Honduras",
          "Hong Kong",
          "Hungary",
          "Iceland",
          "India",
          "Indonesia",
          "Iran",
          "Iraq",
          "Ireland",
          "Isle of Man",
          "Israel",
          "Italy",
          "Ivory Coast",
          "Jamaica",
          "Japan",
          "Jordan",
          "Kazakhstan",
          "Kenya",
          "Latvia",
          "Lebanon",
          "Lithuania",
          "Macedonia",
          "Madagascar",
          "Malaysia",
          "Malta",
          "Mauritius",
          "Mexico",
          "Moldova",
          "Mongolia",
          "Morocco",
          "Mozambique",
          "Myanmar",
          "Nepal",
          "Netherlands",
          "New Zealand",
          "Nigeria",
          "North Korea",
          "Norway",
          "Pakistan",
          "Palestine",
          "Paraguay",
          "Peru",
          "Philippines",
          "Poland",
          "Portugal",
          "Puerto Rico",
          "Romania",
          "Russia",
          "Saudi Arabia",
          "Serbia",
          "Singapore",
          "Slovakia",
          "Slovenia",
          "South Africa",
          "South Korea",
          "Spain",
          "Sri Lanka",
          "Sweden",
          "Switzerland",
          "Syria",
          "Taiwan",
          "Tanzania",
          "Thailand",
          "Tunisia",
          "Turkey",
          "Uganda",
          "Ukraine",
          "United Arab Emirates",
          "United Kingdom",
          "United States",
          "Uruguay",
          "Uzbekistan",
          "Venezuela",
          "Vietnam",
          "Zambia",
          "Zimbabwe"
         ],
         "visible": true,
         "z": [
          -84.33150147613262,
          32.87592389391524,
          23.728894354984796,
          -7.978866993174193,
          -250.77872877788693,
          5.066893759172928,
          -34.22649346601932,
          -2.782664790938227,
          22.928713899044265,
          40.0052413165496,
          -76.13121014764552,
          6.88366052884689,
          -4.998573001182375,
          31.12207619327052,
          -418.2616416732439,
          -129.09201265950836,
          -4.218785675254351,
          23.943562075478496,
          70.00095996928098,
          24.534896652526886,
          5.222707427766325,
          -3.9724199288256172,
          17.60180682399393,
          50.58847082355255,
          -44.41587296654806,
          27.005934324726873,
          29.266052421648798,
          22.510276833414277,
          -4.186581953223988,
          47.06419511091845,
          77.73863508600982,
          -19.298683158136594,
          -49.60398943971838,
          25.315175650898915,
          -73.19781122772943,
          0.8056201533632512,
          1.6040021721098343,
          54.28306224359402,
          13.452529471301808,
          -61.76231747109806,
          7.604158750682726,
          63.88529139685476,
          7.205890460006041,
          15.08269884631287,
          7.285817098140979,
          7.77964594723473,
          -13.850509333548036,
          10.526316525522546,
          22.826003999206268,
          5.477620026440168,
          -8.180833556046306,
          32.331648329173056,
          3.9965678153045796,
          82.24657534246576,
          10.215438139517936,
          5.837864579422321,
          60.94434428206854,
          14.2114095081463,
          -74.92916990615501,
          18.922268266216914,
          16.240628542983316,
          52.91935175118565,
          -25.35558320525018,
          97.19157472417251,
          37.07556628320307,
          22.014215092250705,
          35.13993443419135,
          18.99230768023827,
          70.6588267051623,
          -537.2684161703382,
          25.276992130118547,
          67.80538302277432,
          39.42137105945503,
          37.515647221512225,
          -7.998871771952329,
          4.033652993092248,
          19.863149310406346,
          14.42692796376091,
          16.033050633624306,
          -9.08690093638782,
          49.97281870073389,
          -39.00079633425151,
          -9.388083906596137,
          17.15499155284166,
          26.793544359245576,
          -0.8255959721130539,
          -600.0,
          1.8811491756762975,
          21.417014132686447,
          12.425917059566602,
          43.33905581909537,
          -4.899659587989259,
          11.517233769282175,
          45.82060583687697,
          8.554106157606087,
          28.971962616822427,
          -8.938842703938493,
          -25.631861910686716,
          -5.874391253701601,
          4.706434153106686,
          -90.82274038836465,
          13.775180799270803,
          -180.55498877780042,
          49.11506650836134,
          51.447423812574364,
          24.71324319292544,
          -118.84670566162674,
          9.885453280327116,
          1.4492073646642434,
          9.52171368350203,
          -4.82740320567451,
          -45.94169854826036,
          55.55595703742514,
          76.07433761360616,
          2.7697813330526517,
          62.78764510439313,
          21.01799034664327
         ],
         "zmax": 100,
         "zmin": -100,
         "type": "choropleth"
        },
        {
         "colorbar": {
          "len": 0.5,
          "orientation": "h",
          "thickness": 10,
          "tickmode": "array",
          "ticktext": [
           "female-favoured",
           "neutral",
           "male-favoured"
          ],
          "tickvals": [
           -100,
           0,
           100
          ],
          "title": {
           "text": ""
          },
          "x": 0.5,
          "xanchor": "center",
          "xref": "paper",
          "y": 0.92,
          "yanchor": "bottom",
          "yref": "paper"
         },
         "colorscale": [
          [
           0.0,
           "#ff1df1"
          ],
          [
           0.5,
           "#a1daa5"
          ],
          [
           1.0,
           "#352bff"
          ]
         ],
         "hovertemplate": "<b>%{location}</b><br>Salary gap: %{z:.1f}%<extra></extra>",
         "locationmode": "country names",
         "locations": [
          "Afghanistan",
          "Albania",
          "Algeria",
          "Argentina",
          "Armenia",
          "Australia",
          "Austria",
          "Bahamas",
          "Bahrain",
          "Bangladesh",
          "Belarus",
          "Belgium",
          "Bolivia",
          "Bosnia and Herzegovina",
          "Brazil",
          "Bulgaria",
          "Cambodia",
          "Canada",
          "Chile",
          "China",
          "Colombia",
          "Costa Rica",
          "Croatia",
          "Cuba",
          "Cyprus",
          "Czech Republic",
          "Denmark",
          "Dominican Republic",
          "Ecuador",
          "Egypt",
          "El Salvador",
          "Estonia",
          "Ethiopia",
          "Fiji",
          "Finland",
          "France",
          "Gabon",
          "Georgia",
          "Germany",
          "Ghana",
          "Greece",
          "Guatemala",
          "Guyana",
          "Honduras",
          "Hong Kong",
          "Hungary",
          "Iceland",
          "India",
          "Indonesia",
          "Iran",
          "Iraq",
          "Ireland",
          "Isle of Man",
          "Israel",
          "Italy",
          "Jamaica",
          "Japan",
          "Jordan",
          "Kazakhstan",
          "Kenya",
          "Kuwait",
          "Kyrgyzstan",
          "Latvia",
          "Lebanon",
          "Lithuania",
          "Luxembourg",
          "Macedonia",
          "Madagascar",
          "Malaysia",
          "Maldives",
          "Malta",
          "Mauritius",
          "Mexico",
          "Montenegro",
          "Morocco",
          "Myanmar",
          "Namibia",
          "Nepal",
          "Netherlands",
          "New Zealand",
          "Nicaragua",
          "Nigeria",
          "Nomadic",
          "North Korea",
          "Norway",
          "Oman",
          "Pakistan",
          "Panama",
          "Paraguay",
          "Peru",
          "Philippines",
          "Poland",
          "Portugal",
          "Qatar",
          "Romania",
          "Russia",
          "Saudi Arabia",
          "Serbia",
          "Singapore",
          "Slovakia",
          "Slovenia",
          "South Africa",
          "South Korea",
          "Spain",
          "Sri Lanka",
          "Sudan",
          "Suriname",
          "Sweden",
          "Switzerland",
          "Syria",
          "Taiwan",
          "Thailand",
          "Trinidad and Tobago",
          "Tunisia",
          "Turkey",
          "Uganda",
          "Ukraine",
          "United Arab Emirates",
          "United Kingdom",
          "United States",
          "Uruguay",
          "Uzbekistan",
          "Venezuela",
          "Vietnam",
          "Yemen",
          "Zimbabwe"
         ],
         "visible": false,
         "z": [
          25.16174719155374,
          -30.331422607164633,
          20.232160714019194,
          17.576428843662764,
          6.935791691890287,
          10.268866259531736,
          17.46326441157983,
          93.29785665455813,
          0.9138296841175637,
          13.602368676675761,
          41.64336698588343,
          22.035623656402226,
          -45.333733054623565,
          36.3488461425397,
          10.062033074012747,
          17.698264900731104,
          -25.455329047188926,
          11.872284603870842,
          -4.28370172251895,
          31.421019694450447,
          26.05361252523376,
          -12.356138481122876,
          32.28418020490202,
          35.38886245837194,
          28.72000008083168,
          8.368351657428889,
          12.179185355812214,
          -29.95701103715548,
          42.059464062557055,
          10.515630095393602,
          -17.71585891303791,
          8.557867714707049,
          -20.889032100880637,
          -76.82830308146896,
          4.281928380123523,
          14.643770504793643,
          -7.6923076923076925,
          47.56680558425761,
          9.41020137752579,
          -231.3275993416959,
          4.23085099022001,
          28.83229057542846,
          -61.174785100286535,
          56.97539106811722,
          12.83494252868296,
          31.587411792569974,
          -3.0266048924984643,
          13.747657002493247,
          40.54719360244879,
          34.7266357102754,
          66.62139860054688,
          6.71757603067355,
          -54.04613203571018,
          13.488428370118196,
          19.273486714971096,
          34.41926678349769,
          21.43727220535981,
          56.58783763535145,
          28.454755614950738,
          17.383391912704305,
          24.595523210298932,
          63.748154719917395,
          46.54486758545245,
          -9.910290143056791,
          25.399352820997816,
          -43.301805440768135,
          15.617043618480778,
          53.04223080590047,
          21.072083345122817,
          18.504089123575245,
          -2.9403112151377067,
          33.023515996471524,
          12.888172821112684,
          65.86275300964878,
          48.35598364101458,
          -195.9006454671432,
          -118.3834778174401,
          65.85094403350257,
          19.65987301927911,
          9.488283193475997,
          49.10648000848446,
          -24.116142187916157,
          65.15693991432815,
          23.621358005562637,
          8.166869953319472,
          24.619912716938998,
          11.182614109679538,
          -6.157744772551798,
          44.018409454562004,
          -66.98703221335902,
          17.68967480252147,
          30.167596846546058,
          19.351925291402292,
          27.73792113904141,
          29.786141318325093,
          19.603451306054616,
          25.238639354081055,
          31.143288053184158,
          36.28787001375403,
          23.209775106271355,
          29.524851166841504,
          16.164165959439416,
          39.06735751295337,
          14.055924702955647,
          -2.956912033239909,
          0.8369292873051273,
          60.30485868529693,
          7.432552523691747,
          8.587671795980075,
          37.842352666951555,
          25.940406405886375,
          6.727190047085056,
          22.31478679176158,
          41.45668493735685,
          16.355253160434998,
          30.797993668261736,
          28.670504977661693,
          34.64122789890672,
          14.996116915443046,
          5.344616334604772,
          -12.43535187061356,
          89.3836994684911,
          37.03807644995248,
          -11.93835832446438,
          71.13778589403826,
          77.03233605318827
         ],
         "zmax": 100,
         "zmin": -100,
         "type": "choropleth"
        },
        {
         "colorbar": {
          "len": 0.5,
          "orientation": "h",
          "thickness": 10,
          "tickmode": "array",
          "ticktext": [
           "female-favoured",
           "neutral",
           "male-favoured"
          ],
          "tickvals": [
           -100,
           0,
           100
          ],
          "title": {
           "text": ""
          },
          "x": 0.5,
          "xanchor": "center",
          "xref": "paper",
          "y": 0.92,
          "yanchor": "bottom",
          "yref": "paper"
         },
         "colorscale": [
          [
           0.0,
           "#ff1df1"
          ],
          [
           0.5,
           "#a1daa5"
          ],
          [
           1.0,
           "#352bff"
          ]
         ],
         "hovertemplate": "<b>%{location}</b><br>Salary gap: %{z:.1f}%<extra></extra>",
         "locationmode": "country names",
         "locations": [
          "Algeria",
          "Argentina",
          "Australia",
          "Austria",
          "Belarus",
          "Belgium",
          "Benin",
          "Bolivia",
          "Bosnia and Herzegovina",
          "Brazil",
          "Bulgaria",
          "Canada",
          "Chile",
          "China",
          "Colombia",
          "Costa Rica",
          "Croatia",
          "Cyprus",
          "Czech Republic",
          "Denmark",
          "Egypt",
          "Finland",
          "France",
          "Georgia",
          "Germany",
          "Greece",
          "Guatemala",
          "Hong Kong",
          "Hungary",
          "India",
          "Indonesia",
          "Iran",
          "Ireland",
          "Israel",
          "Italy",
          "Japan",
          "Jordan",
          "Kazakhstan",
          "Kenya",
          "Kyrgyzstan",
          "Lithuania",
          "Luxembourg",
          "Macedonia",
          "Malaysia",
          "Malta",
          "Mauritius",
          "Mexico",
          "Nepal",
          "Netherlands",
          "New Zealand",
          "Nicaragua",
          "Nigeria",
          "North Korea",
          "Norway",
          "Pakistan",
          "Peru",
          "Philippines",
          "Poland",
          "Portugal",
          "Romania",
          "Russia",
          "Serbia",
          "Singapore",
          "Slovakia",
          "Slovenia",
          "South Africa",
          "South Korea",
          "Spain",
          "Sri Lanka",
          "Sweden",
          "Switzerland",
          "Taiwan",
          "Thailand",
          "Turkey",
          "Ukraine",
          "United Arab Emirates",
          "United Kingdom",
          "United States",
          "Uruguay",
          "Venezuela",
          "Zimbabwe"
         ],
         "visible": false,
         "z": [
          -84.78410606707142,
          55.24096495909845,
          20.357957414814702,
          26.85754378965936,
          84.21748991452239,
          22.53815994032073,
          -284.1973087447056,
          23.766467896269592,
          54.59087785146115,
          25.96300840385222,
          34.4270602453002,
          12.619614703440183,
          60.24770750207071,
          48.040656662957,
          40.34768492603409,
          -19.561358952595285,
          50.74829434586508,
          -2.344919974775448,
          38.59873249355649,
          14.403424568243317,
          46.23088802879947,
          27.76385795209853,
          19.12554882597939,
          38.24223007563498,
          20.347005443048378,
          14.482708582225925,
          -30.206048413479426,
          -21.804706957545374,
          50.32828943284624,
          24.72326503658575,
          82.25579426060328,
          -3.8991874543396277,
          11.823222320391634,
          11.233370401394547,
          26.283805269846315,
          27.69008200401905,
          33.92652810274453,
          17.590272344683733,
          -60.12770509780775,
          97.5929640487579,
          45.364157573954536,
          -6.4299433646746955,
          -6.32091967707132,
          -32.3264760871404,
          31.94171898986075,
          -21.917151103703404,
          41.63526712308928,
          30.719048373392475,
          29.867498934286864,
          13.939658366009214,
          33.107443436441145,
          12.089071352905234,
          16.514675205971667,
          10.971153867560302,
          38.74660982021435,
          -0.7643544312969804,
          73.16326390595432,
          8.9164287814475,
          47.83217063468637,
          28.66157343772428,
          36.69174965753535,
          31.950315925014404,
          -18.54108478639067,
          44.83168495134468,
          11.202583242795143,
          19.511258879197097,
          35.09933774834437,
          8.669039472709784,
          26.65848971277146,
          13.255322135815813,
          17.230837557626714,
          -197.90816455659672,
          38.979255933855775,
          57.06295105641425,
          56.130424720273076,
          49.73658490657512,
          18.80455476158476,
          14.849235265089355,
          73.44943516043891,
          54.08710258466807,
          49.45410432672867
         ],
         "zmax": 100,
         "zmin": -100,
         "type": "choropleth"
        },
        {
         "colorbar": {
          "len": 0.5,
          "orientation": "h",
          "thickness": 10,
          "tickmode": "array",
          "ticktext": [
           "female-favoured",
           "neutral",
           "male-favoured"
          ],
          "tickvals": [
           -100,
           0,
           100
          ],
          "title": {
           "text": ""
          },
          "x": 0.5,
          "xanchor": "center",
          "xref": "paper",
          "y": 0.92,
          "yanchor": "bottom",
          "yref": "paper"
         },
         "colorscale": [
          [
           0.0,
           "#ff1df1"
          ],
          [
           0.5,
           "#a1daa5"
          ],
          [
           1.0,
           "#352bff"
          ]
         ],
         "hovertemplate": "<b>%{location}</b><br>Salary gap: %{z:.1f}%<extra></extra>",
         "locationmode": "country names",
         "locations": [
          "Argentina",
          "Australia",
          "Austria",
          "Belarus",
          "Belgium",
          "Brazil",
          "Bulgaria",
          "Canada",
          "Colombia",
          "Croatia",
          "Denmark",
          "Ecuador",
          "Finland",
          "France",
          "Germany",
          "Greece",
          "Hungary",
          "India",
          "Ireland",
          "Israel",
          "Italy",
          "Japan",
          "Kenya",
          "Lebanon",
          "Mexico",
          "Netherlands",
          "New Zealand",
          "North Korea",
          "Norway",
          "Panama",
          "Portugal",
          "Romania",
          "Russia",
          "Serbia",
          "Slovenia",
          "South Africa",
          "Spain",
          "Sweden",
          "Switzerland",
          "Thailand",
          "United Kingdom",
          "United States"
         ],
         "visible": false,
         "z": [
          35.05674367486597,
          27.886741431410933,
          -4.33160247405204,
          -4.796905222437142,
          65.53113989112288,
          24.202636380493576,
          50.06610042621757,
          5.870312165161698,
          55.197156979788865,
          19.234166520602017,
          12.901225704518879,
          3.043709332222524,
          27.66350923727932,
          35.523251375894866,
          22.75385048579945,
          54.56859887420568,
          30.74368373145711,
          52.66046567305113,
          52.48309985804337,
          15.504536878952488,
          52.79520483503482,
          42.40215338968185,
          7.628178407669862,
          77.5,
          55.61818892484762,
          23.0763039955458,
          32.286282483377796,
          -0.6737917736817951,
          -7.641426025626731,
          70.0789914625389,
          36.049275854616816,
          28.15069663989877,
          59.29511008719728,
          63.193651583147755,
          10.864701142363755,
          19.559471960050868,
          -2.764024228093233,
          9.590050816171114,
          -5.132689251827333,
          19.511323739293676,
          19.40395961682138,
          19.982688937331584
         ],
         "zmax": 100,
         "zmin": -100,
         "type": "choropleth"
        },
        {
         "colorbar": {
          "len": 0.5,
          "orientation": "h",
          "thickness": 10,
          "tickmode": "array",
          "ticktext": [
           "female-favoured",
           "neutral",
           "male-favoured"
          ],
          "tickvals": [
           -100,
           0,
           100
          ],
          "title": {
           "text": ""
          },
          "x": 0.5,
          "xanchor": "center",
          "xref": "paper",
          "y": 0.92,
          "yanchor": "bottom",
          "yref": "paper"
         },
         "colorscale": [
          [
           0.0,
           "#ff1df1"
          ],
          [
           0.5,
           "#a1daa5"
          ],
          [
           1.0,
           "#352bff"
          ]
         ],
         "hovertemplate": "<b>%{location}</b><br>Salary gap: %{z:.1f}%<extra></extra>",
         "locationmode": "country names",
         "locations": [
          "Australia",
          "Canada",
          "Denmark",
          "France",
          "Germany",
          "Hungary",
          "Israel",
          "Japan",
          "Mexico",
          "Netherlands",
          "New Zealand",
          "Russia",
          "Spain",
          "United Kingdom",
          "United States"
         ],
         "visible": false,
         "z": [
          34.180693550359265,
          38.42804546476029,
          10.803001555072282,
          -84.25908889159959,
          2.493191618030168,
          33.19892473118279,
          31.943745332007367,
          -27.54651249525919,
          56.18737846915326,
          -13.993090211505082,
          25.81941333213888,
          42.80564317653992,
          25.804934154625187,
          29.323981708840297,
          19.678374204321667
         ],
         "zmax": 100,
         "zmin": -100,
         "type": "choropleth"
        },
        {
         "colorbar": {
          "len": 0.5,
          "orientation": "h",
          "thickness": 10,
          "tickmode": "array",
          "ticktext": [
           "female-favoured",
           "neutral",
           "male-favoured"
          ],
          "tickvals": [
           -100,
           0,
           100
          ],
          "title": {
           "text": ""
          },
          "x": 0.5,
          "xanchor": "center",
          "xref": "paper",
          "y": 0.92,
          "yanchor": "bottom",
          "yref": "paper"
         },
         "colorscale": [
          [
           0.0,
           "#ff1df1"
          ],
          [
           0.5,
           "#a1daa5"
          ],
          [
           1.0,
           "#352bff"
          ]
         ],
         "hovertemplate": "<b>%{location}</b><br>Salary gap: %{z:.1f}%<extra></extra>",
         "locationmode": "country names",
         "locations": [
          "Brazil",
          "Canada",
          "Italy",
          "Netherlands",
          "Thailand",
          "United States",
          "Vietnam"
         ],
         "visible": false,
         "z": [
          99.88408996826273,
          16.274565014041677,
          -46.83770192937911,
          -14.245920072165017,
          22.114782608695656,
          9.736026943041367,
          -236.89095127610207
         ],
         "zmax": 100,
         "zmin": -100,
         "type": "choropleth"
        }
       ],
       "layout": {
        "geo": {
         "landcolor": "#ffffff",
         "oceancolor": "#a8d5f2",
         "showocean": true,
         "showcountries": true,
         "showcoastlines": false
        },
        "height": 640,
        "margin": {
         "b": 80,
         "l": 20,
         "r": 20,
         "t": 80
        },
        "sliders": [
         {
          "active": 0,
          "currentvalue": {
           "prefix": "Selected age: "
          },
          "steps": [
           {
            "args": [
             {
              "visible": [
               true,
               false,
               false,
               false,
               false,
               false
              ]
             },
             {
              "title": "Global Salary Gap Distribution Between Men and Women (18-24 years old)<br><sup>In most countries, a neutral or female-favoured pay gap turns male favoured at ages 35+</sup>"
             }
            ],
            "label": "18-24",
            "method": "update"
           },
           {
            "args": [
             {
              "visible": [
               false,
               true,
               false,
               false,
               false,
               false
              ]
             },
             {
              "title": "Global Salary Gap Distribution Between Men and Women (25-34 years old)<br><sup>In most countries, a neutral or female-favoured pay gap turns male favoured at ages 35+</sup>"
             }
            ],
            "label": "25-34",
            "method": "update"
           },
           {
            "args": [
             {
              "visible": [
               false,
               false,
               true,
               false,
               false,
               false
              ]
             },
             {
              "title": "Global Salary Gap Distribution Between Men and Women (35-44 years old)<br><sup>In most countries, a neutral or female-favoured pay gap turns male favoured at ages 35+</sup>"
             }
            ],
            "label": "35-44",
            "method": "update"
           },
           {
            "args": [
             {
              "visible": [
               false,
               false,
               false,
               true,
               false,
               false
              ]
             },
             {
              "title": "Global Salary Gap Distribution Between Men and Women (45-54 years old)<br><sup>In most countries, a neutral or female-favoured pay gap turns male favoured at ages 35+</sup>"
             }
            ],
            "label": "45-54",
            "method": "update"
           },
           {
            "args": [
             {
              "visible": [
               false,
               false,
               false,
               false,
               true,
               false
              ]
             },
             {
              "title": "Global Salary Gap Distribution Between Men and Women (55-64 years old)<br><sup>In most countries, a neutral or female-favoured pay gap turns male favoured at ages 35+</sup>"
             }
            ],
            "label": "55-64",
            "method": "update"
           },
           {
            "args": [
             {
              "visible": [
               false,
               false,
               false,
               false,
               false,
               true
              ]
             },
             {
              "title": "Global Salary Gap Distribution Between Men and Women (65+ years old)<br><sup>In most countries, a neutral or female-favoured pay gap turns male favoured at ages 35+</sup>"
             }
            ],
            "label": "65+",
            "method": "update"
           }
          ]
         }
        ],
        "title": {
         "text": "Global Salary Gap Distribution Between Men and Women (18-24 years old)<br><sup>In most countries, a neutral or female-favoured pay gap turns male favoured at ages 35+</sup>"
        },
        "width": 790,
        "template": {
         "data": {
          "barpolar": [
           {
            "marker": {
             "line": {
              "color": "#E5ECF6",
              "width": 0.5
             },
             "pattern": {
              "fillmode": "overlay",
              "size": 10,
              "solidity": 0.2
             }
            },
            "type": "barpolar"
           }
          ],
          "bar": [
           {
            "error_x": {
             "color": "#2a3f5f"
            },
            "error_y": {
             "color": "#2a3f5f"
            },
            "marker": {
             "line": {
              "color": "#E5ECF6",
              "width": 0
             },
             "pattern": {
              "fillmode": "overlay",
              "size": 10,
              "solidity": 0.2
             }
            },
            "type": "bar"
           }
          ],
          "carpet": [
           {
            "aaxis": {
             "endlinecolor": "#2a3f5f",
             "gridcolor": "white",
             "linecolor": "white",
             "minorgridcolor": "white",
             "startlinecolor": "#2a3f5f"
            },
            "baxis": {
             "endlinecolor": "#2a3f5f",
             "gridcolor": "white",
             "linecolor": "white",
             "minorgridcolor": "white",
             "startlinecolor": "#2a3f5f"
            },
            "type": "carpet"
           }
          ],
          "choropleth": [
           {
            "colorbar": {
             "outlinewidth": 0,
             "ticks": ""
            },
            "type": "choropleth"
           }
          ],
          "contourcarpet": [
           {
            "colorbar": {
             "outlinewidth": 0,
             "ticks": ""
            },
            "type": "contourcarpet"
           }
          ],
          "contour": [
           {
            "colorbar": {
             "outlinewidth": 0,
             "ticks": ""
            },
            "colorscale": [
             [
              0.0,
              "#0d0887"
             ],
             [
              0.1111111111111111,
              "#46039f"
             ],
             [
              0.2222222222222222,
              "#7201a8"
             ],
             [
              0.3333333333333333,
              "#9c179e"
             ],
             [
              0.4444444444444444,
              "#bd3786"
             ],
             [
              0.5555555555555556,
              "#d8576b"
             ],
             [
              0.6666666666666666,
              "#ed7953"
             ],
             [
              0.7777777777777778,
              "#fb9f3a"
             ],
             [
              0.8888888888888888,
              "#fdca26"
             ],
             [
              1.0,
              "#f0f921"
             ]
            ],
            "type": "contour"
           }
          ],
          "heatmapgl": [
           {
            "colorbar": {
             "outlinewidth": 0,
             "ticks": ""
            },
            "colorscale": [
             [
              0.0,
              "#0d0887"
             ],
             [
              0.1111111111111111,
              "#46039f"
             ],
             [
              0.2222222222222222,
              "#7201a8"
             ],
             [
              0.3333333333333333,
              "#9c179e"
             ],
             [
              0.4444444444444444,
              "#bd3786"
             ],
             [
              0.5555555555555556,
              "#d8576b"
             ],
             [
              0.6666666666666666,
              "#ed7953"
             ],
             [
              0.7777777777777778,
              "#fb9f3a"
             ],
             [
              0.8888888888888888,
              "#fdca26"
             ],
             [
              1.0,
              "#f0f921"
             ]
            ],
            "type": "heatmapgl"
           }
          ],
          "heatmap": [
           {
            "colorbar": {
             "outlinewidth": 0,
             "ticks": ""
            },
            "colorscale": [
             [
              0.0,
              "#0d0887"
             ],
             [
              0.1111111111111111,
              "#46039f"
             ],
             [
              0.2222222222222222,
              "#7201a8"
             ],
             [
              0.3333333333333333,
              "#9c179e"
             ],
             [
              0.4444444444444444,
              "#bd3786"
             ],
             [
              0.5555555555555556,
              "#d8576b"
             ],
             [
              0.6666666666666666,
              "#ed7953"
             ],
             [
              0.7777777777777778,
              "#fb9f3a"
             ],
             [
              0.8888888888888888,
              "#fdca26"
             ],
             [
              1.0,
              "#f0f921"
             ]
            ],
            "type": "heatmap"
           }
          ],
          "histogram2dcontour": [
           {
            "colorbar": {
             "outlinewidth": 0,
             "ticks": ""
            },
            "colorscale": [
             [
              0.0,
              "#0d0887"
             ],
             [
              0.1111111111111111,
              "#46039f"
             ],
             [
              0.2222222222222222,
              "#7201a8"
             ],
             [
              0.3333333333333333,
              "#9c179e"
             ],
             [
              0.4444444444444444,
              "#bd3786"
             ],
             [
              0.5555555555555556,
              "#d8576b"
             ],
             [
              0.6666666666666666,
              "#ed7953"
             ],
             [
              0.7777777777777778,
              "#fb9f3a"
             ],
             [
              0.8888888888888888,
              "#fdca26"
             ],
             [
              1.0,
              "#f0f921"
             ]
            ],
            "type": "histogram2dcontour"
           }
          ],
          "histogram2d": [
           {
            "colorbar": {
             "outlinewidth": 0,
             "ticks": ""
            },
            "colorscale": [
             [
              0.0,
              "#0d0887"
             ],
             [
              0.1111111111111111,
              "#46039f"
             ],
             [
              0.2222222222222222,
              "#7201a8"
             ],
             [
              0.3333333333333333,
              "#9c179e"
             ],
             [
              0.4444444444444444,
              "#bd3786"
             ],
             [
              0.5555555555555556,
              "#d8576b"
             ],
             [
              0.6666666666666666,
              "#ed7953"
             ],
             [
              0.7777777777777778,
              "#fb9f3a"
             ],
             [
              0.8888888888888888,
              "#fdca26"
             ],
             [
              1.0,
              "#f0f921"
             ]
            ],
            "type": "histogram2d"
           }
          ],
          "histogram": [
           {
            "marker": {
             "pattern": {
              "fillmode": "overlay",
              "size": 10,
              "solidity": 0.2
             }
            },
            "type": "histogram"
           }
          ],
          "mesh3d": [
           {
            "colorbar": {
             "outlinewidth": 0,
             "ticks": ""
            },
            "type": "mesh3d"
           }
          ],
          "parcoords": [
           {
            "line": {
             "colorbar": {
              "outlinewidth": 0,
              "ticks": ""
             }
            },
            "type": "parcoords"
           }
          ],
          "pie": [
           {
            "automargin": true,
            "type": "pie"
           }
          ],
          "scatter3d": [
           {
            "line": {
             "colorbar": {
              "outlinewidth": 0,
              "ticks": ""
             }
            },
            "marker": {
             "colorbar": {
              "outlinewidth": 0,
              "ticks": ""
             }
            },
            "type": "scatter3d"
           }
          ],
          "scattercarpet": [
           {
            "marker": {
             "colorbar": {
              "outlinewidth": 0,
              "ticks": ""
             }
            },
            "type": "scattercarpet"
           }
          ],
          "scattergeo": [
           {
            "marker": {
             "colorbar": {
              "outlinewidth": 0,
              "ticks": ""
             }
            },
            "type": "scattergeo"
           }
          ],
          "scattergl": [
           {
            "marker": {
             "colorbar": {
              "outlinewidth": 0,
              "ticks": ""
             }
            },
            "type": "scattergl"
           }
          ],
          "scattermapbox": [
           {
            "marker": {
             "colorbar": {
              "outlinewidth": 0,
              "ticks": ""
             }
            },
            "type": "scattermapbox"
           }
          ],
          "scatterpolargl": [
           {
            "marker": {
             "colorbar": {
              "outlinewidth": 0,
              "ticks": ""
             }
            },
            "type": "scatterpolargl"
           }
          ],
          "scatterpolar": [
           {
            "marker": {
             "colorbar": {
              "outlinewidth": 0,
              "ticks": ""
             }
            },
            "type": "scatterpolar"
           }
          ],
          "scatter": [
           {
            "fillpattern": {
             "fillmode": "overlay",
             "size": 10,
             "solidity": 0.2
            },
            "type": "scatter"
           }
          ],
          "scatterternary": [
           {
            "marker": {
             "colorbar": {
              "outlinewidth": 0,
              "ticks": ""
             }
            },
            "type": "scatterternary"
           }
          ],
          "surface": [
           {
            "colorbar": {
             "outlinewidth": 0,
             "ticks": ""
            },
            "colorscale": [
             [
              0.0,
              "#0d0887"
             ],
             [
              0.1111111111111111,
              "#46039f"
             ],
             [
              0.2222222222222222,
              "#7201a8"
             ],
             [
              0.3333333333333333,
              "#9c179e"
             ],
             [
              0.4444444444444444,
              "#bd3786"
             ],
             [
              0.5555555555555556,
              "#d8576b"
             ],
             [
              0.6666666666666666,
              "#ed7953"
             ],
             [
              0.7777777777777778,
              "#fb9f3a"
             ],
             [
              0.8888888888888888,
              "#fdca26"
             ],
             [
              1.0,
              "#f0f921"
             ]
            ],
            "type": "surface"
           }
          ],
          "table": [
           {
            "cells": {
             "fill": {
              "color": "#EBF0F8"
             },
             "line": {
              "color": "white"
             }
            },
            "header": {
             "fill": {
              "color": "#C8D4E3"
             },
             "line": {
              "color": "white"
             }
            },
            "type": "table"
           }
          ]
         },
         "layout": {
          "annotationdefaults": {
           "arrowcolor": "#343a42",
           "arrowhead": 0,
           "arrowwidth": 1
          },
          "autotypenumbers": "strict",
          "coloraxis": {
           "colorbar": {
            "outlinewidth": 0,
            "ticks": ""
           }
          },
          "colorscale": {
           "diverging": [
            [
             0,
             "#8e0152"
            ],
            [
             0.1,
             "#c51b7d"
            ],
            [
             0.2,
             "#de77ae"
            ],
            [
             0.3,
             "#f1b6da"
            ],
            [
             0.4,
             "#fde0ef"
            ],
            [
             0.5,
             "#f7f7f7"
            ],
            [
             0.6,
             "#e6f5d0"
            ],
            [
             0.7,
             "#b8e186"
            ],
            [
             0.8,
             "#7fbc41"
            ],
            [
             0.9,
             "#4d9221"
            ],
            [
             1,
             "#276419"
            ]
           ],
           "sequential": [
            [
             0.0,
             "#0d0887"
            ],
            [
             0.1111111111111111,
             "#46039f"
            ],
            [
             0.2222222222222222,
             "#7201a8"
            ],
            [
             0.3333333333333333,
             "#9c179e"
            ],
            [
             0.4444444444444444,
             "#bd3786"
            ],
            [
             0.5555555555555556,
             "#d8576b"
            ],
            [
             0.6666666666666666,
             "#ed7953"
            ],
            [
             0.7777777777777778,
             "#fb9f3a"
            ],
            [
             0.8888888888888888,
             "#fdca26"
            ],
            [
             1.0,
             "#f0f921"
            ]
           ],
           "sequentialminus": [
            [
             0.0,
             "#0d0887"
            ],
            [
             0.1111111111111111,
             "#46039f"
            ],
            [
             0.2222222222222222,
             "#7201a8"
            ],
            [
             0.3333333333333333,
             "#9c179e"
            ],
            [
             0.4444444444444444,
             "#bd3786"
            ],
            [
             0.5555555555555556,
             "#d8576b"
            ],
            [
             0.6666666666666666,
             "#ed7953"
            ],
            [
             0.7777777777777778,
             "#fb9f3a"
            ],
            [
             0.8888888888888888,
             "#fdca26"
            ],
            [
             1.0,
             "#f0f921"
            ]
           ]
          },
          "colorway": [
           "#343a42",
           "#4edcda",
           "#645cff",
           "#f25fe9",
           "#f74e4e",
           "#2d8923",
           "#f7b24e",
           "#2b9694",
           "#3a34b5",
           "#a736a0",
           "#b33c3c",
           "#2d8923"
          ],
          "font": {
           "color": "#343a42"
          },
          "geo": {
           "bgcolor": "white",
           "lakecolor": "white",
           "landcolor": "#E5ECF6",
           "showlakes": true,
           "showland": true,
           "subunitcolor": "white"
          },
          "hoverlabel": {
           "align": "left"
          },
          "hovermode": "closest",
          "mapbox": {
           "style": "light"
          },
          "paper_bgcolor": "#fdead4",
          "plot_bgcolor": "rgba(0,0,0,0)",
          "polar": {
           "angularaxis": {
            "gridcolor": "white",
            "linecolor": "white",
            "ticks": ""
           },
           "bgcolor": "#E5ECF6",
           "radialaxis": {
            "gridcolor": "white",
            "linecolor": "white",
            "ticks": ""
           }
          },
          "scene": {
           "xaxis": {
            "backgroundcolor": "#E5ECF6",
            "gridcolor": "white",
            "gridwidth": 2,
            "linecolor": "white",
            "showbackground": true,
            "ticks": "",
            "zerolinecolor": "white"
           },
           "yaxis": {
            "backgroundcolor": "#E5ECF6",
            "gridcolor": "white",
            "gridwidth": 2,
            "linecolor": "white",
            "showbackground": true,
            "ticks": "",
            "zerolinecolor": "white"
           },
           "zaxis": {
            "backgroundcolor": "#E5ECF6",
            "gridcolor": "white",
            "gridwidth": 2,
            "linecolor": "white",
            "showbackground": true,
            "ticks": "",
            "zerolinecolor": "white"
           }
          },
          "shapedefaults": {
           "line": {
            "color": "#2a3f5f"
           }
          },
          "ternary": {
           "aaxis": {
            "gridcolor": "white",
            "linecolor": "white",
            "ticks": ""
           },
           "baxis": {
            "gridcolor": "white",
            "linecolor": "white",
            "ticks": ""
           },
           "bgcolor": "#E5ECF6",
           "caxis": {
            "gridcolor": "white",
            "linecolor": "white",
            "ticks": ""
           }
          },
          "title": {
           "x": 0.5
          },
          "xaxis": {
           "automargin": true,
           "gridcolor": "#d8bea1",
           "linecolor": "white",
           "ticks": "",
           "title": {
            "standoff": 15
           },
           "zerolinecolor": "#d8bea1",
           "zerolinewidth": 1
          },
          "yaxis": {
           "automargin": true,
           "gridcolor": "#d8bea1",
           "linecolor": "white",
           "ticks": "",
           "title": {
            "standoff": 15
           },
           "zerolinecolor": "#d8bea1",
           "zerolinewidth": 1
          }
         }
        },
        "annotations": [
         {
          "arrowhead": 4,
          "arrowwidth": 2,
          "ax": 30,
          "ay": -20,
          "text": "Drag the slider to different ages to see the salary gap impact",
          "x": 0.3,
          "xanchor": "left",
          "xref": "paper",
          "y": -0.09,
          "yanchor": "bottom",
          "yref": "paper"
         }
        ]
       },
       "config": {
        "plotlyServerURL": "https://plot.ly"
       }
      },
      "text/html": "<div>                            <div id=\"1be85a2a-d542-4671-a3aa-c1cf077bf015\" class=\"plotly-graph-div\" style=\"height:640px; width:790px;\"></div>            <script type=\"text/javascript\">                require([\"plotly\"], function(Plotly) {                    window.PLOTLYENV=window.PLOTLYENV || {};                                    if (document.getElementById(\"1be85a2a-d542-4671-a3aa-c1cf077bf015\")) {                    Plotly.newPlot(                        \"1be85a2a-d542-4671-a3aa-c1cf077bf015\",                        [{\"colorbar\":{\"len\":0.5,\"orientation\":\"h\",\"thickness\":10,\"tickmode\":\"array\",\"ticktext\":[\"female-favoured\",\"neutral\",\"male-favoured\"],\"tickvals\":[-100,0,100],\"title\":{\"text\":\"\"},\"x\":0.5,\"xanchor\":\"center\",\"xref\":\"paper\",\"y\":0.92,\"yanchor\":\"bottom\",\"yref\":\"paper\"},\"colorscale\":[[0.0,\"#ff1df1\"],[0.5,\"#a1daa5\"],[1.0,\"#352bff\"]],\"hovertemplate\":\"\\u003cb\\u003e%{location}\\u003c\\u002fb\\u003e\\u003cbr\\u003eSalary gap: %{z:.1f}%\\u003cextra\\u003e\\u003c\\u002fextra\\u003e\",\"locationmode\":\"country names\",\"locations\":[\"Afghanistan\",\"Albania\",\"Algeria\",\"Andorra\",\"Angola\",\"Argentina\",\"Armenia\",\"Australia\",\"Austria\",\"Azerbaijan\",\"Bahrain\",\"Bangladesh\",\"Belarus\",\"Belgium\",\"Bhutan\",\"Bosnia and Herzegovina\",\"Brazil\",\"Bulgaria\",\"Cambodia\",\"Cameroon\",\"Canada\",\"Chile\",\"China\",\"Colombia\",\"Costa Rica\",\"Croatia\",\"Cyprus\",\"Czech Republic\",\"Denmark\",\"Dominican Republic\",\"Ecuador\",\"Egypt\",\"El Salvador\",\"Estonia\",\"Ethiopia\",\"Finland\",\"France\",\"Georgia\",\"Germany\",\"Ghana\",\"Greece\",\"Honduras\",\"Hong Kong\",\"Hungary\",\"Iceland\",\"India\",\"Indonesia\",\"Iran\",\"Iraq\",\"Ireland\",\"Isle of Man\",\"Israel\",\"Italy\",\"Ivory Coast\",\"Jamaica\",\"Japan\",\"Jordan\",\"Kazakhstan\",\"Kenya\",\"Latvia\",\"Lebanon\",\"Lithuania\",\"Macedonia\",\"Madagascar\",\"Malaysia\",\"Malta\",\"Mauritius\",\"Mexico\",\"Moldova\",\"Mongolia\",\"Morocco\",\"Mozambique\",\"Myanmar\",\"Nepal\",\"Netherlands\",\"New Zealand\",\"Nigeria\",\"North Korea\",\"Norway\",\"Pakistan\",\"Palestine\",\"Paraguay\",\"Peru\",\"Philippines\",\"Poland\",\"Portugal\",\"Puerto Rico\",\"Romania\",\"Russia\",\"Saudi Arabia\",\"Serbia\",\"Singapore\",\"Slovakia\",\"Slovenia\",\"South Africa\",\"South Korea\",\"Spain\",\"Sri Lanka\",\"Sweden\",\"Switzerland\",\"Syria\",\"Taiwan\",\"Tanzania\",\"Thailand\",\"Tunisia\",\"Turkey\",\"Uganda\",\"Ukraine\",\"United Arab Emirates\",\"United Kingdom\",\"United States\",\"Uruguay\",\"Uzbekistan\",\"Venezuela\",\"Vietnam\",\"Zambia\",\"Zimbabwe\"],\"visible\":true,\"z\":[-84.33150147613262,32.87592389391524,23.728894354984796,-7.978866993174193,-250.77872877788693,5.066893759172928,-34.22649346601932,-2.782664790938227,22.928713899044265,40.0052413165496,-76.13121014764552,6.88366052884689,-4.998573001182375,31.12207619327052,-418.2616416732439,-129.09201265950836,-4.218785675254351,23.943562075478496,70.00095996928098,24.534896652526886,5.222707427766325,-3.9724199288256172,17.60180682399393,50.58847082355255,-44.41587296654806,27.005934324726873,29.266052421648798,22.510276833414277,-4.186581953223988,47.06419511091845,77.73863508600982,-19.298683158136594,-49.60398943971838,25.315175650898915,-73.19781122772943,0.8056201533632512,1.6040021721098343,54.28306224359402,13.452529471301808,-61.76231747109806,7.604158750682726,63.88529139685476,7.205890460006041,15.08269884631287,7.285817098140979,7.77964594723473,-13.850509333548036,10.526316525522546,22.826003999206268,5.477620026440168,-8.180833556046306,32.331648329173056,3.9965678153045796,82.24657534246576,10.215438139517936,5.837864579422321,60.94434428206854,14.2114095081463,-74.92916990615501,18.922268266216914,16.240628542983316,52.91935175118565,-25.35558320525018,97.19157472417251,37.07556628320307,22.014215092250705,35.13993443419135,18.99230768023827,70.6588267051623,-537.2684161703382,25.276992130118547,67.80538302277432,39.42137105945503,37.515647221512225,-7.998871771952329,4.033652993092248,19.863149310406346,14.42692796376091,16.033050633624306,-9.08690093638782,49.97281870073389,-39.00079633425151,-9.388083906596137,17.15499155284166,26.793544359245576,-0.8255959721130539,-600.0,1.8811491756762975,21.417014132686447,12.425917059566602,43.33905581909537,-4.899659587989259,11.517233769282175,45.82060583687697,8.554106157606087,28.971962616822427,-8.938842703938493,-25.631861910686716,-5.874391253701601,4.706434153106686,-90.82274038836465,13.775180799270803,-180.55498877780042,49.11506650836134,51.447423812574364,24.71324319292544,-118.84670566162674,9.885453280327116,1.4492073646642434,9.52171368350203,-4.82740320567451,-45.94169854826036,55.55595703742514,76.07433761360616,2.7697813330526517,62.78764510439313,21.01799034664327],\"zmax\":100,\"zmin\":-100,\"type\":\"choropleth\"},{\"colorbar\":{\"len\":0.5,\"orientation\":\"h\",\"thickness\":10,\"tickmode\":\"array\",\"ticktext\":[\"female-favoured\",\"neutral\",\"male-favoured\"],\"tickvals\":[-100,0,100],\"title\":{\"text\":\"\"},\"x\":0.5,\"xanchor\":\"center\",\"xref\":\"paper\",\"y\":0.92,\"yanchor\":\"bottom\",\"yref\":\"paper\"},\"colorscale\":[[0.0,\"#ff1df1\"],[0.5,\"#a1daa5\"],[1.0,\"#352bff\"]],\"hovertemplate\":\"\\u003cb\\u003e%{location}\\u003c\\u002fb\\u003e\\u003cbr\\u003eSalary gap: %{z:.1f}%\\u003cextra\\u003e\\u003c\\u002fextra\\u003e\",\"locationmode\":\"country names\",\"locations\":[\"Afghanistan\",\"Albania\",\"Algeria\",\"Argentina\",\"Armenia\",\"Australia\",\"Austria\",\"Bahamas\",\"Bahrain\",\"Bangladesh\",\"Belarus\",\"Belgium\",\"Bolivia\",\"Bosnia and Herzegovina\",\"Brazil\",\"Bulgaria\",\"Cambodia\",\"Canada\",\"Chile\",\"China\",\"Colombia\",\"Costa Rica\",\"Croatia\",\"Cuba\",\"Cyprus\",\"Czech Republic\",\"Denmark\",\"Dominican Republic\",\"Ecuador\",\"Egypt\",\"El Salvador\",\"Estonia\",\"Ethiopia\",\"Fiji\",\"Finland\",\"France\",\"Gabon\",\"Georgia\",\"Germany\",\"Ghana\",\"Greece\",\"Guatemala\",\"Guyana\",\"Honduras\",\"Hong Kong\",\"Hungary\",\"Iceland\",\"India\",\"Indonesia\",\"Iran\",\"Iraq\",\"Ireland\",\"Isle of Man\",\"Israel\",\"Italy\",\"Jamaica\",\"Japan\",\"Jordan\",\"Kazakhstan\",\"Kenya\",\"Kuwait\",\"Kyrgyzstan\",\"Latvia\",\"Lebanon\",\"Lithuania\",\"Luxembourg\",\"Macedonia\",\"Madagascar\",\"Malaysia\",\"Maldives\",\"Malta\",\"Mauritius\",\"Mexico\",\"Montenegro\",\"Morocco\",\"Myanmar\",\"Namibia\",\"Nepal\",\"Netherlands\",\"New Zealand\",\"Nicaragua\",\"Nigeria\",\"Nomadic\",\"North Korea\",\"Norway\",\"Oman\",\"Pakistan\",\"Panama\",\"Paraguay\",\"Peru\",\"Philippines\",\"Poland\",\"Portugal\",\"Qatar\",\"Romania\",\"Russia\",\"Saudi Arabia\",\"Serbia\",\"Singapore\",\"Slovakia\",\"Slovenia\",\"South Africa\",\"South Korea\",\"Spain\",\"Sri Lanka\",\"Sudan\",\"Suriname\",\"Sweden\",\"Switzerland\",\"Syria\",\"Taiwan\",\"Thailand\",\"Trinidad and Tobago\",\"Tunisia\",\"Turkey\",\"Uganda\",\"Ukraine\",\"United Arab Emirates\",\"United Kingdom\",\"United States\",\"Uruguay\",\"Uzbekistan\",\"Venezuela\",\"Vietnam\",\"Yemen\",\"Zimbabwe\"],\"visible\":false,\"z\":[25.16174719155374,-30.331422607164633,20.232160714019194,17.576428843662764,6.935791691890287,10.268866259531736,17.46326441157983,93.29785665455813,0.9138296841175637,13.602368676675761,41.64336698588343,22.035623656402226,-45.333733054623565,36.3488461425397,10.062033074012747,17.698264900731104,-25.455329047188926,11.872284603870842,-4.28370172251895,31.421019694450447,26.05361252523376,-12.356138481122876,32.28418020490202,35.38886245837194,28.72000008083168,8.368351657428889,12.179185355812214,-29.95701103715548,42.059464062557055,10.515630095393602,-17.71585891303791,8.557867714707049,-20.889032100880637,-76.82830308146896,4.281928380123523,14.643770504793643,-7.6923076923076925,47.56680558425761,9.41020137752579,-231.3275993416959,4.23085099022001,28.83229057542846,-61.174785100286535,56.97539106811722,12.83494252868296,31.587411792569974,-3.0266048924984643,13.747657002493247,40.54719360244879,34.7266357102754,66.62139860054688,6.71757603067355,-54.04613203571018,13.488428370118196,19.273486714971096,34.41926678349769,21.43727220535981,56.58783763535145,28.454755614950738,17.383391912704305,24.595523210298932,63.748154719917395,46.54486758545245,-9.910290143056791,25.399352820997816,-43.301805440768135,15.617043618480778,53.04223080590047,21.072083345122817,18.504089123575245,-2.9403112151377067,33.023515996471524,12.888172821112684,65.86275300964878,48.35598364101458,-195.9006454671432,-118.3834778174401,65.85094403350257,19.65987301927911,9.488283193475997,49.10648000848446,-24.116142187916157,65.15693991432815,23.621358005562637,8.166869953319472,24.619912716938998,11.182614109679538,-6.157744772551798,44.018409454562004,-66.98703221335902,17.68967480252147,30.167596846546058,19.351925291402292,27.73792113904141,29.786141318325093,19.603451306054616,25.238639354081055,31.143288053184158,36.28787001375403,23.209775106271355,29.524851166841504,16.164165959439416,39.06735751295337,14.055924702955647,-2.956912033239909,0.8369292873051273,60.30485868529693,7.432552523691747,8.587671795980075,37.842352666951555,25.940406405886375,6.727190047085056,22.31478679176158,41.45668493735685,16.355253160434998,30.797993668261736,28.670504977661693,34.64122789890672,14.996116915443046,5.344616334604772,-12.43535187061356,89.3836994684911,37.03807644995248,-11.93835832446438,71.13778589403826,77.03233605318827],\"zmax\":100,\"zmin\":-100,\"type\":\"choropleth\"},{\"colorbar\":{\"len\":0.5,\"orientation\":\"h\",\"thickness\":10,\"tickmode\":\"array\",\"ticktext\":[\"female-favoured\",\"neutral\",\"male-favoured\"],\"tickvals\":[-100,0,100],\"title\":{\"text\":\"\"},\"x\":0.5,\"xanchor\":\"center\",\"xref\":\"paper\",\"y\":0.92,\"yanchor\":\"bottom\",\"yref\":\"paper\"},\"colorscale\":[[0.0,\"#ff1df1\"],[0.5,\"#a1daa5\"],[1.0,\"#352bff\"]],\"hovertemplate\":\"\\u003cb\\u003e%{location}\\u003c\\u002fb\\u003e\\u003cbr\\u003eSalary gap: %{z:.1f}%\\u003cextra\\u003e\\u003c\\u002fextra\\u003e\",\"locationmode\":\"country names\",\"locations\":[\"Algeria\",\"Argentina\",\"Australia\",\"Austria\",\"Belarus\",\"Belgium\",\"Benin\",\"Bolivia\",\"Bosnia and Herzegovina\",\"Brazil\",\"Bulgaria\",\"Canada\",\"Chile\",\"China\",\"Colombia\",\"Costa Rica\",\"Croatia\",\"Cyprus\",\"Czech Republic\",\"Denmark\",\"Egypt\",\"Finland\",\"France\",\"Georgia\",\"Germany\",\"Greece\",\"Guatemala\",\"Hong Kong\",\"Hungary\",\"India\",\"Indonesia\",\"Iran\",\"Ireland\",\"Israel\",\"Italy\",\"Japan\",\"Jordan\",\"Kazakhstan\",\"Kenya\",\"Kyrgyzstan\",\"Lithuania\",\"Luxembourg\",\"Macedonia\",\"Malaysia\",\"Malta\",\"Mauritius\",\"Mexico\",\"Nepal\",\"Netherlands\",\"New Zealand\",\"Nicaragua\",\"Nigeria\",\"North Korea\",\"Norway\",\"Pakistan\",\"Peru\",\"Philippines\",\"Poland\",\"Portugal\",\"Romania\",\"Russia\",\"Serbia\",\"Singapore\",\"Slovakia\",\"Slovenia\",\"South Africa\",\"South Korea\",\"Spain\",\"Sri Lanka\",\"Sweden\",\"Switzerland\",\"Taiwan\",\"Thailand\",\"Turkey\",\"Ukraine\",\"United Arab Emirates\",\"United Kingdom\",\"United States\",\"Uruguay\",\"Venezuela\",\"Zimbabwe\"],\"visible\":false,\"z\":[-84.78410606707142,55.24096495909845,20.357957414814702,26.85754378965936,84.21748991452239,22.53815994032073,-284.1973087447056,23.766467896269592,54.59087785146115,25.96300840385222,34.4270602453002,12.619614703440183,60.24770750207071,48.040656662957,40.34768492603409,-19.561358952595285,50.74829434586508,-2.344919974775448,38.59873249355649,14.403424568243317,46.23088802879947,27.76385795209853,19.12554882597939,38.24223007563498,20.347005443048378,14.482708582225925,-30.206048413479426,-21.804706957545374,50.32828943284624,24.72326503658575,82.25579426060328,-3.8991874543396277,11.823222320391634,11.233370401394547,26.283805269846315,27.69008200401905,33.92652810274453,17.590272344683733,-60.12770509780775,97.5929640487579,45.364157573954536,-6.4299433646746955,-6.32091967707132,-32.3264760871404,31.94171898986075,-21.917151103703404,41.63526712308928,30.719048373392475,29.867498934286864,13.939658366009214,33.107443436441145,12.089071352905234,16.514675205971667,10.971153867560302,38.74660982021435,-0.7643544312969804,73.16326390595432,8.9164287814475,47.83217063468637,28.66157343772428,36.69174965753535,31.950315925014404,-18.54108478639067,44.83168495134468,11.202583242795143,19.511258879197097,35.09933774834437,8.669039472709784,26.65848971277146,13.255322135815813,17.230837557626714,-197.90816455659672,38.979255933855775,57.06295105641425,56.130424720273076,49.73658490657512,18.80455476158476,14.849235265089355,73.44943516043891,54.08710258466807,49.45410432672867],\"zmax\":100,\"zmin\":-100,\"type\":\"choropleth\"},{\"colorbar\":{\"len\":0.5,\"orientation\":\"h\",\"thickness\":10,\"tickmode\":\"array\",\"ticktext\":[\"female-favoured\",\"neutral\",\"male-favoured\"],\"tickvals\":[-100,0,100],\"title\":{\"text\":\"\"},\"x\":0.5,\"xanchor\":\"center\",\"xref\":\"paper\",\"y\":0.92,\"yanchor\":\"bottom\",\"yref\":\"paper\"},\"colorscale\":[[0.0,\"#ff1df1\"],[0.5,\"#a1daa5\"],[1.0,\"#352bff\"]],\"hovertemplate\":\"\\u003cb\\u003e%{location}\\u003c\\u002fb\\u003e\\u003cbr\\u003eSalary gap: %{z:.1f}%\\u003cextra\\u003e\\u003c\\u002fextra\\u003e\",\"locationmode\":\"country names\",\"locations\":[\"Argentina\",\"Australia\",\"Austria\",\"Belarus\",\"Belgium\",\"Brazil\",\"Bulgaria\",\"Canada\",\"Colombia\",\"Croatia\",\"Denmark\",\"Ecuador\",\"Finland\",\"France\",\"Germany\",\"Greece\",\"Hungary\",\"India\",\"Ireland\",\"Israel\",\"Italy\",\"Japan\",\"Kenya\",\"Lebanon\",\"Mexico\",\"Netherlands\",\"New Zealand\",\"North Korea\",\"Norway\",\"Panama\",\"Portugal\",\"Romania\",\"Russia\",\"Serbia\",\"Slovenia\",\"South Africa\",\"Spain\",\"Sweden\",\"Switzerland\",\"Thailand\",\"United Kingdom\",\"United States\"],\"visible\":false,\"z\":[35.05674367486597,27.886741431410933,-4.33160247405204,-4.796905222437142,65.53113989112288,24.202636380493576,50.06610042621757,5.870312165161698,55.197156979788865,19.234166520602017,12.901225704518879,3.043709332222524,27.66350923727932,35.523251375894866,22.75385048579945,54.56859887420568,30.74368373145711,52.66046567305113,52.48309985804337,15.504536878952488,52.79520483503482,42.40215338968185,7.628178407669862,77.5,55.61818892484762,23.0763039955458,32.286282483377796,-0.6737917736817951,-7.641426025626731,70.0789914625389,36.049275854616816,28.15069663989877,59.29511008719728,63.193651583147755,10.864701142363755,19.559471960050868,-2.764024228093233,9.590050816171114,-5.132689251827333,19.511323739293676,19.40395961682138,19.982688937331584],\"zmax\":100,\"zmin\":-100,\"type\":\"choropleth\"},{\"colorbar\":{\"len\":0.5,\"orientation\":\"h\",\"thickness\":10,\"tickmode\":\"array\",\"ticktext\":[\"female-favoured\",\"neutral\",\"male-favoured\"],\"tickvals\":[-100,0,100],\"title\":{\"text\":\"\"},\"x\":0.5,\"xanchor\":\"center\",\"xref\":\"paper\",\"y\":0.92,\"yanchor\":\"bottom\",\"yref\":\"paper\"},\"colorscale\":[[0.0,\"#ff1df1\"],[0.5,\"#a1daa5\"],[1.0,\"#352bff\"]],\"hovertemplate\":\"\\u003cb\\u003e%{location}\\u003c\\u002fb\\u003e\\u003cbr\\u003eSalary gap: %{z:.1f}%\\u003cextra\\u003e\\u003c\\u002fextra\\u003e\",\"locationmode\":\"country names\",\"locations\":[\"Australia\",\"Canada\",\"Denmark\",\"France\",\"Germany\",\"Hungary\",\"Israel\",\"Japan\",\"Mexico\",\"Netherlands\",\"New Zealand\",\"Russia\",\"Spain\",\"United Kingdom\",\"United States\"],\"visible\":false,\"z\":[34.180693550359265,38.42804546476029,10.803001555072282,-84.25908889159959,2.493191618030168,33.19892473118279,31.943745332007367,-27.54651249525919,56.18737846915326,-13.993090211505082,25.81941333213888,42.80564317653992,25.804934154625187,29.323981708840297,19.678374204321667],\"zmax\":100,\"zmin\":-100,\"type\":\"choropleth\"},{\"colorbar\":{\"len\":0.5,\"orientation\":\"h\",\"thickness\":10,\"tickmode\":\"array\",\"ticktext\":[\"female-favoured\",\"neutral\",\"male-favoured\"],\"tickvals\":[-100,0,100],\"title\":{\"text\":\"\"},\"x\":0.5,\"xanchor\":\"center\",\"xref\":\"paper\",\"y\":0.92,\"yanchor\":\"bottom\",\"yref\":\"paper\"},\"colorscale\":[[0.0,\"#ff1df1\"],[0.5,\"#a1daa5\"],[1.0,\"#352bff\"]],\"hovertemplate\":\"\\u003cb\\u003e%{location}\\u003c\\u002fb\\u003e\\u003cbr\\u003eSalary gap: %{z:.1f}%\\u003cextra\\u003e\\u003c\\u002fextra\\u003e\",\"locationmode\":\"country names\",\"locations\":[\"Brazil\",\"Canada\",\"Italy\",\"Netherlands\",\"Thailand\",\"United States\",\"Vietnam\"],\"visible\":false,\"z\":[99.88408996826273,16.274565014041677,-46.83770192937911,-14.245920072165017,22.114782608695656,9.736026943041367,-236.89095127610207],\"zmax\":100,\"zmin\":-100,\"type\":\"choropleth\"}],                        {\"geo\":{\"landcolor\":\"#ffffff\",\"oceancolor\":\"#a8d5f2\",\"showocean\":true,\"showcountries\":true,\"showcoastlines\":false},\"height\":640,\"margin\":{\"b\":80,\"l\":20,\"r\":20,\"t\":80},\"sliders\":[{\"active\":0,\"currentvalue\":{\"prefix\":\"Selected age: \"},\"steps\":[{\"args\":[{\"visible\":[true,false,false,false,false,false]},{\"title\":\"Global Salary Gap Distribution Between Men and Women (18-24 years old)\\u003cbr\\u003e\\u003csup\\u003eIn most countries, a neutral or female-favoured pay gap turns male favoured at ages 35+\\u003c\\u002fsup\\u003e\"}],\"label\":\"18-24\",\"method\":\"update\"},{\"args\":[{\"visible\":[false,true,false,false,false,false]},{\"title\":\"Global Salary Gap Distribution Between Men and Women (25-34 years old)\\u003cbr\\u003e\\u003csup\\u003eIn most countries, a neutral or female-favoured pay gap turns male favoured at ages 35+\\u003c\\u002fsup\\u003e\"}],\"label\":\"25-34\",\"method\":\"update\"},{\"args\":[{\"visible\":[false,false,true,false,false,false]},{\"title\":\"Global Salary Gap Distribution Between Men and Women (35-44 years old)\\u003cbr\\u003e\\u003csup\\u003eIn most countries, a neutral or female-favoured pay gap turns male favoured at ages 35+\\u003c\\u002fsup\\u003e\"}],\"label\":\"35-44\",\"method\":\"update\"},{\"args\":[{\"visible\":[false,false,false,true,false,false]},{\"title\":\"Global Salary Gap Distribution Between Men and Women (45-54 years old)\\u003cbr\\u003e\\u003csup\\u003eIn most countries, a neutral or female-favoured pay gap turns male favoured at ages 35+\\u003c\\u002fsup\\u003e\"}],\"label\":\"45-54\",\"method\":\"update\"},{\"args\":[{\"visible\":[false,false,false,false,true,false]},{\"title\":\"Global Salary Gap Distribution Between Men and Women (55-64 years old)\\u003cbr\\u003e\\u003csup\\u003eIn most countries, a neutral or female-favoured pay gap turns male favoured at ages 35+\\u003c\\u002fsup\\u003e\"}],\"label\":\"55-64\",\"method\":\"update\"},{\"args\":[{\"visible\":[false,false,false,false,false,true]},{\"title\":\"Global Salary Gap Distribution Between Men and Women (65+ years old)\\u003cbr\\u003e\\u003csup\\u003eIn most countries, a neutral or female-favoured pay gap turns male favoured at ages 35+\\u003c\\u002fsup\\u003e\"}],\"label\":\"65+\",\"method\":\"update\"}]}],\"title\":{\"text\":\"Global Salary Gap Distribution Between Men and Women (18-24 years old)\\u003cbr\\u003e\\u003csup\\u003eIn most countries, a neutral or female-favoured pay gap turns male favoured at ages 35+\\u003c\\u002fsup\\u003e\"},\"width\":790,\"template\":{\"data\":{\"barpolar\":[{\"marker\":{\"line\":{\"color\":\"#E5ECF6\",\"width\":0.5},\"pattern\":{\"fillmode\":\"overlay\",\"size\":10,\"solidity\":0.2}},\"type\":\"barpolar\"}],\"bar\":[{\"error_x\":{\"color\":\"#2a3f5f\"},\"error_y\":{\"color\":\"#2a3f5f\"},\"marker\":{\"line\":{\"color\":\"#E5ECF6\",\"width\":0},\"pattern\":{\"fillmode\":\"overlay\",\"size\":10,\"solidity\":0.2}},\"type\":\"bar\"}],\"carpet\":[{\"aaxis\":{\"endlinecolor\":\"#2a3f5f\",\"gridcolor\":\"white\",\"linecolor\":\"white\",\"minorgridcolor\":\"white\",\"startlinecolor\":\"#2a3f5f\"},\"baxis\":{\"endlinecolor\":\"#2a3f5f\",\"gridcolor\":\"white\",\"linecolor\":\"white\",\"minorgridcolor\":\"white\",\"startlinecolor\":\"#2a3f5f\"},\"type\":\"carpet\"}],\"choropleth\":[{\"colorbar\":{\"outlinewidth\":0,\"ticks\":\"\"},\"type\":\"choropleth\"}],\"contourcarpet\":[{\"colorbar\":{\"outlinewidth\":0,\"ticks\":\"\"},\"type\":\"contourcarpet\"}],\"contour\":[{\"colorbar\":{\"outlinewidth\":0,\"ticks\":\"\"},\"colorscale\":[[0.0,\"#0d0887\"],[0.1111111111111111,\"#46039f\"],[0.2222222222222222,\"#7201a8\"],[0.3333333333333333,\"#9c179e\"],[0.4444444444444444,\"#bd3786\"],[0.5555555555555556,\"#d8576b\"],[0.6666666666666666,\"#ed7953\"],[0.7777777777777778,\"#fb9f3a\"],[0.8888888888888888,\"#fdca26\"],[1.0,\"#f0f921\"]],\"type\":\"contour\"}],\"heatmapgl\":[{\"colorbar\":{\"outlinewidth\":0,\"ticks\":\"\"},\"colorscale\":[[0.0,\"#0d0887\"],[0.1111111111111111,\"#46039f\"],[0.2222222222222222,\"#7201a8\"],[0.3333333333333333,\"#9c179e\"],[0.4444444444444444,\"#bd3786\"],[0.5555555555555556,\"#d8576b\"],[0.6666666666666666,\"#ed7953\"],[0.7777777777777778,\"#fb9f3a\"],[0.8888888888888888,\"#fdca26\"],[1.0,\"#f0f921\"]],\"type\":\"heatmapgl\"}],\"heatmap\":[{\"colorbar\":{\"outlinewidth\":0,\"ticks\":\"\"},\"colorscale\":[[0.0,\"#0d0887\"],[0.1111111111111111,\"#46039f\"],[0.2222222222222222,\"#7201a8\"],[0.3333333333333333,\"#9c179e\"],[0.4444444444444444,\"#bd3786\"],[0.5555555555555556,\"#d8576b\"],[0.6666666666666666,\"#ed7953\"],[0.7777777777777778,\"#fb9f3a\"],[0.8888888888888888,\"#fdca26\"],[1.0,\"#f0f921\"]],\"type\":\"heatmap\"}],\"histogram2dcontour\":[{\"colorbar\":{\"outlinewidth\":0,\"ticks\":\"\"},\"colorscale\":[[0.0,\"#0d0887\"],[0.1111111111111111,\"#46039f\"],[0.2222222222222222,\"#7201a8\"],[0.3333333333333333,\"#9c179e\"],[0.4444444444444444,\"#bd3786\"],[0.5555555555555556,\"#d8576b\"],[0.6666666666666666,\"#ed7953\"],[0.7777777777777778,\"#fb9f3a\"],[0.8888888888888888,\"#fdca26\"],[1.0,\"#f0f921\"]],\"type\":\"histogram2dcontour\"}],\"histogram2d\":[{\"colorbar\":{\"outlinewidth\":0,\"ticks\":\"\"},\"colorscale\":[[0.0,\"#0d0887\"],[0.1111111111111111,\"#46039f\"],[0.2222222222222222,\"#7201a8\"],[0.3333333333333333,\"#9c179e\"],[0.4444444444444444,\"#bd3786\"],[0.5555555555555556,\"#d8576b\"],[0.6666666666666666,\"#ed7953\"],[0.7777777777777778,\"#fb9f3a\"],[0.8888888888888888,\"#fdca26\"],[1.0,\"#f0f921\"]],\"type\":\"histogram2d\"}],\"histogram\":[{\"marker\":{\"pattern\":{\"fillmode\":\"overlay\",\"size\":10,\"solidity\":0.2}},\"type\":\"histogram\"}],\"mesh3d\":[{\"colorbar\":{\"outlinewidth\":0,\"ticks\":\"\"},\"type\":\"mesh3d\"}],\"parcoords\":[{\"line\":{\"colorbar\":{\"outlinewidth\":0,\"ticks\":\"\"}},\"type\":\"parcoords\"}],\"pie\":[{\"automargin\":true,\"type\":\"pie\"}],\"scatter3d\":[{\"line\":{\"colorbar\":{\"outlinewidth\":0,\"ticks\":\"\"}},\"marker\":{\"colorbar\":{\"outlinewidth\":0,\"ticks\":\"\"}},\"type\":\"scatter3d\"}],\"scattercarpet\":[{\"marker\":{\"colorbar\":{\"outlinewidth\":0,\"ticks\":\"\"}},\"type\":\"scattercarpet\"}],\"scattergeo\":[{\"marker\":{\"colorbar\":{\"outlinewidth\":0,\"ticks\":\"\"}},\"type\":\"scattergeo\"}],\"scattergl\":[{\"marker\":{\"colorbar\":{\"outlinewidth\":0,\"ticks\":\"\"}},\"type\":\"scattergl\"}],\"scattermapbox\":[{\"marker\":{\"colorbar\":{\"outlinewidth\":0,\"ticks\":\"\"}},\"type\":\"scattermapbox\"}],\"scatterpolargl\":[{\"marker\":{\"colorbar\":{\"outlinewidth\":0,\"ticks\":\"\"}},\"type\":\"scatterpolargl\"}],\"scatterpolar\":[{\"marker\":{\"colorbar\":{\"outlinewidth\":0,\"ticks\":\"\"}},\"type\":\"scatterpolar\"}],\"scatter\":[{\"fillpattern\":{\"fillmode\":\"overlay\",\"size\":10,\"solidity\":0.2},\"type\":\"scatter\"}],\"scatterternary\":[{\"marker\":{\"colorbar\":{\"outlinewidth\":0,\"ticks\":\"\"}},\"type\":\"scatterternary\"}],\"surface\":[{\"colorbar\":{\"outlinewidth\":0,\"ticks\":\"\"},\"colorscale\":[[0.0,\"#0d0887\"],[0.1111111111111111,\"#46039f\"],[0.2222222222222222,\"#7201a8\"],[0.3333333333333333,\"#9c179e\"],[0.4444444444444444,\"#bd3786\"],[0.5555555555555556,\"#d8576b\"],[0.6666666666666666,\"#ed7953\"],[0.7777777777777778,\"#fb9f3a\"],[0.8888888888888888,\"#fdca26\"],[1.0,\"#f0f921\"]],\"type\":\"surface\"}],\"table\":[{\"cells\":{\"fill\":{\"color\":\"#EBF0F8\"},\"line\":{\"color\":\"white\"}},\"header\":{\"fill\":{\"color\":\"#C8D4E3\"},\"line\":{\"color\":\"white\"}},\"type\":\"table\"}]},\"layout\":{\"annotationdefaults\":{\"arrowcolor\":\"#343a42\",\"arrowhead\":0,\"arrowwidth\":1},\"autotypenumbers\":\"strict\",\"coloraxis\":{\"colorbar\":{\"outlinewidth\":0,\"ticks\":\"\"}},\"colorscale\":{\"diverging\":[[0,\"#8e0152\"],[0.1,\"#c51b7d\"],[0.2,\"#de77ae\"],[0.3,\"#f1b6da\"],[0.4,\"#fde0ef\"],[0.5,\"#f7f7f7\"],[0.6,\"#e6f5d0\"],[0.7,\"#b8e186\"],[0.8,\"#7fbc41\"],[0.9,\"#4d9221\"],[1,\"#276419\"]],\"sequential\":[[0.0,\"#0d0887\"],[0.1111111111111111,\"#46039f\"],[0.2222222222222222,\"#7201a8\"],[0.3333333333333333,\"#9c179e\"],[0.4444444444444444,\"#bd3786\"],[0.5555555555555556,\"#d8576b\"],[0.6666666666666666,\"#ed7953\"],[0.7777777777777778,\"#fb9f3a\"],[0.8888888888888888,\"#fdca26\"],[1.0,\"#f0f921\"]],\"sequentialminus\":[[0.0,\"#0d0887\"],[0.1111111111111111,\"#46039f\"],[0.2222222222222222,\"#7201a8\"],[0.3333333333333333,\"#9c179e\"],[0.4444444444444444,\"#bd3786\"],[0.5555555555555556,\"#d8576b\"],[0.6666666666666666,\"#ed7953\"],[0.7777777777777778,\"#fb9f3a\"],[0.8888888888888888,\"#fdca26\"],[1.0,\"#f0f921\"]]},\"colorway\":[\"#343a42\",\"#4edcda\",\"#645cff\",\"#f25fe9\",\"#f74e4e\",\"#2d8923\",\"#f7b24e\",\"#2b9694\",\"#3a34b5\",\"#a736a0\",\"#b33c3c\",\"#2d8923\"],\"font\":{\"color\":\"#343a42\"},\"geo\":{\"bgcolor\":\"white\",\"lakecolor\":\"white\",\"landcolor\":\"#E5ECF6\",\"showlakes\":true,\"showland\":true,\"subunitcolor\":\"white\"},\"hoverlabel\":{\"align\":\"left\"},\"hovermode\":\"closest\",\"mapbox\":{\"style\":\"light\"},\"paper_bgcolor\":\"#fdead4\",\"plot_bgcolor\":\"rgba(0,0,0,0)\",\"polar\":{\"angularaxis\":{\"gridcolor\":\"white\",\"linecolor\":\"white\",\"ticks\":\"\"},\"bgcolor\":\"#E5ECF6\",\"radialaxis\":{\"gridcolor\":\"white\",\"linecolor\":\"white\",\"ticks\":\"\"}},\"scene\":{\"xaxis\":{\"backgroundcolor\":\"#E5ECF6\",\"gridcolor\":\"white\",\"gridwidth\":2,\"linecolor\":\"white\",\"showbackground\":true,\"ticks\":\"\",\"zerolinecolor\":\"white\"},\"yaxis\":{\"backgroundcolor\":\"#E5ECF6\",\"gridcolor\":\"white\",\"gridwidth\":2,\"linecolor\":\"white\",\"showbackground\":true,\"ticks\":\"\",\"zerolinecolor\":\"white\"},\"zaxis\":{\"backgroundcolor\":\"#E5ECF6\",\"gridcolor\":\"white\",\"gridwidth\":2,\"linecolor\":\"white\",\"showbackground\":true,\"ticks\":\"\",\"zerolinecolor\":\"white\"}},\"shapedefaults\":{\"line\":{\"color\":\"#2a3f5f\"}},\"ternary\":{\"aaxis\":{\"gridcolor\":\"white\",\"linecolor\":\"white\",\"ticks\":\"\"},\"baxis\":{\"gridcolor\":\"white\",\"linecolor\":\"white\",\"ticks\":\"\"},\"bgcolor\":\"#E5ECF6\",\"caxis\":{\"gridcolor\":\"white\",\"linecolor\":\"white\",\"ticks\":\"\"}},\"title\":{\"x\":0.5},\"xaxis\":{\"automargin\":true,\"gridcolor\":\"#d8bea1\",\"linecolor\":\"white\",\"ticks\":\"\",\"title\":{\"standoff\":15},\"zerolinecolor\":\"#d8bea1\",\"zerolinewidth\":1},\"yaxis\":{\"automargin\":true,\"gridcolor\":\"#d8bea1\",\"linecolor\":\"white\",\"ticks\":\"\",\"title\":{\"standoff\":15},\"zerolinecolor\":\"#d8bea1\",\"zerolinewidth\":1}}},\"annotations\":[{\"arrowhead\":4,\"arrowwidth\":2,\"ax\":30,\"ay\":-20,\"text\":\"Drag the slider to different ages to see the salary gap impact\",\"x\":0.3,\"xanchor\":\"left\",\"xref\":\"paper\",\"y\":-0.09,\"yanchor\":\"bottom\",\"yref\":\"paper\"}]},                        {\"responsive\": true}                    ).then(function(){\n                            \nvar gd = document.getElementById('1be85a2a-d542-4671-a3aa-c1cf077bf015');\nvar x = new MutationObserver(function (mutations, observer) {{\n        var display = window.getComputedStyle(gd).display;\n        if (!display || display === 'none') {{\n            console.log([gd, 'removed!']);\n            Plotly.purge(gd);\n            observer.disconnect();\n        }}\n}});\n\n// Listen for the removal of the full notebook cells\nvar notebookContainer = gd.closest('#notebook-container');\nif (notebookContainer) {{\n    x.observe(notebookContainer, {childList: true});\n}}\n\n// Listen for the clearing of the current output cell\nvar outputEl = gd.closest('.output');\nif (outputEl) {{\n    x.observe(outputEl, {childList: true});\n}}\n\n                        })                };                });            </script>        </div>"
     },
     "metadata": {},
     "output_type": "display_data"
    }
   ],
   "source": [
    "%run gender_salary_gap_map.ipynb"
   ]
  },
  {
   "cell_type": "markdown",
   "id": "8bc05575",
   "metadata": {},
   "source": [
    "The above map shows that countries have a low pay gap between genders for younger developers (under 25). Some countries even have a favourable pay gap for women in this younger demographic category. However, approaching 30 years of age, this pay gap has become far more prominent in many countries (as seen by the blue colour, indicating a male-favoured pay gap). This rapid switch again supports the previously mentioned discrimination against women aged appropriately to start a family. Furthermore, in many cultures, it is traditional for women to leave the workforce to raise children, reducing their work experience relative to their age should they seek employment later. Therefore, the increased pay gap favouring men in the age groups 35-44 and 45-54 can be explained by cultural factors and discrimination. Data for ages 55 and above is sparse, and little can be discerned from these age categories.\n",
    "\n",
    "## Summary\n",
    "Pay inequality is a problem that has plagued women for centuries and may continue to do so for years into the future. When salaries in software development were investigated for gender bias, male developers were shown to earn noticeably more than female developers. To gain more insights, an analysis of four factors that might instead explain this difference was conducted using the Stack Overflow developer survey. Findings based on age and professional experience offer non-discriminatory explanations for part of the pay gap. However, further examination of the effects of professional experience, education, and job type suggested the presence of discrimination within the salaries of software developers. A final exploration of pay gaps across different countries portrayed the complexities of how culture can influence gender inequality while indicating that improvements have taken place over the last nine years. While many potential explanations for the pay gap have been illustrated, further research and more data would be necessary to accept any position conclusively."
   ]
  }
 ],
 "metadata": {
  "kernelspec": {
   "display_name": "Python 3 (ipykernel)",
   "language": "python",
   "name": "python3"
  },
  "language_info": {
   "codemirror_mode": {
    "name": "ipython",
    "version": 3
   },
   "file_extension": ".py",
   "mimetype": "text/x-python",
   "name": "python",
   "nbconvert_exporter": "python",
   "pygments_lexer": "ipython3",
   "version": "3.10.6"
  }
 },
 "nbformat": 4,
 "nbformat_minor": 5
}
