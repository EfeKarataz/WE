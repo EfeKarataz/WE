{
 "cells": [
  {
   "cell_type": "code",
   "execution_count": null,
   "metadata": {},
   "outputs": [],
   "source": [
    "# show the salaries for each age bin for men and women as two bars in each age bin\n",
    "# or \n",
    "# calculate the difference (dollar amount) or gap (percentage), or both, between men and women\n",
    "# and plot these differences"
   ]
  }
 ],
 "metadata": {
  "language_info": {
   "name": "python"
  },
  "orig_nbformat": 4
 },
 "nbformat": 4,
 "nbformat_minor": 2
}
