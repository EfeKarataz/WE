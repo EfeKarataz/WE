{
 "cells": [
  {
   "cell_type": "code",
   "execution_count": null,
   "metadata": {},
   "outputs": [],
   "source": [
    "# pick the 10 most frequent countries\n",
    "# for each country plot a line of the pay gap by connecting\n",
    "# the pay gaps in the different age bins\n",
    "# x-axis is age bins, y-axis is pay gap\n",
    "# resulting in 10 lines with country names as labels"
   ]
  }
 ],
 "metadata": {
  "language_info": {
   "name": "python"
  },
  "orig_nbformat": 4
 },
 "nbformat": 4,
 "nbformat_minor": 2
}
