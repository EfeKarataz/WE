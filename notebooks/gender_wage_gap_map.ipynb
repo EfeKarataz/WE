{
 "cells": [
  {
   "cell_type": "code",
   "execution_count": 1,
   "id": "c3f4e98b",
   "metadata": {},
   "outputs": [],
   "source": [
    "import pandas as pd\n",
    "import plotly.express as px\n",
    "import plotly.graph_objects as go\n",
    "import json\n",
    "import numpy as np"
   ]
  },
  {
   "cell_type": "code",
   "execution_count": 11,
   "id": "28a15e2c",
   "metadata": {},
   "outputs": [
    {
     "data": {
      "text/html": [
       "<div>\n",
       "<style scoped>\n",
       "    .dataframe tbody tr th:only-of-type {\n",
       "        vertical-align: middle;\n",
       "    }\n",
       "\n",
       "    .dataframe tbody tr th {\n",
       "        vertical-align: top;\n",
       "    }\n",
       "\n",
       "    .dataframe thead th {\n",
       "        text-align: right;\n",
       "    }\n",
       "</style>\n",
       "<table border=\"1\" class=\"dataframe\">\n",
       "  <thead>\n",
       "    <tr style=\"text-align: right;\">\n",
       "      <th></th>\n",
       "      <th>Year</th>\n",
       "      <th>Salary</th>\n",
       "      <th>JobSat</th>\n",
       "      <th>YearsCode</th>\n",
       "      <th>YearsCodePro</th>\n",
       "      <th>Age</th>\n",
       "      <th>Education</th>\n",
       "      <th>OrgSize</th>\n",
       "      <th>LastNewJob</th>\n",
       "      <th>Employment</th>\n",
       "      <th>RespondentType</th>\n",
       "      <th>JobSeek</th>\n",
       "      <th>Gender</th>\n",
       "      <th>Student</th>\n",
       "      <th>Country</th>\n",
       "      <th>CodingActivities</th>\n",
       "      <th>DevType</th>\n",
       "      <th>LearnCodeFrom</th>\n",
       "      <th>LangPresent</th>\n",
       "    </tr>\n",
       "  </thead>\n",
       "  <tbody>\n",
       "    <tr>\n",
       "      <th>0</th>\n",
       "      <td>2022</td>\n",
       "      <td>69318.0</td>\n",
       "      <td>&lt;NA&gt;</td>\n",
       "      <td>10</td>\n",
       "      <td>5.0</td>\n",
       "      <td>25-34</td>\n",
       "      <td>master</td>\n",
       "      <td>500 to 999 employees</td>\n",
       "      <td>None</td>\n",
       "      <td>fulltime</td>\n",
       "      <td>dev</td>\n",
       "      <td>None</td>\n",
       "      <td>male</td>\n",
       "      <td>no</td>\n",
       "      <td>Germany</td>\n",
       "      <td>School or academic work</td>\n",
       "      <td>Data scientist or machine learning specialist;...</td>\n",
       "      <td>Books / Physical media;School (i.e., Universit...</td>\n",
       "      <td>C;C++;Java;JavaScript;MATLAB;Python;Scala;SQL;...</td>\n",
       "    </tr>\n",
       "    <tr>\n",
       "      <th>6</th>\n",
       "      <td>2022</td>\n",
       "      <td>27652.0</td>\n",
       "      <td>&lt;NA&gt;</td>\n",
       "      <td>18</td>\n",
       "      <td>10.0</td>\n",
       "      <td>25-34</td>\n",
       "      <td>bachelor</td>\n",
       "      <td>1,000 to 4,999 employees</td>\n",
       "      <td>None</td>\n",
       "      <td>fulltime</td>\n",
       "      <td>dev</td>\n",
       "      <td>None</td>\n",
       "      <td>male</td>\n",
       "      <td>no</td>\n",
       "      <td>Colombia</td>\n",
       "      <td>Hobby</td>\n",
       "      <td>Developer, full-stack;Developer, back-end</td>\n",
       "      <td>Books / Physical media;Other online resources ...</td>\n",
       "      <td>Bash/Shell/PowerShell;Elixir;HTML/CSS;JavaScri...</td>\n",
       "    </tr>\n",
       "    <tr>\n",
       "      <th>9</th>\n",
       "      <td>2022</td>\n",
       "      <td>15431.0</td>\n",
       "      <td>&lt;NA&gt;</td>\n",
       "      <td>5</td>\n",
       "      <td>5.0</td>\n",
       "      <td>25-34</td>\n",
       "      <td>bachelor</td>\n",
       "      <td>20 to 99 employees</td>\n",
       "      <td>None</td>\n",
       "      <td>fulltime</td>\n",
       "      <td>dev</td>\n",
       "      <td>None</td>\n",
       "      <td>male</td>\n",
       "      <td>no</td>\n",
       "      <td>Ghana</td>\n",
       "      <td>Freelance/contract work</td>\n",
       "      <td>Developer, back-end</td>\n",
       "      <td>On the job training;Coding Bootcamp</td>\n",
       "      <td>JavaScript;Ruby</td>\n",
       "    </tr>\n",
       "    <tr>\n",
       "      <th>13</th>\n",
       "      <td>2022</td>\n",
       "      <td>47352.0</td>\n",
       "      <td>&lt;NA&gt;</td>\n",
       "      <td>7</td>\n",
       "      <td>7.0</td>\n",
       "      <td>45-54</td>\n",
       "      <td>master</td>\n",
       "      <td>10 to 19 employees</td>\n",
       "      <td>None</td>\n",
       "      <td>fulltime</td>\n",
       "      <td>non-dev</td>\n",
       "      <td>None</td>\n",
       "      <td>male</td>\n",
       "      <td>no</td>\n",
       "      <td>Belgium</td>\n",
       "      <td>Hobby</td>\n",
       "      <td>Developer, back-end;Educator or academic;Datab...</td>\n",
       "      <td>Books / Physical media;On the job training;Col...</td>\n",
       "      <td>Delphi;SQL</td>\n",
       "    </tr>\n",
       "    <tr>\n",
       "      <th>22</th>\n",
       "      <td>2022</td>\n",
       "      <td>78084.0</td>\n",
       "      <td>&lt;NA&gt;</td>\n",
       "      <td>25</td>\n",
       "      <td>25.0</td>\n",
       "      <td>45-54</td>\n",
       "      <td>bachelor</td>\n",
       "      <td>500 to 999 employees</td>\n",
       "      <td>None</td>\n",
       "      <td>fulltime</td>\n",
       "      <td>non-dev</td>\n",
       "      <td>None</td>\n",
       "      <td>male</td>\n",
       "      <td>no</td>\n",
       "      <td>Canada</td>\n",
       "      <td>Hobby;Contribute to open-source projects</td>\n",
       "      <td>Engineer, site reliability;Security professional</td>\n",
       "      <td>Books / Physical media;Other online resources ...</td>\n",
       "      <td>Bash/Shell/PowerShell;C;JavaScript;Perl;PHP;Py...</td>\n",
       "    </tr>\n",
       "  </tbody>\n",
       "</table>\n",
       "</div>"
      ],
      "text/plain": [
       "    Year   Salary  JobSat  YearsCode  YearsCodePro    Age Education  \\\n",
       "0   2022  69318.0    <NA>         10           5.0  25-34    master   \n",
       "6   2022  27652.0    <NA>         18          10.0  25-34  bachelor   \n",
       "9   2022  15431.0    <NA>          5           5.0  25-34  bachelor   \n",
       "13  2022  47352.0    <NA>          7           7.0  45-54    master   \n",
       "22  2022  78084.0    <NA>         25          25.0  45-54  bachelor   \n",
       "\n",
       "                     OrgSize LastNewJob Employment RespondentType JobSeek  \\\n",
       "0       500 to 999 employees       None   fulltime            dev    None   \n",
       "6   1,000 to 4,999 employees       None   fulltime            dev    None   \n",
       "9         20 to 99 employees       None   fulltime            dev    None   \n",
       "13        10 to 19 employees       None   fulltime        non-dev    None   \n",
       "22      500 to 999 employees       None   fulltime        non-dev    None   \n",
       "\n",
       "   Gender Student   Country                          CodingActivities  \\\n",
       "0    male      no   Germany                   School or academic work   \n",
       "6    male      no  Colombia                                     Hobby   \n",
       "9    male      no     Ghana                   Freelance/contract work   \n",
       "13   male      no   Belgium                                     Hobby   \n",
       "22   male      no    Canada  Hobby;Contribute to open-source projects   \n",
       "\n",
       "                                              DevType  \\\n",
       "0   Data scientist or machine learning specialist;...   \n",
       "6           Developer, full-stack;Developer, back-end   \n",
       "9                                 Developer, back-end   \n",
       "13  Developer, back-end;Educator or academic;Datab...   \n",
       "22   Engineer, site reliability;Security professional   \n",
       "\n",
       "                                        LearnCodeFrom  \\\n",
       "0   Books / Physical media;School (i.e., Universit...   \n",
       "6   Books / Physical media;Other online resources ...   \n",
       "9                 On the job training;Coding Bootcamp   \n",
       "13  Books / Physical media;On the job training;Col...   \n",
       "22  Books / Physical media;Other online resources ...   \n",
       "\n",
       "                                          LangPresent  \n",
       "0   C;C++;Java;JavaScript;MATLAB;Python;Scala;SQL;...  \n",
       "6   Bash/Shell/PowerShell;Elixir;HTML/CSS;JavaScri...  \n",
       "9                                     JavaScript;Ruby  \n",
       "13                                         Delphi;SQL  \n",
       "22  Bash/Shell/PowerShell;C;JavaScript;Perl;PHP;Py...  "
      ]
     },
     "execution_count": 11,
     "metadata": {},
     "output_type": "execute_result"
    }
   ],
   "source": [
    "df = pd.read_parquet('../data/SO_2014_2022.pq')\n",
    "\n",
    "# Limit to salary < 250.000\n",
    "df = df[(df['Salary'] < 250000)]\n",
    "\n",
    "df.head()"
   ]
  },
  {
   "cell_type": "code",
   "execution_count": 16,
   "id": "f4cd0c8d",
   "metadata": {},
   "outputs": [],
   "source": [
    "def get_wage_gap_by_age(age_range: str) -> pd.DataFrame:\n",
    "    # Get male salary distribution per country.\n",
    "    salary_men_df = df[(df['Gender'] == 'male') & (df['Age'] == age_range)] \\\n",
    "        .groupby(['Country'], as_index=False) \\\n",
    "        .agg({ 'Salary': 'mean' }) \\\n",
    "        .rename(columns={'Salary': 'SalaryMen'})\n",
    "    \n",
    "    # Get female salary distribution per country.\n",
    "    salary_women_df = df[(df['Gender'] == 'female') & (df['Age'] == age_range)] \\\n",
    "        .groupby(['Country'], as_index=False) \\\n",
    "        .agg({ 'Salary': 'mean' }) \\\n",
    "        .rename(columns={'Salary': 'SalaryWomen'})\n",
    "\n",
    "    # Calculate wage gap.\n",
    "    new_df = pd.merge(salary_men_df, salary_women_df, on='Country')\n",
    "    new_df['WageGap'] = abs(new_df['SalaryMen'] - new_df['SalaryWomen'])        \n",
    "    \n",
    "    return new_df \n",
    "\n",
    "\n",
    "def make_title(age_range: str) -> str:\n",
    "    \"\"\"Create the plot title, given the age range.\"\"\"\n",
    "    return f'Global wage gap distribution in dollars between men and women ({age_range} years old)'"
   ]
  },
  {
   "cell_type": "code",
   "execution_count": 17,
   "id": "1dab76da",
   "metadata": {},
   "outputs": [
    {
     "data": {
      "application/vnd.plotly.v1+json": {
       "config": {
        "plotlyServerURL": "https://plot.ly"
       },
       "data": [
        {
         "coloraxis": "coloraxis",
         "customdata": [
          [
           20229.6875
          ],
          [
           null
          ],
          [
           5108.363636363638
          ],
          [
           4070.727272727272
          ],
          [
           null
          ],
          [
           2586.25
          ],
          [
           17873
          ],
          [
           null
          ],
          [
           null
          ],
          [
           null
          ],
          [
           889.2590613718421
          ],
          [
           6163.093798449612
          ],
          [
           null
          ],
          [
           1692.1604196036205
          ],
          [
           7390.493331745656
          ],
          [
           5384.2868217054265
          ],
          [
           null
          ],
          [
           22327
          ],
          [
           452.2000000000007
          ],
          [
           null
          ],
          [
           831.4693877551017
          ],
          [
           9608.846783625733
          ],
          [
           null
          ],
          [
           null
          ],
          [
           null
          ],
          [
           84790
          ],
          [
           null
          ],
          [
           21525.953125
          ],
          [
           null
          ],
          [
           null
          ],
          [
           337.0386212038211
          ],
          [
           null
          ],
          [
           null
          ],
          [
           null
          ],
          [
           4595.76738197425
          ],
          [
           null
          ],
          [
           null
          ],
          [
           11667.2
          ],
          [
           1625.5789473684208
          ],
          [
           2354.1884745762727
          ],
          [
           null
          ],
          [
           null
          ],
          [
           null
          ],
          [
           null
          ],
          [
           623.6825396825388
          ],
          [
           4446.147107438017
          ],
          [
           null
          ],
          [
           8837.120501635769
          ],
          [
           null
          ],
          [
           null
          ],
          [
           8470.074074074073
          ],
          [
           6022.886956521739
          ],
          [
           null
          ],
          [
           7407.727272727272
          ],
          [
           4765.357344632768
          ],
          [
           null
          ],
          [
           1743.1750242639973
          ],
          [
           null
          ],
          [
           null
          ],
          [
           7734.33407079646
          ],
          [
           null
          ],
          [
           11647.42857142857
          ],
          [
           2166.944029850747
          ],
          [
           5636.666666666666
          ],
          [
           null
          ],
          [
           10197.501373626372
          ],
          [
           4389.578947368421
          ],
          [
           null
          ],
          [
           null
          ],
          [
           75.83714285714086
          ],
          [
           131.01174960049684
          ],
          [
           null
          ],
          [
           null
          ],
          [
           null
          ],
          [
           9184.842592592591
          ],
          [
           4285.841340969542
          ],
          [
           4183.1
          ],
          [
           null
          ],
          [
           662.3151162790709
          ],
          [
           null
          ],
          [
           null
          ],
          [
           null
          ],
          [
           null
          ],
          [
           null
          ],
          [
           null
          ],
          [
           null
          ],
          [
           null
          ],
          [
           10359
          ],
          [
           2104.108974358973
          ],
          [
           2714.7766990291275
          ],
          [
           3833.466666666667
          ],
          [
           1031.409627955578
          ],
          [
           229.5540780141855
          ],
          [
           2106.246979865771
          ],
          [
           3148.21052631579
          ],
          [
           1915.7127086007677
          ],
          [
           2908
          ],
          [
           18108.71443358252
          ],
          [
           702.488602329453
          ],
          [
           4503
          ],
          [
           1319.588235294117
          ],
          [
           2057.3474470734727
          ],
          [
           10971.514285714286
          ],
          [
           1771.416666666666
          ],
          [
           8534.4609375
          ],
          [
           null
          ],
          [
           null
          ],
          [
           null
          ],
          [
           null
          ],
          [
           null
          ],
          [
           4471.642857142859
          ],
          [
           3287.5325670498096
          ],
          [
           null
          ],
          [
           null
          ],
          [
           null
          ],
          [
           null
          ],
          [
           12229.282485875705
          ],
          [
           null
          ],
          [
           null
          ],
          [
           3464.333333333332
          ],
          [
           5814
          ],
          [
           null
          ],
          [
           4814.371496720333
          ],
          [
           null
          ],
          [
           null
          ],
          [
           5841.511111111111
          ],
          [
           null
          ],
          [
           null
          ],
          [
           null
          ],
          [
           4209.636363636364
          ],
          [
           2666.954513148543
          ],
          [
           null
          ],
          [
           null
          ],
          [
           12040.900000000001
          ],
          [
           null
          ],
          [
           59021.2380952381
          ],
          [
           null
          ],
          [
           null
          ],
          [
           5902.731292517007
          ],
          [
           7860
          ],
          [
           2310.9333333333334
          ],
          [
           null
          ],
          [
           null
          ],
          [
           3640.4224598930487
          ],
          [
           1845.2191780821922
          ],
          [
           null
          ],
          [
           null
          ],
          [
           1308.605273833673
          ],
          [
           null
          ],
          [
           null
          ],
          [
           1956.653664302601
          ],
          [
           null
          ],
          [
           4178.5
          ],
          [
           null
          ],
          [
           7693.083333333336
          ],
          [
           null
          ],
          [
           811.4547296674955
          ],
          [
           null
          ],
          [
           4902.666666666666
          ],
          [
           null
          ],
          [
           null
          ],
          [
           6289.473684210527
          ],
          [
           1180.9333333333325
          ],
          [
           1737.7111111111108
          ],
          [
           null
          ],
          [
           5652.568241903504
          ],
          [
           326.3221288515415
          ],
          [
           30000
          ],
          [
           null
          ],
          [
           null
          ],
          [
           581.7549844339919
          ],
          [
           3823.9702474986843
          ],
          [
           null
          ],
          [
           null
          ],
          [
           null
          ],
          [
           null
          ],
          [
           null
          ],
          [
           null
          ],
          [
           null
          ],
          [
           22466.16216216216
          ],
          [
           null
          ],
          [
           7483.235354049924
          ],
          [
           null
          ],
          [
           null
          ],
          [
           2545.2535014005553
          ],
          [
           1947.7332089552256
          ],
          [
           9914.42480620155
          ],
          [
           null
          ],
          [
           null
          ],
          [
           1676.5725165562908
          ],
          [
           null
          ],
          [
           7750
          ],
          [
           null
          ],
          [
           2715.4990656892332
          ],
          [
           2060.094069529653
          ],
          [
           null
          ],
          [
           null
          ],
          [
           null
          ],
          [
           2255.9941944847596
          ],
          [
           1951.2054816869204
          ],
          [
           11091.619047619048
          ],
          [
           2901.6846153846127
          ],
          [
           null
          ],
          [
           9653.454545454544
          ],
          [
           9889.36842105263
          ],
          [
           null
          ],
          [
           null
          ],
          [
           null
          ],
          [
           4777.688888888889
          ],
          [
           3776.9565571103158
          ],
          [
           null
          ],
          [
           null
          ],
          [
           null
          ],
          [
           6526.484848484848
          ],
          [
           1654.5890843482157
          ],
          [
           6674.540000000001
          ],
          [
           4035.937314905459
          ],
          [
           3431.5972985516273
          ],
          [
           null
          ],
          [
           8916.25
          ],
          [
           6000.09756097561
          ],
          [
           null
          ],
          [
           null
          ],
          [
           8584.954022988506
          ],
          [
           176.38461538461524
          ],
          [
           null
          ],
          [
           3826.75
          ],
          [
           3991.666666666668
          ]
         ],
         "geo": "geo",
         "hovertemplate": "Country=%{location}<br>WageGap=%{z:$d}<extra></extra>",
         "locationmode": "country names",
         "locations": [
          "Afghanistan",
          "Aland Islands",
          "Albania",
          "Algeria",
          "American Samoa",
          "Andorra",
          "Angola",
          "Anguilla",
          "Antarctica",
          "Antigua and Barbuda",
          "Argentina",
          "Armenia",
          "Aruba",
          "Australia",
          "Austria",
          "Azerbaijan",
          "Bahamas",
          "Bahrain",
          "Bangladesh",
          "Barbados",
          "Belarus",
          "Belgium",
          "Belize",
          "Benin",
          "Bermuda",
          "Bhutan",
          "Bolivia",
          "Bosnia and Herzegovina",
          "Botswana",
          "Bouvet Island",
          "Brazil",
          "British Indian Ocean Territory",
          "British Virgin Islands",
          "Brunei",
          "Bulgaria",
          "Burkina Faso",
          "Burundi",
          "Cambodia",
          "Cameroon",
          "Canada",
          "Cape Verde",
          "Cayman Islands",
          "Central African Republic",
          "Chad",
          "Chile",
          "China",
          "Christmas Island",
          "Colombia",
          "Comoros",
          "Cook Islands",
          "Costa Rica",
          "Croatia",
          "Cuba",
          "Cyprus",
          "Czech Republic",
          "Democratic Republic of the Congo",
          "Denmark",
          "Djibouti",
          "Dominica",
          "Dominican Republic",
          "East Timor",
          "Ecuador",
          "Egypt",
          "El Salvador",
          "Eritrea",
          "Estonia",
          "Ethiopia",
          "Falkland Islands",
          "Fiji",
          "Finland",
          "France",
          "French Polynesia",
          "Gabon",
          "Gambia",
          "Georgia",
          "Germany",
          "Ghana",
          "Gibraltar",
          "Greece",
          "Grenada",
          "Guam",
          "Guatemala",
          "Guinea",
          "Guinea-Bissau",
          "Guyana",
          "Haiti",
          "Heard Island and McDonald Islands",
          "Honduras",
          "Hong Kong",
          "Hungary",
          "Iceland",
          "India",
          "Indonesia",
          "Iran",
          "Iraq",
          "Ireland",
          "Isle of Man",
          "Israel",
          "Italy",
          "Ivory Coast",
          "Jamaica",
          "Japan",
          "Jordan",
          "Kazakhstan",
          "Kenya",
          "Kiribati",
          "Kosovo",
          "Kuwait",
          "Kyrgyzstan",
          "Laos",
          "Latvia",
          "Lebanon",
          "Lesotho",
          "Liberia",
          "Libya",
          "Liechtenstein",
          "Lithuania",
          "Luxembourg",
          "Macao",
          "Macedonia",
          "Madagascar",
          "Malawi",
          "Malaysia",
          "Maldives",
          "Mali",
          "Malta",
          "Marshall Islands",
          "Martinique",
          "Mauritania",
          "Mauritius",
          "Mexico",
          "Micronesia",
          "Minor",
          "Moldova",
          "Monaco",
          "Mongolia",
          "Montenegro",
          "Montserrat",
          "Morocco",
          "Mozambique",
          "Myanmar",
          "Namibia",
          "Nauru",
          "Nepal",
          "Netherlands",
          "Netherlands Antilles",
          "New Caledonia",
          "New Zealand",
          "Nicaragua",
          "Niger",
          "Nigeria",
          "Nomadic",
          "North Korea",
          "Northern Mariana Islands",
          "Norway",
          "Oman",
          "Pakistan",
          "Palau",
          "Palestine",
          "Panama",
          "Papua New Guinea",
          "Paraguay",
          "Peru",
          "Philippines",
          "Pitcairn",
          "Poland",
          "Portugal",
          "Puerto Rico",
          "Qatar",
          "Reunion",
          "Romania",
          "Russia",
          "Rwanda",
          "Saint Helena",
          "Saint Kitts and Nevis",
          "Saint Lucia",
          "Saint Vincent and the Grenadines",
          "San Marino",
          "Sao Tome and Principe",
          "Saudi Arabia",
          "Senegal",
          "Serbia",
          "Seychelles",
          "Sierra Leone",
          "Singapore",
          "Slovakia",
          "Slovenia",
          "Solomon Islands",
          "Somalia",
          "South Africa",
          "South Georgia and the South Sandwich Islands",
          "South Korea",
          "South Sudan",
          "Spain",
          "Sri Lanka",
          "Sudan",
          "Suriname",
          "Swaziland",
          "Sweden",
          "Switzerland",
          "Syria",
          "Taiwan",
          "Tajikistan",
          "Tanzania",
          "Thailand",
          "Togo",
          "Tonga",
          "Trinidad and Tobago",
          "Tunisia",
          "Turkey",
          "Turkmenistan",
          "Tuvalu",
          "U.S. Virgin Islands",
          "Uganda",
          "Ukraine",
          "United Arab Emirates",
          "United Kingdom",
          "United States",
          "United States Minor Outlying Islands",
          "Uruguay",
          "Uzbekistan",
          "Vanuatu",
          "Vatican",
          "Venezuela",
          "Vietnam",
          "Yemen",
          "Zambia",
          "Zimbabwe"
         ],
         "name": "",
         "type": "choropleth",
         "z": [
          20229.6875,
          null,
          5108.363636363638,
          4070.727272727272,
          null,
          2586.25,
          17873,
          null,
          null,
          null,
          889.2590613718421,
          6163.093798449612,
          null,
          1692.1604196036205,
          7390.493331745656,
          5384.2868217054265,
          null,
          22327,
          452.2000000000007,
          null,
          831.4693877551017,
          9608.846783625733,
          null,
          null,
          null,
          84790,
          null,
          21525.953125,
          null,
          null,
          337.0386212038211,
          null,
          null,
          null,
          4595.76738197425,
          null,
          null,
          11667.2,
          1625.5789473684208,
          2354.1884745762727,
          null,
          null,
          null,
          null,
          623.6825396825388,
          4446.147107438017,
          null,
          8837.120501635769,
          null,
          null,
          8470.074074074073,
          6022.886956521739,
          null,
          7407.727272727272,
          4765.357344632768,
          null,
          1743.1750242639973,
          null,
          null,
          7734.33407079646,
          null,
          11647.42857142857,
          2166.944029850747,
          5636.666666666666,
          null,
          10197.501373626372,
          4389.578947368421,
          null,
          null,
          75.83714285714086,
          131.01174960049684,
          null,
          null,
          null,
          9184.842592592591,
          4285.841340969542,
          4183.1,
          null,
          662.3151162790709,
          null,
          null,
          null,
          null,
          null,
          null,
          null,
          null,
          10359,
          2104.108974358973,
          2714.7766990291275,
          3833.466666666667,
          1031.409627955578,
          229.5540780141855,
          2106.246979865771,
          3148.21052631579,
          1915.7127086007677,
          2908,
          18108.71443358252,
          702.488602329453,
          4503,
          1319.588235294117,
          2057.3474470734727,
          10971.514285714286,
          1771.416666666666,
          8534.4609375,
          null,
          null,
          null,
          null,
          null,
          4471.642857142859,
          3287.5325670498096,
          null,
          null,
          null,
          null,
          12229.282485875705,
          null,
          null,
          3464.333333333332,
          5814,
          null,
          4814.371496720333,
          null,
          null,
          5841.511111111111,
          null,
          null,
          null,
          4209.636363636364,
          2666.954513148543,
          null,
          null,
          12040.900000000001,
          null,
          59021.2380952381,
          null,
          null,
          5902.731292517007,
          7860,
          2310.9333333333334,
          null,
          null,
          3640.4224598930487,
          1845.2191780821922,
          null,
          null,
          1308.605273833673,
          null,
          null,
          1956.653664302601,
          null,
          4178.5,
          null,
          7693.083333333336,
          null,
          811.4547296674955,
          null,
          4902.666666666666,
          null,
          null,
          6289.473684210527,
          1180.9333333333325,
          1737.7111111111108,
          null,
          5652.568241903504,
          326.3221288515415,
          30000,
          null,
          null,
          581.7549844339919,
          3823.9702474986843,
          null,
          null,
          null,
          null,
          null,
          null,
          null,
          22466.16216216216,
          null,
          7483.235354049924,
          null,
          null,
          2545.2535014005553,
          1947.7332089552256,
          9914.42480620155,
          null,
          null,
          1676.5725165562908,
          null,
          7750,
          null,
          2715.4990656892332,
          2060.094069529653,
          null,
          null,
          null,
          2255.9941944847596,
          1951.2054816869204,
          11091.619047619048,
          2901.6846153846127,
          null,
          9653.454545454544,
          9889.36842105263,
          null,
          null,
          null,
          4777.688888888889,
          3776.9565571103158,
          null,
          null,
          null,
          6526.484848484848,
          1654.5890843482157,
          6674.540000000001,
          4035.937314905459,
          3431.5972985516273,
          null,
          8916.25,
          6000.09756097561,
          null,
          null,
          8584.954022988506,
          176.38461538461524,
          null,
          3826.75,
          3991.666666666668
         ]
        }
       ],
       "layout": {
        "coloraxis": {
         "cmax": 84790,
         "cmin": 0,
         "colorbar": {
          "title": {
           "text": "WageGap"
          }
         },
         "colorscale": [
          [
           0,
           "rgb(255,247,236)"
          ],
          [
           0.125,
           "rgb(254,232,200)"
          ],
          [
           0.25,
           "rgb(253,212,158)"
          ],
          [
           0.375,
           "rgb(253,187,132)"
          ],
          [
           0.5,
           "rgb(252,141,89)"
          ],
          [
           0.625,
           "rgb(239,101,72)"
          ],
          [
           0.75,
           "rgb(215,48,31)"
          ],
          [
           0.875,
           "rgb(179,0,0)"
          ],
          [
           1,
           "rgb(127,0,0)"
          ]
         ]
        },
        "geo": {
         "center": {},
         "domain": {
          "x": [
           0,
           1
          ],
          "y": [
           0,
           1
          ]
         },
         "oceancolor": "#a8d5f2",
         "showcoastlines": false,
         "showcountries": true,
         "showocean": true
        },
        "legend": {
         "tracegroupgap": 0
        },
        "margin": {
         "b": 0,
         "l": 10,
         "r": 0,
         "t": 40
        },
        "sliders": [
         {
          "active": 0,
          "currentvalue": {
           "prefix": "Age: "
          },
          "steps": [
           {
            "args": [
             {
              "z": [
               [
                20229.6875,
                null,
                5108.363636363638,
                4070.727272727272,
                null,
                2586.25,
                17873,
                null,
                null,
                null,
                889.2590613718421,
                6163.093798449612,
                null,
                1692.1604196036205,
                7390.493331745656,
                5384.2868217054265,
                null,
                22327,
                452.2000000000007,
                null,
                831.4693877551017,
                9608.846783625733,
                null,
                null,
                null,
                84790,
                null,
                21525.953125,
                null,
                null,
                337.0386212038211,
                null,
                null,
                null,
                4595.76738197425,
                null,
                null,
                11667.2,
                1625.5789473684208,
                2354.1884745762727,
                null,
                null,
                null,
                null,
                623.6825396825388,
                4446.147107438017,
                null,
                8837.120501635769,
                null,
                null,
                8470.074074074073,
                6022.886956521739,
                null,
                7407.727272727272,
                4765.357344632768,
                null,
                1743.1750242639973,
                null,
                null,
                7734.33407079646,
                null,
                11647.42857142857,
                2166.944029850747,
                5636.666666666666,
                null,
                10197.501373626372,
                4389.578947368421,
                null,
                null,
                75.83714285714086,
                131.01174960049684,
                null,
                null,
                null,
                9184.842592592591,
                4285.841340969542,
                4183.1,
                null,
                662.3151162790709,
                null,
                null,
                null,
                null,
                null,
                null,
                null,
                null,
                10359,
                2104.108974358973,
                2714.7766990291275,
                3833.466666666667,
                1031.409627955578,
                229.5540780141855,
                2106.246979865771,
                3148.21052631579,
                1915.7127086007677,
                2908,
                18108.71443358252,
                702.488602329453,
                4503,
                1319.588235294117,
                2057.3474470734727,
                10971.514285714286,
                1771.416666666666,
                8534.4609375,
                null,
                null,
                null,
                null,
                null,
                4471.642857142859,
                3287.5325670498096,
                null,
                null,
                null,
                null,
                12229.282485875705,
                null,
                null,
                3464.333333333332,
                5814,
                null,
                4814.371496720333,
                null,
                null,
                5841.511111111111,
                null,
                null,
                null,
                4209.636363636364,
                2666.954513148543,
                null,
                null,
                12040.900000000001,
                null,
                59021.2380952381,
                null,
                null,
                5902.731292517007,
                7860,
                2310.9333333333334,
                null,
                null,
                3640.4224598930487,
                1845.2191780821922,
                null,
                null,
                1308.605273833673,
                null,
                null,
                1956.653664302601,
                null,
                4178.5,
                null,
                7693.083333333336,
                null,
                811.4547296674955,
                null,
                4902.666666666666,
                null,
                null,
                6289.473684210527,
                1180.9333333333325,
                1737.7111111111108,
                null,
                5652.568241903504,
                326.3221288515415,
                30000,
                null,
                null,
                581.7549844339919,
                3823.9702474986843,
                null,
                null,
                null,
                null,
                null,
                null,
                null,
                22466.16216216216,
                null,
                7483.235354049924,
                null,
                null,
                2545.2535014005553,
                1947.7332089552256,
                9914.42480620155,
                null,
                null,
                1676.5725165562908,
                null,
                7750,
                null,
                2715.4990656892332,
                2060.094069529653,
                null,
                null,
                null,
                2255.9941944847596,
                1951.2054816869204,
                11091.619047619048,
                2901.6846153846127,
                null,
                9653.454545454544,
                9889.36842105263,
                null,
                null,
                null,
                4777.688888888889,
                3776.9565571103158,
                null,
                null,
                null,
                6526.484848484848,
                1654.5890843482157,
                6674.540000000001,
                4035.937314905459,
                3431.5972985516273,
                null,
                8916.25,
                6000.09756097561,
                null,
                null,
                8584.954022988506,
                176.38461538461524,
                null,
                3826.75,
                3991.666666666668
               ]
              ]
             },
             {
              "title": "Global wage gap distribution in dollars between men and women (18-24 years old)"
             }
            ],
            "label": "18-24",
            "method": "update"
           },
           {
            "args": [
             {
              "z": [
               [
                5043.225806451614,
                null,
                7955.216517857145,
                2291.1126760563384,
                null,
                null,
                null,
                null,
                null,
                null,
                5345.232966120879,
                2205.9461538461546,
                null,
                7831.704002733997,
                9516.161266643328,
                null,
                69603,
                226.26666666666642,
                1841.2268796992485,
                null,
                13907.612869198314,
                11270.008333333339,
                null,
                null,
                null,
                null,
                7884.9285714285725,
                12083.62056414923,
                null,
                null,
                2890.367398332084,
                null,
                null,
                null,
                6264.041178987645,
                null,
                null,
                5072.588235294119,
                null,
                8315.765152102933,
                null,
                null,
                null,
                null,
                1248.5652271034996,
                12144.899509803923,
                null,
                7825.70735042735,
                null,
                null,
                5231.340966921125,
                10132.92142857143,
                3230.4571428571435,
                13933.578431372553,
                3336.5431556916155,
                null,
                9433.562807220456,
                null,
                null,
                8755.35451977401,
                null,
                11336.25396825397,
                1817.8014973262052,
                3762.4197530864185,
                null,
                3657.209198813056,
                3173.623880597017,
                null,
                17472.6,
                2322.9664968873767,
                7360.911614471268,
                null,
                5000,
                null,
                16597.407494145198,
                5790.926987324921,
                39384.55445544554,
                null,
                1154.6039303150574,
                null,
                null,
                7088.456140350878,
                null,
                null,
                5124,
                null,
                null,
                13960.25641025641,
                7273.338081273563,
                10373.75142118863,
                2250.0727272727236,
                3352.609223418127,
                6278.096114519427,
                8406.089952531645,
                15628.142857142859,
                4404.694580172298,
                28211,
                12217.149601446625,
                6714.138415922647,
                null,
                9157.375,
                11577.963786471526,
                18450.138814016173,
                6702.723577235771,
                3681.3121107266415,
                null,
                null,
                10857.919999999998,
                12091.310344827587,
                null,
                17385.82113821138,
                3136.244485294119,
                null,
                null,
                null,
                null,
                11293.024061210112,
                28221.966292134828,
                null,
                4661.074468085106,
                4762.280000000001,
                null,
                4818.272024428272,
                4420.7692307692305,
                null,
                1405.0697674418625,
                null,
                null,
                null,
                7674.5,
                3531.707458634399,
                null,
                null,
                null,
                null,
                null,
                25382.550000000003,
                null,
                13323.479925303456,
                null,
                21487.95,
                22286.4,
                null,
                9391.74609929078,
                11745.978038629386,
                null,
                null,
                6278.672287291331,
                13469.81818181818,
                null,
                3270.801171801173,
                48515.59090909091,
                10610.065025252523,
                null,
                5763.1742751451675,
                8753,
                1552.468791208792,
                null,
                null,
                2018.5952380952367,
                null,
                11326.172949002219,
                15331.995169082125,
                3630.624062519695,
                null,
                12266.022042025455,
                6179.393547990909,
                null,
                14191.76470588235,
                null,
                10954.504236746856,
                5902.6201897465835,
                null,
                null,
                null,
                null,
                null,
                null,
                null,
                12071.516161616164,
                null,
                10134.679780639006,
                null,
                null,
                21770.19459141681,
                12083.964721485412,
                11968.60548807917,
                null,
                null,
                6470.603874272143,
                null,
                15708.333333333336,
                null,
                5872.773016025465,
                39.78227446312485,
                87.45454545454595,
                7596,
                null,
                4103.071896166795,
                8150.727958510135,
                3652.875,
                8880.274718679673,
                null,
                null,
                2557.317829457359,
                null,
                null,
                8405.400000000001,
                6230.236150234741,
                4290.792680797189,
                null,
                null,
                null,
                4890.597402597403,
                10193.880705079602,
                18154.443307086614,
                10523.71425208971,
                5706.845666474197,
                null,
                5287.803846153845,
                20869.175,
                null,
                null,
                6652.375939849624,
                2099.17528735632,
                8873.055555555555,
                null,
                20123.684210526317
               ]
              ]
             },
             {
              "title": "Global wage gap distribution in dollars between men and women (25-34 years old)"
             }
            ],
            "label": "25-34",
            "method": "update"
           },
           {
            "args": [
             {
              "z": [
               [
                null,
                null,
                null,
                21028.083333333332,
                null,
                null,
                null,
                null,
                null,
                null,
                23837.113688524587,
                null,
                null,
                20805.54758331344,
                19969.41661251896,
                null,
                null,
                null,
                null,
                null,
                37011.38202247191,
                17850.703115814227,
                null,
                151642,
                null,
                null,
                7616.8888888888905,
                20701.895833333336,
                null,
                null,
                10665.338048651505,
                null,
                null,
                null,
                15872.020609579104,
                null,
                null,
                null,
                null,
                11192.861781662767,
                null,
                null,
                null,
                null,
                28480.745341614907,
                31898.331932773108,
                null,
                14067.45273631841,
                null,
                null,
                13841.352941176476,
                25026.028169014084,
                null,
                1231.4705882352937,
                20459.83953168044,
                null,
                14723.010659676715,
                null,
                null,
                null,
                null,
                null,
                10683.0625,
                null,
                null,
                null,
                null,
                null,
                null,
                18507.462813800514,
                12374.796970781157,
                null,
                null,
                null,
                16540.857142857145,
                16576.81956895771,
                null,
                null,
                6195.891476034856,
                null,
                null,
                10882.02380952381,
                null,
                null,
                null,
                null,
                null,
                null,
                18796.43478260869,
                22337.4121037464,
                null,
                9617.017857142855,
                22306.711711711712,
                1473.142857142855,
                null,
                10769.179643765907,
                null,
                12541.071783756212,
                12644.118512780791,
                null,
                null,
                21535.45220779221,
                17381.875,
                7016.708333333336,
                15590.695652173912,
                null,
                null,
                null,
                12650,
                null,
                null,
                null,
                null,
                null,
                null,
                null,
                27550.5063559322,
                5323.510204081627,
                null,
                1699,
                null,
                null,
                11083.099999999999,
                null,
                null,
                22199.96153846153,
                null,
                null,
                null,
                10108.875,
                17838.51404494382,
                null,
                null,
                null,
                null,
                null,
                null,
                null,
                null,
                null,
                null,
                null,
                null,
                5613.42105263158,
                24152.945343511456,
                null,
                null,
                11720.475242718443,
                8908.823529411766,
                null,
                2750.2999999999993,
                null,
                9950.9012345679,
                null,
                10436.918278084719,
                null,
                8964.678571428572,
                null,
                null,
                null,
                null,
                null,
                321.4761904761908,
                31280.826666666668,
                null,
                4687.0395981087495,
                22179.87916666667,
                null,
                null,
                null,
                14556.744169443118,
                14758.536990216555,
                null,
                null,
                null,
                null,
                null,
                null,
                null,
                null,
                null,
                12442.017857142855,
                null,
                null,
                17498.203703703708,
                19953.8515625,
                6105.055614973258,
                null,
                null,
                12573.83861561866,
                null,
                18928.571428571428,
                null,
                4460.218485633246,
                5993.129629629631,
                null,
                null,
                null,
                9161.57327609053,
                20583.2212885154,
                null,
                89143.26000000001,
                null,
                null,
                20061.104651162794,
                null,
                null,
                null,
                null,
                21888.389743589745,
                null,
                null,
                null,
                null,
                24284.097705403405,
                38787.150684931505,
                16801.33244484602,
                18875.272297916046,
                null,
                41495.97321428572,
                null,
                null,
                null,
                14434.882882882883,
                null,
                null,
                null,
                14676
               ]
              ]
             },
             {
              "title": "Global wage gap distribution in dollars between men and women (35-44 years old)"
             }
            ],
            "label": "35-44",
            "method": "update"
           },
           {
            "args": [
             {
              "z": [
               [
                null,
                null,
                null,
                null,
                null,
                null,
                null,
                null,
                null,
                null,
                15471.912621359224,
                null,
                null,
                30350.338878842682,
                3686.5593220338924,
                null,
                null,
                null,
                null,
                null,
                1322.6666666666679,
                57128.15238095238,
                null,
                null,
                null,
                null,
                null,
                null,
                null,
                null,
                10293.650205761318,
                null,
                null,
                null,
                19948.675000000003,
                null,
                null,
                null,
                null,
                6449.561497326198,
                null,
                null,
                null,
                null,
                null,
                null,
                null,
                18598.290322580644,
                null,
                null,
                null,
                8910.519999999997,
                null,
                null,
                null,
                null,
                14607.129213483146,
                null,
                null,
                null,
                null,
                2847.5999999999985,
                null,
                null,
                null,
                null,
                null,
                null,
                null,
                21032.01769911505,
                24436.06695250659,
                null,
                null,
                null,
                null,
                20170.47389003911,
                null,
                null,
                25537.608108108107,
                null,
                null,
                null,
                null,
                null,
                null,
                null,
                null,
                null,
                null,
                12497,
                null,
                26178.48936170213,
                null,
                null,
                null,
                56836.15533980583,
                null,
                18635.22146118722,
                29413.919164396004,
                null,
                null,
                38181.283582089556,
                null,
                null,
                1647,
                null,
                null,
                null,
                null,
                null,
                null,
                62000,
                null,
                null,
                null,
                null,
                null,
                null,
                null,
                null,
                null,
                null,
                null,
                null,
                null,
                null,
                null,
                null,
                null,
                null,
                27556.191780821915,
                null,
                null,
                null,
                null,
                null,
                null,
                null,
                null,
                null,
                null,
                null,
                null,
                null,
                19787.0989859971,
                null,
                null,
                27852.221105527642,
                null,
                null,
                null,
                null,
                3956.619047619053,
                null,
                7474.392655367235,
                null,
                null,
                null,
                null,
                70264,
                null,
                null,
                null,
                null,
                null,
                null,
                19359.848484848488,
                null,
                null,
                null,
                13327.534883720931,
                22531.53846153846,
                null,
                null,
                null,
                null,
                null,
                null,
                null,
                null,
                null,
                26680.977272727272,
                null,
                null,
                null,
                null,
                6232.927272727269,
                null,
                null,
                14251.646212847554,
                null,
                null,
                null,
                3489.14621212121,
                null,
                null,
                null,
                null,
                7055.4222797927505,
                6080.380952380947,
                null,
                null,
                null,
                null,
                14901.476190476184,
                null,
                null,
                null,
                null,
                null,
                null,
                null,
                null,
                null,
                null,
                null,
                20190.97732875224,
                26075.34171585059,
                null,
                null,
                null,
                null,
                null,
                null,
                null,
                null,
                null,
                null
               ]
              ]
             },
             {
              "title": "Global wage gap distribution in dollars between men and women (45-54 years old)"
             }
            ],
            "label": "45-54",
            "method": "update"
           },
           {
            "args": [
             {
              "z": [
               [
                null,
                null,
                null,
                null,
                null,
                null,
                null,
                null,
                null,
                null,
                null,
                null,
                null,
                20734.131999999998,
                null,
                null,
                null,
                null,
                null,
                null,
                null,
                null,
                null,
                null,
                null,
                null,
                null,
                null,
                null,
                null,
                null,
                null,
                null,
                null,
                null,
                null,
                null,
                null,
                null,
                34343.823280423276,
                null,
                null,
                null,
                null,
                null,
                null,
                null,
                null,
                null,
                null,
                null,
                null,
                null,
                null,
                null,
                null,
                10425.448275862072,
                null,
                null,
                null,
                null,
                null,
                null,
                null,
                null,
                null,
                null,
                null,
                null,
                null,
                70173.47701149425,
                null,
                null,
                null,
                null,
                3051.6190476190386,
                null,
                null,
                null,
                null,
                null,
                null,
                null,
                null,
                null,
                null,
                null,
                null,
                null,
                8892,
                null,
                null,
                null,
                null,
                null,
                null,
                null,
                32386.948275862072,
                null,
                null,
                null,
                16179,
                null,
                null,
                null,
                null,
                null,
                null,
                null,
                null,
                null,
                null,
                null,
                null,
                null,
                null,
                null,
                null,
                null,
                null,
                null,
                null,
                null,
                null,
                null,
                null,
                null,
                null,
                null,
                null,
                20133.727272727272,
                null,
                null,
                null,
                null,
                null,
                null,
                null,
                null,
                null,
                null,
                null,
                null,
                null,
                18958.467054263572,
                null,
                null,
                21822.285714285717,
                null,
                null,
                null,
                null,
                null,
                null,
                null,
                null,
                null,
                null,
                null,
                null,
                null,
                null,
                null,
                null,
                null,
                null,
                null,
                null,
                null,
                null,
                null,
                10586.416666666668,
                null,
                null,
                null,
                null,
                null,
                null,
                null,
                null,
                null,
                null,
                null,
                null,
                null,
                null,
                null,
                null,
                null,
                null,
                null,
                null,
                null,
                38917.551020408166,
                null,
                null,
                null,
                null,
                null,
                null,
                null,
                null,
                null,
                null,
                null,
                null,
                null,
                null,
                null,
                null,
                null,
                null,
                null,
                null,
                null,
                null,
                23192.80867579909,
                27935.757530284245,
                null,
                null,
                null,
                null,
                null,
                null,
                null,
                null,
                null,
                null
               ]
              ]
             },
             {
              "title": "Global wage gap distribution in dollars between men and women (55-64 years old)"
             }
            ],
            "label": "55-64",
            "method": "update"
           },
           {
            "args": [
             {
              "z": [
               [
                null,
                null,
                null,
                null,
                null,
                null,
                null,
                null,
                null,
                null,
                null,
                null,
                null,
                null,
                null,
                null,
                null,
                null,
                null,
                null,
                null,
                null,
                null,
                null,
                null,
                null,
                null,
                null,
                null,
                null,
                20681.714285714286,
                null,
                null,
                null,
                null,
                null,
                null,
                null,
                null,
                13118.452830188675,
                null,
                null,
                null,
                null,
                null,
                null,
                null,
                null,
                null,
                null,
                null,
                null,
                null,
                null,
                null,
                null,
                null,
                null,
                null,
                null,
                null,
                null,
                null,
                null,
                null,
                null,
                null,
                null,
                null,
                null,
                null,
                null,
                null,
                null,
                null,
                null,
                null,
                null,
                null,
                null,
                null,
                null,
                null,
                null,
                null,
                null,
                null,
                null,
                null,
                null,
                null,
                null,
                null,
                null,
                null,
                null,
                null,
                null,
                42519.5,
                null,
                null,
                null,
                null,
                null,
                null,
                null,
                null,
                null,
                null,
                null,
                null,
                null,
                null,
                null,
                null,
                null,
                null,
                null,
                null,
                null,
                null,
                null,
                null,
                null,
                null,
                null,
                null,
                null,
                null,
                null,
                null,
                null,
                null,
                null,
                null,
                null,
                null,
                null,
                null,
                null,
                null,
                null,
                null,
                null,
                9966.88888888889,
                null,
                null,
                null,
                null,
                null,
                null,
                null,
                null,
                null,
                null,
                null,
                null,
                null,
                null,
                null,
                null,
                null,
                null,
                null,
                null,
                null,
                null,
                null,
                null,
                null,
                null,
                null,
                null,
                null,
                null,
                null,
                null,
                null,
                null,
                null,
                null,
                null,
                null,
                null,
                null,
                null,
                null,
                null,
                null,
                null,
                null,
                null,
                null,
                null,
                null,
                null,
                null,
                null,
                null,
                null,
                null,
                null,
                null,
                null,
                8477.333333333336,
                null,
                null,
                null,
                null,
                null,
                null,
                null,
                null,
                null,
                null,
                null,
                null,
                10782.605091547535,
                null,
                null,
                null,
                null,
                null,
                null,
                51050,
                null,
                null,
                null
               ]
              ]
             },
             {
              "title": "Global wage gap distribution in dollars between men and women (65+ years old)"
             }
            ],
            "label": "65+",
            "method": "update"
           }
          ]
         }
        ],
        "template": {
         "data": {
          "bar": [
           {
            "error_x": {
             "color": "#2a3f5f"
            },
            "error_y": {
             "color": "#2a3f5f"
            },
            "marker": {
             "line": {
              "color": "#E5ECF6",
              "width": 0.5
             },
             "pattern": {
              "fillmode": "overlay",
              "size": 10,
              "solidity": 0.2
             }
            },
            "type": "bar"
           }
          ],
          "barpolar": [
           {
            "marker": {
             "line": {
              "color": "#E5ECF6",
              "width": 0.5
             },
             "pattern": {
              "fillmode": "overlay",
              "size": 10,
              "solidity": 0.2
             }
            },
            "type": "barpolar"
           }
          ],
          "carpet": [
           {
            "aaxis": {
             "endlinecolor": "#2a3f5f",
             "gridcolor": "white",
             "linecolor": "white",
             "minorgridcolor": "white",
             "startlinecolor": "#2a3f5f"
            },
            "baxis": {
             "endlinecolor": "#2a3f5f",
             "gridcolor": "white",
             "linecolor": "white",
             "minorgridcolor": "white",
             "startlinecolor": "#2a3f5f"
            },
            "type": "carpet"
           }
          ],
          "choropleth": [
           {
            "colorbar": {
             "outlinewidth": 0,
             "ticks": ""
            },
            "type": "choropleth"
           }
          ],
          "contour": [
           {
            "colorbar": {
             "outlinewidth": 0,
             "ticks": ""
            },
            "colorscale": [
             [
              0,
              "#0d0887"
             ],
             [
              0.1111111111111111,
              "#46039f"
             ],
             [
              0.2222222222222222,
              "#7201a8"
             ],
             [
              0.3333333333333333,
              "#9c179e"
             ],
             [
              0.4444444444444444,
              "#bd3786"
             ],
             [
              0.5555555555555556,
              "#d8576b"
             ],
             [
              0.6666666666666666,
              "#ed7953"
             ],
             [
              0.7777777777777778,
              "#fb9f3a"
             ],
             [
              0.8888888888888888,
              "#fdca26"
             ],
             [
              1,
              "#f0f921"
             ]
            ],
            "type": "contour"
           }
          ],
          "contourcarpet": [
           {
            "colorbar": {
             "outlinewidth": 0,
             "ticks": ""
            },
            "type": "contourcarpet"
           }
          ],
          "heatmap": [
           {
            "colorbar": {
             "outlinewidth": 0,
             "ticks": ""
            },
            "colorscale": [
             [
              0,
              "#0d0887"
             ],
             [
              0.1111111111111111,
              "#46039f"
             ],
             [
              0.2222222222222222,
              "#7201a8"
             ],
             [
              0.3333333333333333,
              "#9c179e"
             ],
             [
              0.4444444444444444,
              "#bd3786"
             ],
             [
              0.5555555555555556,
              "#d8576b"
             ],
             [
              0.6666666666666666,
              "#ed7953"
             ],
             [
              0.7777777777777778,
              "#fb9f3a"
             ],
             [
              0.8888888888888888,
              "#fdca26"
             ],
             [
              1,
              "#f0f921"
             ]
            ],
            "type": "heatmap"
           }
          ],
          "heatmapgl": [
           {
            "colorbar": {
             "outlinewidth": 0,
             "ticks": ""
            },
            "colorscale": [
             [
              0,
              "#0d0887"
             ],
             [
              0.1111111111111111,
              "#46039f"
             ],
             [
              0.2222222222222222,
              "#7201a8"
             ],
             [
              0.3333333333333333,
              "#9c179e"
             ],
             [
              0.4444444444444444,
              "#bd3786"
             ],
             [
              0.5555555555555556,
              "#d8576b"
             ],
             [
              0.6666666666666666,
              "#ed7953"
             ],
             [
              0.7777777777777778,
              "#fb9f3a"
             ],
             [
              0.8888888888888888,
              "#fdca26"
             ],
             [
              1,
              "#f0f921"
             ]
            ],
            "type": "heatmapgl"
           }
          ],
          "histogram": [
           {
            "marker": {
             "pattern": {
              "fillmode": "overlay",
              "size": 10,
              "solidity": 0.2
             }
            },
            "type": "histogram"
           }
          ],
          "histogram2d": [
           {
            "colorbar": {
             "outlinewidth": 0,
             "ticks": ""
            },
            "colorscale": [
             [
              0,
              "#0d0887"
             ],
             [
              0.1111111111111111,
              "#46039f"
             ],
             [
              0.2222222222222222,
              "#7201a8"
             ],
             [
              0.3333333333333333,
              "#9c179e"
             ],
             [
              0.4444444444444444,
              "#bd3786"
             ],
             [
              0.5555555555555556,
              "#d8576b"
             ],
             [
              0.6666666666666666,
              "#ed7953"
             ],
             [
              0.7777777777777778,
              "#fb9f3a"
             ],
             [
              0.8888888888888888,
              "#fdca26"
             ],
             [
              1,
              "#f0f921"
             ]
            ],
            "type": "histogram2d"
           }
          ],
          "histogram2dcontour": [
           {
            "colorbar": {
             "outlinewidth": 0,
             "ticks": ""
            },
            "colorscale": [
             [
              0,
              "#0d0887"
             ],
             [
              0.1111111111111111,
              "#46039f"
             ],
             [
              0.2222222222222222,
              "#7201a8"
             ],
             [
              0.3333333333333333,
              "#9c179e"
             ],
             [
              0.4444444444444444,
              "#bd3786"
             ],
             [
              0.5555555555555556,
              "#d8576b"
             ],
             [
              0.6666666666666666,
              "#ed7953"
             ],
             [
              0.7777777777777778,
              "#fb9f3a"
             ],
             [
              0.8888888888888888,
              "#fdca26"
             ],
             [
              1,
              "#f0f921"
             ]
            ],
            "type": "histogram2dcontour"
           }
          ],
          "mesh3d": [
           {
            "colorbar": {
             "outlinewidth": 0,
             "ticks": ""
            },
            "type": "mesh3d"
           }
          ],
          "parcoords": [
           {
            "line": {
             "colorbar": {
              "outlinewidth": 0,
              "ticks": ""
             }
            },
            "type": "parcoords"
           }
          ],
          "pie": [
           {
            "automargin": true,
            "type": "pie"
           }
          ],
          "scatter": [
           {
            "fillpattern": {
             "fillmode": "overlay",
             "size": 10,
             "solidity": 0.2
            },
            "type": "scatter"
           }
          ],
          "scatter3d": [
           {
            "line": {
             "colorbar": {
              "outlinewidth": 0,
              "ticks": ""
             }
            },
            "marker": {
             "colorbar": {
              "outlinewidth": 0,
              "ticks": ""
             }
            },
            "type": "scatter3d"
           }
          ],
          "scattercarpet": [
           {
            "marker": {
             "colorbar": {
              "outlinewidth": 0,
              "ticks": ""
             }
            },
            "type": "scattercarpet"
           }
          ],
          "scattergeo": [
           {
            "marker": {
             "colorbar": {
              "outlinewidth": 0,
              "ticks": ""
             }
            },
            "type": "scattergeo"
           }
          ],
          "scattergl": [
           {
            "marker": {
             "colorbar": {
              "outlinewidth": 0,
              "ticks": ""
             }
            },
            "type": "scattergl"
           }
          ],
          "scattermapbox": [
           {
            "marker": {
             "colorbar": {
              "outlinewidth": 0,
              "ticks": ""
             }
            },
            "type": "scattermapbox"
           }
          ],
          "scatterpolar": [
           {
            "marker": {
             "colorbar": {
              "outlinewidth": 0,
              "ticks": ""
             }
            },
            "type": "scatterpolar"
           }
          ],
          "scatterpolargl": [
           {
            "marker": {
             "colorbar": {
              "outlinewidth": 0,
              "ticks": ""
             }
            },
            "type": "scatterpolargl"
           }
          ],
          "scatterternary": [
           {
            "marker": {
             "colorbar": {
              "outlinewidth": 0,
              "ticks": ""
             }
            },
            "type": "scatterternary"
           }
          ],
          "surface": [
           {
            "colorbar": {
             "outlinewidth": 0,
             "ticks": ""
            },
            "colorscale": [
             [
              0,
              "#0d0887"
             ],
             [
              0.1111111111111111,
              "#46039f"
             ],
             [
              0.2222222222222222,
              "#7201a8"
             ],
             [
              0.3333333333333333,
              "#9c179e"
             ],
             [
              0.4444444444444444,
              "#bd3786"
             ],
             [
              0.5555555555555556,
              "#d8576b"
             ],
             [
              0.6666666666666666,
              "#ed7953"
             ],
             [
              0.7777777777777778,
              "#fb9f3a"
             ],
             [
              0.8888888888888888,
              "#fdca26"
             ],
             [
              1,
              "#f0f921"
             ]
            ],
            "type": "surface"
           }
          ],
          "table": [
           {
            "cells": {
             "fill": {
              "color": "#EBF0F8"
             },
             "line": {
              "color": "white"
             }
            },
            "header": {
             "fill": {
              "color": "#C8D4E3"
             },
             "line": {
              "color": "white"
             }
            },
            "type": "table"
           }
          ]
         },
         "layout": {
          "annotationdefaults": {
           "arrowcolor": "#2a3f5f",
           "arrowhead": 0,
           "arrowwidth": 1
          },
          "autotypenumbers": "strict",
          "coloraxis": {
           "colorbar": {
            "outlinewidth": 0,
            "ticks": ""
           }
          },
          "colorscale": {
           "diverging": [
            [
             0,
             "#8e0152"
            ],
            [
             0.1,
             "#c51b7d"
            ],
            [
             0.2,
             "#de77ae"
            ],
            [
             0.3,
             "#f1b6da"
            ],
            [
             0.4,
             "#fde0ef"
            ],
            [
             0.5,
             "#f7f7f7"
            ],
            [
             0.6,
             "#e6f5d0"
            ],
            [
             0.7,
             "#b8e186"
            ],
            [
             0.8,
             "#7fbc41"
            ],
            [
             0.9,
             "#4d9221"
            ],
            [
             1,
             "#276419"
            ]
           ],
           "sequential": [
            [
             0,
             "#0d0887"
            ],
            [
             0.1111111111111111,
             "#46039f"
            ],
            [
             0.2222222222222222,
             "#7201a8"
            ],
            [
             0.3333333333333333,
             "#9c179e"
            ],
            [
             0.4444444444444444,
             "#bd3786"
            ],
            [
             0.5555555555555556,
             "#d8576b"
            ],
            [
             0.6666666666666666,
             "#ed7953"
            ],
            [
             0.7777777777777778,
             "#fb9f3a"
            ],
            [
             0.8888888888888888,
             "#fdca26"
            ],
            [
             1,
             "#f0f921"
            ]
           ],
           "sequentialminus": [
            [
             0,
             "#0d0887"
            ],
            [
             0.1111111111111111,
             "#46039f"
            ],
            [
             0.2222222222222222,
             "#7201a8"
            ],
            [
             0.3333333333333333,
             "#9c179e"
            ],
            [
             0.4444444444444444,
             "#bd3786"
            ],
            [
             0.5555555555555556,
             "#d8576b"
            ],
            [
             0.6666666666666666,
             "#ed7953"
            ],
            [
             0.7777777777777778,
             "#fb9f3a"
            ],
            [
             0.8888888888888888,
             "#fdca26"
            ],
            [
             1,
             "#f0f921"
            ]
           ]
          },
          "colorway": [
           "#636efa",
           "#EF553B",
           "#00cc96",
           "#ab63fa",
           "#FFA15A",
           "#19d3f3",
           "#FF6692",
           "#B6E880",
           "#FF97FF",
           "#FECB52"
          ],
          "font": {
           "color": "#2a3f5f"
          },
          "geo": {
           "bgcolor": "white",
           "lakecolor": "white",
           "landcolor": "#E5ECF6",
           "showlakes": true,
           "showland": true,
           "subunitcolor": "white"
          },
          "hoverlabel": {
           "align": "left"
          },
          "hovermode": "closest",
          "mapbox": {
           "style": "light"
          },
          "paper_bgcolor": "white",
          "plot_bgcolor": "#E5ECF6",
          "polar": {
           "angularaxis": {
            "gridcolor": "white",
            "linecolor": "white",
            "ticks": ""
           },
           "bgcolor": "#E5ECF6",
           "radialaxis": {
            "gridcolor": "white",
            "linecolor": "white",
            "ticks": ""
           }
          },
          "scene": {
           "xaxis": {
            "backgroundcolor": "#E5ECF6",
            "gridcolor": "white",
            "gridwidth": 2,
            "linecolor": "white",
            "showbackground": true,
            "ticks": "",
            "zerolinecolor": "white"
           },
           "yaxis": {
            "backgroundcolor": "#E5ECF6",
            "gridcolor": "white",
            "gridwidth": 2,
            "linecolor": "white",
            "showbackground": true,
            "ticks": "",
            "zerolinecolor": "white"
           },
           "zaxis": {
            "backgroundcolor": "#E5ECF6",
            "gridcolor": "white",
            "gridwidth": 2,
            "linecolor": "white",
            "showbackground": true,
            "ticks": "",
            "zerolinecolor": "white"
           }
          },
          "shapedefaults": {
           "line": {
            "color": "#2a3f5f"
           }
          },
          "ternary": {
           "aaxis": {
            "gridcolor": "white",
            "linecolor": "white",
            "ticks": ""
           },
           "baxis": {
            "gridcolor": "white",
            "linecolor": "white",
            "ticks": ""
           },
           "bgcolor": "#E5ECF6",
           "caxis": {
            "gridcolor": "white",
            "linecolor": "white",
            "ticks": ""
           }
          },
          "title": {
           "x": 0.05
          },
          "xaxis": {
           "automargin": true,
           "gridcolor": "white",
           "linecolor": "white",
           "ticks": "",
           "title": {
            "standoff": 15
           },
           "zerolinecolor": "white",
           "zerolinewidth": 2
          },
          "yaxis": {
           "automargin": true,
           "gridcolor": "white",
           "linecolor": "white",
           "ticks": "",
           "title": {
            "standoff": 15
           },
           "zerolinecolor": "white",
           "zerolinewidth": 2
          }
         }
        },
        "title": {
         "text": "Global wage gap distribution in dollars between men and women (18-24 years old)"
        }
       }
      },
      "text/html": [
       "<div>                            <div id=\"5ed3cbba-6cd8-452c-bb1f-b44125257e95\" class=\"plotly-graph-div\" style=\"height:525px; width:100%;\"></div>            <script type=\"text/javascript\">                require([\"plotly\"], function(Plotly) {                    window.PLOTLYENV=window.PLOTLYENV || {};                                    if (document.getElementById(\"5ed3cbba-6cd8-452c-bb1f-b44125257e95\")) {                    Plotly.newPlot(                        \"5ed3cbba-6cd8-452c-bb1f-b44125257e95\",                        [{\"coloraxis\":\"coloraxis\",\"customdata\":[[20229.6875],[null],[5108.363636363638],[4070.727272727272],[null],[2586.25],[17873.0],[null],[null],[null],[889.2590613718421],[6163.093798449612],[null],[1692.1604196036205],[7390.493331745656],[5384.2868217054265],[null],[22327.0],[452.2000000000007],[null],[831.4693877551017],[9608.846783625733],[null],[null],[null],[84790.0],[null],[21525.953125],[null],[null],[337.0386212038211],[null],[null],[null],[4595.76738197425],[null],[null],[11667.2],[1625.5789473684208],[2354.1884745762727],[null],[null],[null],[null],[623.6825396825388],[4446.147107438017],[null],[8837.120501635769],[null],[null],[8470.074074074073],[6022.886956521739],[null],[7407.727272727272],[4765.357344632768],[null],[1743.1750242639973],[null],[null],[7734.33407079646],[null],[11647.42857142857],[2166.944029850747],[5636.666666666666],[null],[10197.501373626372],[4389.578947368421],[null],[null],[75.83714285714086],[131.01174960049684],[null],[null],[null],[9184.842592592591],[4285.841340969542],[4183.1],[null],[662.3151162790709],[null],[null],[null],[null],[null],[null],[null],[null],[10359.0],[2104.108974358973],[2714.7766990291275],[3833.466666666667],[1031.409627955578],[229.5540780141855],[2106.246979865771],[3148.21052631579],[1915.7127086007677],[2908.0],[18108.71443358252],[702.488602329453],[4503.0],[1319.588235294117],[2057.3474470734727],[10971.514285714286],[1771.416666666666],[8534.4609375],[null],[null],[null],[null],[null],[4471.642857142859],[3287.5325670498096],[null],[null],[null],[null],[12229.282485875705],[null],[null],[3464.333333333332],[5814.0],[null],[4814.371496720333],[null],[null],[5841.511111111111],[null],[null],[null],[4209.636363636364],[2666.954513148543],[null],[null],[12040.900000000001],[null],[59021.2380952381],[null],[null],[5902.731292517007],[7860.0],[2310.9333333333334],[null],[null],[3640.4224598930487],[1845.2191780821922],[null],[null],[1308.605273833673],[null],[null],[1956.653664302601],[null],[4178.5],[null],[7693.083333333336],[null],[811.4547296674955],[null],[4902.666666666666],[null],[null],[6289.473684210527],[1180.9333333333325],[1737.7111111111108],[null],[5652.568241903504],[326.3221288515415],[30000.0],[null],[null],[581.7549844339919],[3823.9702474986843],[null],[null],[null],[null],[null],[null],[null],[22466.16216216216],[null],[7483.235354049924],[null],[null],[2545.2535014005553],[1947.7332089552256],[9914.42480620155],[null],[null],[1676.5725165562908],[null],[7750.0],[null],[2715.4990656892332],[2060.094069529653],[null],[null],[null],[2255.9941944847596],[1951.2054816869204],[11091.619047619048],[2901.6846153846127],[null],[9653.454545454544],[9889.36842105263],[null],[null],[null],[4777.688888888889],[3776.9565571103158],[null],[null],[null],[6526.484848484848],[1654.5890843482157],[6674.540000000001],[4035.937314905459],[3431.5972985516273],[null],[8916.25],[6000.09756097561],[null],[null],[8584.954022988506],[176.38461538461524],[null],[3826.75],[3991.666666666668]],\"geo\":\"geo\",\"hovertemplate\":\"Country=%{location}\\u003cbr\\u003eWageGap=%{z:$d}\\u003cextra\\u003e\\u003c\\u002fextra\\u003e\",\"locationmode\":\"country names\",\"locations\":[\"Afghanistan\",\"Aland Islands\",\"Albania\",\"Algeria\",\"American Samoa\",\"Andorra\",\"Angola\",\"Anguilla\",\"Antarctica\",\"Antigua and Barbuda\",\"Argentina\",\"Armenia\",\"Aruba\",\"Australia\",\"Austria\",\"Azerbaijan\",\"Bahamas\",\"Bahrain\",\"Bangladesh\",\"Barbados\",\"Belarus\",\"Belgium\",\"Belize\",\"Benin\",\"Bermuda\",\"Bhutan\",\"Bolivia\",\"Bosnia and Herzegovina\",\"Botswana\",\"Bouvet Island\",\"Brazil\",\"British Indian Ocean Territory\",\"British Virgin Islands\",\"Brunei\",\"Bulgaria\",\"Burkina Faso\",\"Burundi\",\"Cambodia\",\"Cameroon\",\"Canada\",\"Cape Verde\",\"Cayman Islands\",\"Central African Republic\",\"Chad\",\"Chile\",\"China\",\"Christmas Island\",\"Colombia\",\"Comoros\",\"Cook Islands\",\"Costa Rica\",\"Croatia\",\"Cuba\",\"Cyprus\",\"Czech Republic\",\"Democratic Republic of the Congo\",\"Denmark\",\"Djibouti\",\"Dominica\",\"Dominican Republic\",\"East Timor\",\"Ecuador\",\"Egypt\",\"El Salvador\",\"Eritrea\",\"Estonia\",\"Ethiopia\",\"Falkland Islands\",\"Fiji\",\"Finland\",\"France\",\"French Polynesia\",\"Gabon\",\"Gambia\",\"Georgia\",\"Germany\",\"Ghana\",\"Gibraltar\",\"Greece\",\"Grenada\",\"Guam\",\"Guatemala\",\"Guinea\",\"Guinea-Bissau\",\"Guyana\",\"Haiti\",\"Heard Island and McDonald Islands\",\"Honduras\",\"Hong Kong\",\"Hungary\",\"Iceland\",\"India\",\"Indonesia\",\"Iran\",\"Iraq\",\"Ireland\",\"Isle of Man\",\"Israel\",\"Italy\",\"Ivory Coast\",\"Jamaica\",\"Japan\",\"Jordan\",\"Kazakhstan\",\"Kenya\",\"Kiribati\",\"Kosovo\",\"Kuwait\",\"Kyrgyzstan\",\"Laos\",\"Latvia\",\"Lebanon\",\"Lesotho\",\"Liberia\",\"Libya\",\"Liechtenstein\",\"Lithuania\",\"Luxembourg\",\"Macao\",\"Macedonia\",\"Madagascar\",\"Malawi\",\"Malaysia\",\"Maldives\",\"Mali\",\"Malta\",\"Marshall Islands\",\"Martinique\",\"Mauritania\",\"Mauritius\",\"Mexico\",\"Micronesia\",\"Minor\",\"Moldova\",\"Monaco\",\"Mongolia\",\"Montenegro\",\"Montserrat\",\"Morocco\",\"Mozambique\",\"Myanmar\",\"Namibia\",\"Nauru\",\"Nepal\",\"Netherlands\",\"Netherlands Antilles\",\"New Caledonia\",\"New Zealand\",\"Nicaragua\",\"Niger\",\"Nigeria\",\"Nomadic\",\"North Korea\",\"Northern Mariana Islands\",\"Norway\",\"Oman\",\"Pakistan\",\"Palau\",\"Palestine\",\"Panama\",\"Papua New Guinea\",\"Paraguay\",\"Peru\",\"Philippines\",\"Pitcairn\",\"Poland\",\"Portugal\",\"Puerto Rico\",\"Qatar\",\"Reunion\",\"Romania\",\"Russia\",\"Rwanda\",\"Saint Helena\",\"Saint Kitts and Nevis\",\"Saint Lucia\",\"Saint Vincent and the Grenadines\",\"San Marino\",\"Sao Tome and Principe\",\"Saudi Arabia\",\"Senegal\",\"Serbia\",\"Seychelles\",\"Sierra Leone\",\"Singapore\",\"Slovakia\",\"Slovenia\",\"Solomon Islands\",\"Somalia\",\"South Africa\",\"South Georgia and the South Sandwich Islands\",\"South Korea\",\"South Sudan\",\"Spain\",\"Sri Lanka\",\"Sudan\",\"Suriname\",\"Swaziland\",\"Sweden\",\"Switzerland\",\"Syria\",\"Taiwan\",\"Tajikistan\",\"Tanzania\",\"Thailand\",\"Togo\",\"Tonga\",\"Trinidad and Tobago\",\"Tunisia\",\"Turkey\",\"Turkmenistan\",\"Tuvalu\",\"U.S. Virgin Islands\",\"Uganda\",\"Ukraine\",\"United Arab Emirates\",\"United Kingdom\",\"United States\",\"United States Minor Outlying Islands\",\"Uruguay\",\"Uzbekistan\",\"Vanuatu\",\"Vatican\",\"Venezuela\",\"Vietnam\",\"Yemen\",\"Zambia\",\"Zimbabwe\"],\"name\":\"\",\"z\":[20229.6875,null,5108.363636363638,4070.727272727272,null,2586.25,17873.0,null,null,null,889.2590613718421,6163.093798449612,null,1692.1604196036205,7390.493331745656,5384.2868217054265,null,22327.0,452.2000000000007,null,831.4693877551017,9608.846783625733,null,null,null,84790.0,null,21525.953125,null,null,337.0386212038211,null,null,null,4595.76738197425,null,null,11667.2,1625.5789473684208,2354.1884745762727,null,null,null,null,623.6825396825388,4446.147107438017,null,8837.120501635769,null,null,8470.074074074073,6022.886956521739,null,7407.727272727272,4765.357344632768,null,1743.1750242639973,null,null,7734.33407079646,null,11647.42857142857,2166.944029850747,5636.666666666666,null,10197.501373626372,4389.578947368421,null,null,75.83714285714086,131.01174960049684,null,null,null,9184.842592592591,4285.841340969542,4183.1,null,662.3151162790709,null,null,null,null,null,null,null,null,10359.0,2104.108974358973,2714.7766990291275,3833.466666666667,1031.409627955578,229.5540780141855,2106.246979865771,3148.21052631579,1915.7127086007677,2908.0,18108.71443358252,702.488602329453,4503.0,1319.588235294117,2057.3474470734727,10971.514285714286,1771.416666666666,8534.4609375,null,null,null,null,null,4471.642857142859,3287.5325670498096,null,null,null,null,12229.282485875705,null,null,3464.333333333332,5814.0,null,4814.371496720333,null,null,5841.511111111111,null,null,null,4209.636363636364,2666.954513148543,null,null,12040.900000000001,null,59021.2380952381,null,null,5902.731292517007,7860.0,2310.9333333333334,null,null,3640.4224598930487,1845.2191780821922,null,null,1308.605273833673,null,null,1956.653664302601,null,4178.5,null,7693.083333333336,null,811.4547296674955,null,4902.666666666666,null,null,6289.473684210527,1180.9333333333325,1737.7111111111108,null,5652.568241903504,326.3221288515415,30000.0,null,null,581.7549844339919,3823.9702474986843,null,null,null,null,null,null,null,22466.16216216216,null,7483.235354049924,null,null,2545.2535014005553,1947.7332089552256,9914.42480620155,null,null,1676.5725165562908,null,7750.0,null,2715.4990656892332,2060.094069529653,null,null,null,2255.9941944847596,1951.2054816869204,11091.619047619048,2901.6846153846127,null,9653.454545454544,9889.36842105263,null,null,null,4777.688888888889,3776.9565571103158,null,null,null,6526.484848484848,1654.5890843482157,6674.540000000001,4035.937314905459,3431.5972985516273,null,8916.25,6000.09756097561,null,null,8584.954022988506,176.38461538461524,null,3826.75,3991.666666666668],\"type\":\"choropleth\"}],                        {\"template\":{\"data\":{\"histogram2dcontour\":[{\"type\":\"histogram2dcontour\",\"colorbar\":{\"outlinewidth\":0,\"ticks\":\"\"},\"colorscale\":[[0.0,\"#0d0887\"],[0.1111111111111111,\"#46039f\"],[0.2222222222222222,\"#7201a8\"],[0.3333333333333333,\"#9c179e\"],[0.4444444444444444,\"#bd3786\"],[0.5555555555555556,\"#d8576b\"],[0.6666666666666666,\"#ed7953\"],[0.7777777777777778,\"#fb9f3a\"],[0.8888888888888888,\"#fdca26\"],[1.0,\"#f0f921\"]]}],\"choropleth\":[{\"type\":\"choropleth\",\"colorbar\":{\"outlinewidth\":0,\"ticks\":\"\"}}],\"histogram2d\":[{\"type\":\"histogram2d\",\"colorbar\":{\"outlinewidth\":0,\"ticks\":\"\"},\"colorscale\":[[0.0,\"#0d0887\"],[0.1111111111111111,\"#46039f\"],[0.2222222222222222,\"#7201a8\"],[0.3333333333333333,\"#9c179e\"],[0.4444444444444444,\"#bd3786\"],[0.5555555555555556,\"#d8576b\"],[0.6666666666666666,\"#ed7953\"],[0.7777777777777778,\"#fb9f3a\"],[0.8888888888888888,\"#fdca26\"],[1.0,\"#f0f921\"]]}],\"heatmap\":[{\"type\":\"heatmap\",\"colorbar\":{\"outlinewidth\":0,\"ticks\":\"\"},\"colorscale\":[[0.0,\"#0d0887\"],[0.1111111111111111,\"#46039f\"],[0.2222222222222222,\"#7201a8\"],[0.3333333333333333,\"#9c179e\"],[0.4444444444444444,\"#bd3786\"],[0.5555555555555556,\"#d8576b\"],[0.6666666666666666,\"#ed7953\"],[0.7777777777777778,\"#fb9f3a\"],[0.8888888888888888,\"#fdca26\"],[1.0,\"#f0f921\"]]}],\"heatmapgl\":[{\"type\":\"heatmapgl\",\"colorbar\":{\"outlinewidth\":0,\"ticks\":\"\"},\"colorscale\":[[0.0,\"#0d0887\"],[0.1111111111111111,\"#46039f\"],[0.2222222222222222,\"#7201a8\"],[0.3333333333333333,\"#9c179e\"],[0.4444444444444444,\"#bd3786\"],[0.5555555555555556,\"#d8576b\"],[0.6666666666666666,\"#ed7953\"],[0.7777777777777778,\"#fb9f3a\"],[0.8888888888888888,\"#fdca26\"],[1.0,\"#f0f921\"]]}],\"contourcarpet\":[{\"type\":\"contourcarpet\",\"colorbar\":{\"outlinewidth\":0,\"ticks\":\"\"}}],\"contour\":[{\"type\":\"contour\",\"colorbar\":{\"outlinewidth\":0,\"ticks\":\"\"},\"colorscale\":[[0.0,\"#0d0887\"],[0.1111111111111111,\"#46039f\"],[0.2222222222222222,\"#7201a8\"],[0.3333333333333333,\"#9c179e\"],[0.4444444444444444,\"#bd3786\"],[0.5555555555555556,\"#d8576b\"],[0.6666666666666666,\"#ed7953\"],[0.7777777777777778,\"#fb9f3a\"],[0.8888888888888888,\"#fdca26\"],[1.0,\"#f0f921\"]]}],\"surface\":[{\"type\":\"surface\",\"colorbar\":{\"outlinewidth\":0,\"ticks\":\"\"},\"colorscale\":[[0.0,\"#0d0887\"],[0.1111111111111111,\"#46039f\"],[0.2222222222222222,\"#7201a8\"],[0.3333333333333333,\"#9c179e\"],[0.4444444444444444,\"#bd3786\"],[0.5555555555555556,\"#d8576b\"],[0.6666666666666666,\"#ed7953\"],[0.7777777777777778,\"#fb9f3a\"],[0.8888888888888888,\"#fdca26\"],[1.0,\"#f0f921\"]]}],\"mesh3d\":[{\"type\":\"mesh3d\",\"colorbar\":{\"outlinewidth\":0,\"ticks\":\"\"}}],\"scatter\":[{\"fillpattern\":{\"fillmode\":\"overlay\",\"size\":10,\"solidity\":0.2},\"type\":\"scatter\"}],\"parcoords\":[{\"type\":\"parcoords\",\"line\":{\"colorbar\":{\"outlinewidth\":0,\"ticks\":\"\"}}}],\"scatterpolargl\":[{\"type\":\"scatterpolargl\",\"marker\":{\"colorbar\":{\"outlinewidth\":0,\"ticks\":\"\"}}}],\"bar\":[{\"error_x\":{\"color\":\"#2a3f5f\"},\"error_y\":{\"color\":\"#2a3f5f\"},\"marker\":{\"line\":{\"color\":\"#E5ECF6\",\"width\":0.5},\"pattern\":{\"fillmode\":\"overlay\",\"size\":10,\"solidity\":0.2}},\"type\":\"bar\"}],\"scattergeo\":[{\"type\":\"scattergeo\",\"marker\":{\"colorbar\":{\"outlinewidth\":0,\"ticks\":\"\"}}}],\"scatterpolar\":[{\"type\":\"scatterpolar\",\"marker\":{\"colorbar\":{\"outlinewidth\":0,\"ticks\":\"\"}}}],\"histogram\":[{\"marker\":{\"pattern\":{\"fillmode\":\"overlay\",\"size\":10,\"solidity\":0.2}},\"type\":\"histogram\"}],\"scattergl\":[{\"type\":\"scattergl\",\"marker\":{\"colorbar\":{\"outlinewidth\":0,\"ticks\":\"\"}}}],\"scatter3d\":[{\"type\":\"scatter3d\",\"line\":{\"colorbar\":{\"outlinewidth\":0,\"ticks\":\"\"}},\"marker\":{\"colorbar\":{\"outlinewidth\":0,\"ticks\":\"\"}}}],\"scattermapbox\":[{\"type\":\"scattermapbox\",\"marker\":{\"colorbar\":{\"outlinewidth\":0,\"ticks\":\"\"}}}],\"scatterternary\":[{\"type\":\"scatterternary\",\"marker\":{\"colorbar\":{\"outlinewidth\":0,\"ticks\":\"\"}}}],\"scattercarpet\":[{\"type\":\"scattercarpet\",\"marker\":{\"colorbar\":{\"outlinewidth\":0,\"ticks\":\"\"}}}],\"carpet\":[{\"aaxis\":{\"endlinecolor\":\"#2a3f5f\",\"gridcolor\":\"white\",\"linecolor\":\"white\",\"minorgridcolor\":\"white\",\"startlinecolor\":\"#2a3f5f\"},\"baxis\":{\"endlinecolor\":\"#2a3f5f\",\"gridcolor\":\"white\",\"linecolor\":\"white\",\"minorgridcolor\":\"white\",\"startlinecolor\":\"#2a3f5f\"},\"type\":\"carpet\"}],\"table\":[{\"cells\":{\"fill\":{\"color\":\"#EBF0F8\"},\"line\":{\"color\":\"white\"}},\"header\":{\"fill\":{\"color\":\"#C8D4E3\"},\"line\":{\"color\":\"white\"}},\"type\":\"table\"}],\"barpolar\":[{\"marker\":{\"line\":{\"color\":\"#E5ECF6\",\"width\":0.5},\"pattern\":{\"fillmode\":\"overlay\",\"size\":10,\"solidity\":0.2}},\"type\":\"barpolar\"}],\"pie\":[{\"automargin\":true,\"type\":\"pie\"}]},\"layout\":{\"autotypenumbers\":\"strict\",\"colorway\":[\"#636efa\",\"#EF553B\",\"#00cc96\",\"#ab63fa\",\"#FFA15A\",\"#19d3f3\",\"#FF6692\",\"#B6E880\",\"#FF97FF\",\"#FECB52\"],\"font\":{\"color\":\"#2a3f5f\"},\"hovermode\":\"closest\",\"hoverlabel\":{\"align\":\"left\"},\"paper_bgcolor\":\"white\",\"plot_bgcolor\":\"#E5ECF6\",\"polar\":{\"bgcolor\":\"#E5ECF6\",\"angularaxis\":{\"gridcolor\":\"white\",\"linecolor\":\"white\",\"ticks\":\"\"},\"radialaxis\":{\"gridcolor\":\"white\",\"linecolor\":\"white\",\"ticks\":\"\"}},\"ternary\":{\"bgcolor\":\"#E5ECF6\",\"aaxis\":{\"gridcolor\":\"white\",\"linecolor\":\"white\",\"ticks\":\"\"},\"baxis\":{\"gridcolor\":\"white\",\"linecolor\":\"white\",\"ticks\":\"\"},\"caxis\":{\"gridcolor\":\"white\",\"linecolor\":\"white\",\"ticks\":\"\"}},\"coloraxis\":{\"colorbar\":{\"outlinewidth\":0,\"ticks\":\"\"}},\"colorscale\":{\"sequential\":[[0.0,\"#0d0887\"],[0.1111111111111111,\"#46039f\"],[0.2222222222222222,\"#7201a8\"],[0.3333333333333333,\"#9c179e\"],[0.4444444444444444,\"#bd3786\"],[0.5555555555555556,\"#d8576b\"],[0.6666666666666666,\"#ed7953\"],[0.7777777777777778,\"#fb9f3a\"],[0.8888888888888888,\"#fdca26\"],[1.0,\"#f0f921\"]],\"sequentialminus\":[[0.0,\"#0d0887\"],[0.1111111111111111,\"#46039f\"],[0.2222222222222222,\"#7201a8\"],[0.3333333333333333,\"#9c179e\"],[0.4444444444444444,\"#bd3786\"],[0.5555555555555556,\"#d8576b\"],[0.6666666666666666,\"#ed7953\"],[0.7777777777777778,\"#fb9f3a\"],[0.8888888888888888,\"#fdca26\"],[1.0,\"#f0f921\"]],\"diverging\":[[0,\"#8e0152\"],[0.1,\"#c51b7d\"],[0.2,\"#de77ae\"],[0.3,\"#f1b6da\"],[0.4,\"#fde0ef\"],[0.5,\"#f7f7f7\"],[0.6,\"#e6f5d0\"],[0.7,\"#b8e186\"],[0.8,\"#7fbc41\"],[0.9,\"#4d9221\"],[1,\"#276419\"]]},\"xaxis\":{\"gridcolor\":\"white\",\"linecolor\":\"white\",\"ticks\":\"\",\"title\":{\"standoff\":15},\"zerolinecolor\":\"white\",\"automargin\":true,\"zerolinewidth\":2},\"yaxis\":{\"gridcolor\":\"white\",\"linecolor\":\"white\",\"ticks\":\"\",\"title\":{\"standoff\":15},\"zerolinecolor\":\"white\",\"automargin\":true,\"zerolinewidth\":2},\"scene\":{\"xaxis\":{\"backgroundcolor\":\"#E5ECF6\",\"gridcolor\":\"white\",\"linecolor\":\"white\",\"showbackground\":true,\"ticks\":\"\",\"zerolinecolor\":\"white\",\"gridwidth\":2},\"yaxis\":{\"backgroundcolor\":\"#E5ECF6\",\"gridcolor\":\"white\",\"linecolor\":\"white\",\"showbackground\":true,\"ticks\":\"\",\"zerolinecolor\":\"white\",\"gridwidth\":2},\"zaxis\":{\"backgroundcolor\":\"#E5ECF6\",\"gridcolor\":\"white\",\"linecolor\":\"white\",\"showbackground\":true,\"ticks\":\"\",\"zerolinecolor\":\"white\",\"gridwidth\":2}},\"shapedefaults\":{\"line\":{\"color\":\"#2a3f5f\"}},\"annotationdefaults\":{\"arrowcolor\":\"#2a3f5f\",\"arrowhead\":0,\"arrowwidth\":1},\"geo\":{\"bgcolor\":\"white\",\"landcolor\":\"#E5ECF6\",\"subunitcolor\":\"white\",\"showland\":true,\"showlakes\":true,\"lakecolor\":\"white\"},\"title\":{\"x\":0.05},\"mapbox\":{\"style\":\"light\"}}},\"geo\":{\"domain\":{\"x\":[0.0,1.0],\"y\":[0.0,1.0]},\"center\":{},\"showcountries\":true,\"showcoastlines\":false,\"showocean\":true,\"oceancolor\":\"#a8d5f2\"},\"coloraxis\":{\"colorbar\":{\"title\":{\"text\":\"WageGap\"}},\"colorscale\":[[0.0,\"rgb(255,247,236)\"],[0.125,\"rgb(254,232,200)\"],[0.25,\"rgb(253,212,158)\"],[0.375,\"rgb(253,187,132)\"],[0.5,\"rgb(252,141,89)\"],[0.625,\"rgb(239,101,72)\"],[0.75,\"rgb(215,48,31)\"],[0.875,\"rgb(179,0,0)\"],[1.0,\"rgb(127,0,0)\"]],\"cmin\":0,\"cmax\":84790.0},\"legend\":{\"tracegroupgap\":0},\"title\":{\"text\":\"Global wage gap distribution in dollars between men and women (18-24 years old)\"},\"margin\":{\"t\":40,\"r\":0,\"b\":0,\"l\":10},\"sliders\":[{\"active\":0,\"currentvalue\":{\"prefix\":\"Age: \"},\"steps\":[{\"args\":[{\"z\":[[20229.6875,null,5108.363636363638,4070.727272727272,null,2586.25,17873.0,null,null,null,889.2590613718421,6163.093798449612,null,1692.1604196036205,7390.493331745656,5384.2868217054265,null,22327.0,452.2000000000007,null,831.4693877551017,9608.846783625733,null,null,null,84790.0,null,21525.953125,null,null,337.0386212038211,null,null,null,4595.76738197425,null,null,11667.2,1625.5789473684208,2354.1884745762727,null,null,null,null,623.6825396825388,4446.147107438017,null,8837.120501635769,null,null,8470.074074074073,6022.886956521739,null,7407.727272727272,4765.357344632768,null,1743.1750242639973,null,null,7734.33407079646,null,11647.42857142857,2166.944029850747,5636.666666666666,null,10197.501373626372,4389.578947368421,null,null,75.83714285714086,131.01174960049684,null,null,null,9184.842592592591,4285.841340969542,4183.1,null,662.3151162790709,null,null,null,null,null,null,null,null,10359.0,2104.108974358973,2714.7766990291275,3833.466666666667,1031.409627955578,229.5540780141855,2106.246979865771,3148.21052631579,1915.7127086007677,2908.0,18108.71443358252,702.488602329453,4503.0,1319.588235294117,2057.3474470734727,10971.514285714286,1771.416666666666,8534.4609375,null,null,null,null,null,4471.642857142859,3287.5325670498096,null,null,null,null,12229.282485875705,null,null,3464.333333333332,5814.0,null,4814.371496720333,null,null,5841.511111111111,null,null,null,4209.636363636364,2666.954513148543,null,null,12040.900000000001,null,59021.2380952381,null,null,5902.731292517007,7860.0,2310.9333333333334,null,null,3640.4224598930487,1845.2191780821922,null,null,1308.605273833673,null,null,1956.653664302601,null,4178.5,null,7693.083333333336,null,811.4547296674955,null,4902.666666666666,null,null,6289.473684210527,1180.9333333333325,1737.7111111111108,null,5652.568241903504,326.3221288515415,30000.0,null,null,581.7549844339919,3823.9702474986843,null,null,null,null,null,null,null,22466.16216216216,null,7483.235354049924,null,null,2545.2535014005553,1947.7332089552256,9914.42480620155,null,null,1676.5725165562908,null,7750.0,null,2715.4990656892332,2060.094069529653,null,null,null,2255.9941944847596,1951.2054816869204,11091.619047619048,2901.6846153846127,null,9653.454545454544,9889.36842105263,null,null,null,4777.688888888889,3776.9565571103158,null,null,null,6526.484848484848,1654.5890843482157,6674.540000000001,4035.937314905459,3431.5972985516273,null,8916.25,6000.09756097561,null,null,8584.954022988506,176.38461538461524,null,3826.75,3991.666666666668]]},{\"title\":\"Global wage gap distribution in dollars between men and women (18-24 years old)\"}],\"label\":\"18-24\",\"method\":\"update\"},{\"args\":[{\"z\":[[5043.225806451614,null,7955.216517857145,2291.1126760563384,null,null,null,null,null,null,5345.232966120879,2205.9461538461546,null,7831.704002733997,9516.161266643328,null,69603.0,226.26666666666642,1841.2268796992485,null,13907.612869198314,11270.008333333339,null,null,null,null,7884.9285714285725,12083.62056414923,null,null,2890.367398332084,null,null,null,6264.041178987645,null,null,5072.588235294119,null,8315.765152102933,null,null,null,null,1248.5652271034996,12144.899509803923,null,7825.70735042735,null,null,5231.340966921125,10132.92142857143,3230.4571428571435,13933.578431372553,3336.5431556916155,null,9433.562807220456,null,null,8755.35451977401,null,11336.25396825397,1817.8014973262052,3762.4197530864185,null,3657.209198813056,3173.623880597017,null,17472.6,2322.9664968873767,7360.911614471268,null,5000.0,null,16597.407494145198,5790.926987324921,39384.55445544554,null,1154.6039303150574,null,null,7088.456140350878,null,null,5124.0,null,null,13960.25641025641,7273.338081273563,10373.75142118863,2250.0727272727236,3352.609223418127,6278.096114519427,8406.089952531645,15628.142857142859,4404.694580172298,28211.0,12217.149601446625,6714.138415922647,null,9157.375,11577.963786471526,18450.138814016173,6702.723577235771,3681.3121107266415,null,null,10857.919999999998,12091.310344827587,null,17385.82113821138,3136.244485294119,null,null,null,null,11293.024061210112,28221.966292134828,null,4661.074468085106,4762.280000000001,null,4818.272024428272,4420.7692307692305,null,1405.0697674418625,null,null,null,7674.5,3531.707458634399,null,null,null,null,null,25382.550000000003,null,13323.479925303456,null,21487.95,22286.4,null,9391.74609929078,11745.978038629386,null,null,6278.672287291331,13469.81818181818,null,3270.801171801173,48515.59090909091,10610.065025252523,null,5763.1742751451675,8753.0,1552.468791208792,null,null,2018.5952380952367,null,11326.172949002219,15331.995169082125,3630.624062519695,null,12266.022042025455,6179.393547990909,null,14191.76470588235,null,10954.504236746856,5902.6201897465835,null,null,null,null,null,null,null,12071.516161616164,null,10134.679780639006,null,null,21770.19459141681,12083.964721485412,11968.60548807917,null,null,6470.603874272143,null,15708.333333333336,null,5872.773016025465,39.78227446312485,87.45454545454595,7596.0,null,4103.071896166795,8150.727958510135,3652.875,8880.274718679673,null,null,2557.317829457359,null,null,8405.400000000001,6230.236150234741,4290.792680797189,null,null,null,4890.597402597403,10193.880705079602,18154.443307086614,10523.71425208971,5706.845666474197,null,5287.803846153845,20869.175,null,null,6652.375939849624,2099.17528735632,8873.055555555555,null,20123.684210526317]]},{\"title\":\"Global wage gap distribution in dollars between men and women (25-34 years old)\"}],\"label\":\"25-34\",\"method\":\"update\"},{\"args\":[{\"z\":[[null,null,null,21028.083333333332,null,null,null,null,null,null,23837.113688524587,null,null,20805.54758331344,19969.41661251896,null,null,null,null,null,37011.38202247191,17850.703115814227,null,151642.0,null,null,7616.8888888888905,20701.895833333336,null,null,10665.338048651505,null,null,null,15872.020609579104,null,null,null,null,11192.861781662767,null,null,null,null,28480.745341614907,31898.331932773108,null,14067.45273631841,null,null,13841.352941176476,25026.028169014084,null,1231.4705882352937,20459.83953168044,null,14723.010659676715,null,null,null,null,null,10683.0625,null,null,null,null,null,null,18507.462813800514,12374.796970781157,null,null,null,16540.857142857145,16576.81956895771,null,null,6195.891476034856,null,null,10882.02380952381,null,null,null,null,null,null,18796.43478260869,22337.4121037464,null,9617.017857142855,22306.711711711712,1473.142857142855,null,10769.179643765907,null,12541.071783756212,12644.118512780791,null,null,21535.45220779221,17381.875,7016.708333333336,15590.695652173912,null,null,null,12650.0,null,null,null,null,null,null,null,27550.5063559322,5323.510204081627,null,1699.0,null,null,11083.099999999999,null,null,22199.96153846153,null,null,null,10108.875,17838.51404494382,null,null,null,null,null,null,null,null,null,null,null,null,5613.42105263158,24152.945343511456,null,null,11720.475242718443,8908.823529411766,null,2750.2999999999993,null,9950.9012345679,null,10436.918278084719,null,8964.678571428572,null,null,null,null,null,321.4761904761908,31280.826666666668,null,4687.0395981087495,22179.87916666667,null,null,null,14556.744169443118,14758.536990216555,null,null,null,null,null,null,null,null,null,12442.017857142855,null,null,17498.203703703708,19953.8515625,6105.055614973258,null,null,12573.83861561866,null,18928.571428571428,null,4460.218485633246,5993.129629629631,null,null,null,9161.57327609053,20583.2212885154,null,89143.26000000001,null,null,20061.104651162794,null,null,null,null,21888.389743589745,null,null,null,null,24284.097705403405,38787.150684931505,16801.33244484602,18875.272297916046,null,41495.97321428572,null,null,null,14434.882882882883,null,null,null,14676.0]]},{\"title\":\"Global wage gap distribution in dollars between men and women (35-44 years old)\"}],\"label\":\"35-44\",\"method\":\"update\"},{\"args\":[{\"z\":[[null,null,null,null,null,null,null,null,null,null,15471.912621359224,null,null,30350.338878842682,3686.5593220338924,null,null,null,null,null,1322.6666666666679,57128.15238095238,null,null,null,null,null,null,null,null,10293.650205761318,null,null,null,19948.675000000003,null,null,null,null,6449.561497326198,null,null,null,null,null,null,null,18598.290322580644,null,null,null,8910.519999999997,null,null,null,null,14607.129213483146,null,null,null,null,2847.5999999999985,null,null,null,null,null,null,null,21032.01769911505,24436.06695250659,null,null,null,null,20170.47389003911,null,null,25537.608108108107,null,null,null,null,null,null,null,null,null,null,12497.0,null,26178.48936170213,null,null,null,56836.15533980583,null,18635.22146118722,29413.919164396004,null,null,38181.283582089556,null,null,1647.0,null,null,null,null,null,null,62000.0,null,null,null,null,null,null,null,null,null,null,null,null,null,null,null,null,null,null,27556.191780821915,null,null,null,null,null,null,null,null,null,null,null,null,null,19787.0989859971,null,null,27852.221105527642,null,null,null,null,3956.619047619053,null,7474.392655367235,null,null,null,null,70264.0,null,null,null,null,null,null,19359.848484848488,null,null,null,13327.534883720931,22531.53846153846,null,null,null,null,null,null,null,null,null,26680.977272727272,null,null,null,null,6232.927272727269,null,null,14251.646212847554,null,null,null,3489.14621212121,null,null,null,null,7055.4222797927505,6080.380952380947,null,null,null,null,14901.476190476184,null,null,null,null,null,null,null,null,null,null,null,20190.97732875224,26075.34171585059,null,null,null,null,null,null,null,null,null,null]]},{\"title\":\"Global wage gap distribution in dollars between men and women (45-54 years old)\"}],\"label\":\"45-54\",\"method\":\"update\"},{\"args\":[{\"z\":[[null,null,null,null,null,null,null,null,null,null,null,null,null,20734.131999999998,null,null,null,null,null,null,null,null,null,null,null,null,null,null,null,null,null,null,null,null,null,null,null,null,null,34343.823280423276,null,null,null,null,null,null,null,null,null,null,null,null,null,null,null,null,10425.448275862072,null,null,null,null,null,null,null,null,null,null,null,null,null,70173.47701149425,null,null,null,null,3051.6190476190386,null,null,null,null,null,null,null,null,null,null,null,null,null,8892.0,null,null,null,null,null,null,null,32386.948275862072,null,null,null,16179.0,null,null,null,null,null,null,null,null,null,null,null,null,null,null,null,null,null,null,null,null,null,null,null,null,null,null,null,null,20133.727272727272,null,null,null,null,null,null,null,null,null,null,null,null,null,18958.467054263572,null,null,21822.285714285717,null,null,null,null,null,null,null,null,null,null,null,null,null,null,null,null,null,null,null,null,null,null,null,10586.416666666668,null,null,null,null,null,null,null,null,null,null,null,null,null,null,null,null,null,null,null,null,null,38917.551020408166,null,null,null,null,null,null,null,null,null,null,null,null,null,null,null,null,null,null,null,null,null,null,23192.80867579909,27935.757530284245,null,null,null,null,null,null,null,null,null,null]]},{\"title\":\"Global wage gap distribution in dollars between men and women (55-64 years old)\"}],\"label\":\"55-64\",\"method\":\"update\"},{\"args\":[{\"z\":[[null,null,null,null,null,null,null,null,null,null,null,null,null,null,null,null,null,null,null,null,null,null,null,null,null,null,null,null,null,null,20681.714285714286,null,null,null,null,null,null,null,null,13118.452830188675,null,null,null,null,null,null,null,null,null,null,null,null,null,null,null,null,null,null,null,null,null,null,null,null,null,null,null,null,null,null,null,null,null,null,null,null,null,null,null,null,null,null,null,null,null,null,null,null,null,null,null,null,null,null,null,null,null,null,42519.5,null,null,null,null,null,null,null,null,null,null,null,null,null,null,null,null,null,null,null,null,null,null,null,null,null,null,null,null,null,null,null,null,null,null,null,null,null,null,null,null,null,null,null,null,null,9966.88888888889,null,null,null,null,null,null,null,null,null,null,null,null,null,null,null,null,null,null,null,null,null,null,null,null,null,null,null,null,null,null,null,null,null,null,null,null,null,null,null,null,null,null,null,null,null,null,null,null,null,null,null,null,null,null,null,null,null,null,null,8477.333333333336,null,null,null,null,null,null,null,null,null,null,null,null,10782.605091547535,null,null,null,null,null,null,51050.0,null,null,null]]},{\"title\":\"Global wage gap distribution in dollars between men and women (65+ years old)\"}],\"label\":\"65+\",\"method\":\"update\"}]}]},                        {\"responsive\": true}                    ).then(function(){\n",
       "                            \n",
       "var gd = document.getElementById('5ed3cbba-6cd8-452c-bb1f-b44125257e95');\n",
       "var x = new MutationObserver(function (mutations, observer) {{\n",
       "        var display = window.getComputedStyle(gd).display;\n",
       "        if (!display || display === 'none') {{\n",
       "            console.log([gd, 'removed!']);\n",
       "            Plotly.purge(gd);\n",
       "            observer.disconnect();\n",
       "        }}\n",
       "}});\n",
       "\n",
       "// Listen for the removal of the full notebook cells\n",
       "var notebookContainer = gd.closest('#notebook-container');\n",
       "if (notebookContainer) {{\n",
       "    x.observe(notebookContainer, {childList: true});\n",
       "}}\n",
       "\n",
       "// Listen for the clearing of the current output cell\n",
       "var outputEl = gd.closest('.output');\n",
       "if (outputEl) {{\n",
       "    x.observe(outputEl, {childList: true});\n",
       "}}\n",
       "\n",
       "                        })                };                });            </script>        </div>"
      ]
     },
     "metadata": {},
     "output_type": "display_data"
    }
   ],
   "source": [
    "# Gather all age ranges.\n",
    "age_bins = df['Age'].unique().dropna().sort_values()\n",
    "\n",
    "# Get the wage gap dataframe, given the first age range,\n",
    "# which is the slider's first value.\n",
    "wage_gap_df = get_wage_gap_by_age(age_bins[0])\n",
    "\n",
    "# Plot the initial map.\n",
    "map_fig = px.choropleth(\n",
    "    wage_gap_df,\n",
    "    locations='Country',\n",
    "    locationmode='country names',\n",
    "    color_continuous_scale='OrRd',\n",
    "    range_color=[0, wage_gap_df['WageGap'].max()],\n",
    "    color='WageGap',\n",
    "    hover_data={\"WageGap\": \":$d\"},\n",
    "    title=make_title(age_bins[0]),\n",
    ")\n",
    "\n",
    "# Some additional map config.\n",
    "map_fig.update_geos(showcountries=True, showcoastlines=False)\n",
    "map_fig.update_layout(geo={'showocean': True, 'oceancolor': '#a8d5f2'})\n",
    "\n",
    "# Create the slider.\n",
    "steps = []\n",
    "for age_range in age_bins:\n",
    "    wage_gap_df = get_wage_gap_by_age(age_range)\n",
    "    step = dict(\n",
    "        method='update',\n",
    "        args=[\n",
    "            {'z': [wage_gap_df['WageGap']]},\n",
    "            {'title': make_title(age_range)},\n",
    "        ],\n",
    "        label=age_range\n",
    "    )\n",
    "    steps.append(step)\n",
    "\n",
    "map_fig.update_layout(\n",
    "    sliders=[dict(\n",
    "        active=0,\n",
    "        currentvalue={'prefix': 'Age: '},\n",
    "        steps=steps\n",
    "    )],\n",
    "    margin={'t': 40, 'r': 0, 'b': 0, 'l': 10}\n",
    ")\n",
    "\n",
    "map_fig.show()"
   ]
  },
  {
   "cell_type": "code",
   "execution_count": null,
   "id": "77c1baac",
   "metadata": {},
   "outputs": [],
   "source": []
  }
 ],
 "metadata": {
  "kernelspec": {
   "display_name": "Python 3 (ipykernel)",
   "language": "python",
   "name": "python3"
  },
  "language_info": {
   "codemirror_mode": {
    "name": "ipython",
    "version": 3
   },
   "file_extension": ".py",
   "mimetype": "text/x-python",
   "name": "python",
   "nbconvert_exporter": "python",
   "pygments_lexer": "ipython3",
   "version": "3.10.6"
  }
 },
 "nbformat": 4,
 "nbformat_minor": 5
}
