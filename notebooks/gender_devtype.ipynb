{
 "cells": [
  {
   "cell_type": "code",
   "execution_count": 1,
   "metadata": {
    "ExecuteTime": {
     "end_time": "2023-06-17T13:55:28.830744Z",
     "start_time": "2023-06-17T13:55:28.330105Z"
    },
    "collapsed": true
   },
   "outputs": [],
   "source": [
    "import os\n",
    "\n",
    "import matplotlib.pyplot as plt\n",
    "import numpy as np\n",
    "import pandas as pd"
   ]
  },
  {
   "cell_type": "code",
   "execution_count": 7,
   "metadata": {
    "ExecuteTime": {
     "end_time": "2023-06-17T13:55:50.051543Z",
     "start_time": "2023-06-17T13:55:50.047583Z"
    }
   },
   "outputs": [],
   "source": [
    "RECALCULATE = False\n",
    "PRINT = False"
   ]
  },
  {
   "cell_type": "code",
   "execution_count": 3,
   "metadata": {
    "ExecuteTime": {
     "end_time": "2023-06-17T13:55:33.429434Z",
     "start_time": "2023-06-17T13:55:33.400553Z"
    }
   },
   "outputs": [],
   "source": [
    "if not os.path.isfile('cache/gender_devtype.pq') or RECALCULATE:\n",
    "    full_df = pd.read_parquet('../data/SO_2014_2022.pq')\n",
    "    devtypes = list(full_df['DevType'].dropna().apply(lambda s: s.split(';')[0]).unique())\n",
    "    dt_series = full_df.DevType.apply(lambda s: s.split(';') if isinstance(s, str) else np.nan)\n",
    "    dt_mean_sal = pd.DataFrame(columns=['Salary'], index=devtypes)\n",
    "    dt_gender_count = pd.DataFrame(columns=['Male', 'Female'], index=devtypes)\n",
    "    dt_gender_sal = pd.DataFrame(columns=['Male', 'Female'], index=devtypes)\n",
    "\n",
    "    devtype = None\n",
    "\n",
    "\n",
    "    # Loop closure\n",
    "    def filter_devtype(types: list, value):\n",
    "        if devtype not in types:\n",
    "            return np.nan\n",
    "        return value\n",
    "\n",
    "\n",
    "    search_mean_sal = pd.concat([dt_series, full_df.Salary], axis=1).dropna()\n",
    "    search_gender_count = pd.concat([dt_series, full_df.Gender], axis=1).dropna()\n",
    "    search_gender_sal = pd.concat([dt_series, full_df.Salary, full_df.Gender], axis=1).dropna()\n",
    "    for progress, devtype in enumerate(devtypes):\n",
    "        if PRINT:\n",
    "            print(f'{progress / len(devtypes):>4.0%}')\n",
    "        dt_mean_sal.loc[devtype] = search_mean_sal.DevType.combine(search_mean_sal.Salary, filter_devtype).mean()\n",
    "        dt_gender_count.loc[devtype] = tuple(\n",
    "            search_gender_count.DevType.combine(search_gender_count.Gender, filter_devtype).value_counts())\n",
    "        for gender in ['Male', 'Female']:\n",
    "            sgs = search_gender_sal.query(f\"Gender == '{gender.lower()}'\")\n",
    "            dt_gender_sal.loc[devtype][gender] = sgs.DevType.combine(sgs.Salary, filter_devtype).mean()\n",
    "\n",
    "    if PRINT:\n",
    "        print('100%')\n",
    "\n",
    "    df = pd.DataFrame()\n",
    "    df['Salary'] = dt_mean_sal['Salary']\n",
    "    df['MaleCount'] = dt_gender_count['Male']\n",
    "    df['FemaleCount'] = dt_gender_count['Female']\n",
    "    df['MaleSalary'] = dt_gender_sal['Male']\n",
    "    df['FemaleSalary'] = dt_gender_sal['Female']\n",
    "    df['Gap'] = (df['MaleSalary'] - df['FemaleSalary']) / df['Salary'] * 100\n",
    "    df['Prop'] = df['MaleCount'] / df['FemaleCount']\n",
    "\n",
    "    # Some positions might be unreliable due to low female respondent count\n",
    "    df.query('MaleCount > 200 & FemaleCount > 200', inplace=True)\n",
    "\n",
    "    df.to_parquet('cache/gender_devtype.pq')\n",
    "    RECALCULATE = False\n",
    "else:\n",
    "    df = pd.read_parquet('cache/gender_devtype.pq')\n",
    "    if PRINT:\n",
    "        print('Loaded from cache')"
   ]
  },
  {
   "cell_type": "code",
   "execution_count": 4,
   "metadata": {
    "ExecuteTime": {
     "end_time": "2023-06-17T13:55:35.845742Z",
     "start_time": "2023-06-17T13:55:35.829979Z"
    }
   },
   "outputs": [
    {
     "data": {
      "text/html": [
       "<div>\n",
       "<style scoped>\n",
       "    .dataframe tbody tr th:only-of-type {\n",
       "        vertical-align: middle;\n",
       "    }\n",
       "\n",
       "    .dataframe tbody tr th {\n",
       "        vertical-align: top;\n",
       "    }\n",
       "\n",
       "    .dataframe thead th {\n",
       "        text-align: right;\n",
       "    }\n",
       "</style>\n",
       "<table border=\"1\" class=\"dataframe\">\n",
       "  <thead>\n",
       "    <tr style=\"text-align: right;\">\n",
       "      <th></th>\n",
       "      <th>Salary</th>\n",
       "      <th>MaleCount</th>\n",
       "      <th>FemaleCount</th>\n",
       "      <th>MaleSalary</th>\n",
       "      <th>FemaleSalary</th>\n",
       "      <th>Gap</th>\n",
       "      <th>Prop</th>\n",
       "    </tr>\n",
       "  </thead>\n",
       "  <tbody>\n",
       "    <tr>\n",
       "      <th>Data scientist or machine learning specialist</th>\n",
       "      <td>66741.062337</td>\n",
       "      <td>27967</td>\n",
       "      <td>2135</td>\n",
       "      <td>67065.807725</td>\n",
       "      <td>65158.192406</td>\n",
       "      <td>2.858233</td>\n",
       "      <td>13.099297</td>\n",
       "    </tr>\n",
       "    <tr>\n",
       "      <th>Engineer, data</th>\n",
       "      <td>74134.871049</td>\n",
       "      <td>15341</td>\n",
       "      <td>801</td>\n",
       "      <td>73851.015016</td>\n",
       "      <td>75325.595661</td>\n",
       "      <td>-1.989051</td>\n",
       "      <td>19.152310</td>\n",
       "    </tr>\n",
       "    <tr>\n",
       "      <th>Developer, front-end</th>\n",
       "      <td>57962.401026</td>\n",
       "      <td>95441</td>\n",
       "      <td>7128</td>\n",
       "      <td>58357.289909</td>\n",
       "      <td>56208.281881</td>\n",
       "      <td>3.707590</td>\n",
       "      <td>13.389590</td>\n",
       "    </tr>\n",
       "    <tr>\n",
       "      <th>Student</th>\n",
       "      <td>24490.338723</td>\n",
       "      <td>34176</td>\n",
       "      <td>2740</td>\n",
       "      <td>24634.515929</td>\n",
       "      <td>24305.919094</td>\n",
       "      <td>1.341741</td>\n",
       "      <td>12.472993</td>\n",
       "    </tr>\n",
       "    <tr>\n",
       "      <th>Developer, full-stack</th>\n",
       "      <td>62865.299330</td>\n",
       "      <td>182772</td>\n",
       "      <td>9983</td>\n",
       "      <td>63024.234952</td>\n",
       "      <td>63244.182031</td>\n",
       "      <td>-0.349870</td>\n",
       "      <td>18.308324</td>\n",
       "    </tr>\n",
       "  </tbody>\n",
       "</table>\n",
       "</div>"
      ],
      "text/plain": [
       "                                                     Salary  MaleCount  \\\n",
       "Data scientist or machine learning specialist  66741.062337      27967   \n",
       "Engineer, data                                 74134.871049      15341   \n",
       "Developer, front-end                           57962.401026      95441   \n",
       "Student                                        24490.338723      34176   \n",
       "Developer, full-stack                          62865.299330     182772   \n",
       "\n",
       "                                               FemaleCount    MaleSalary  \\\n",
       "Data scientist or machine learning specialist         2135  67065.807725   \n",
       "Engineer, data                                         801  73851.015016   \n",
       "Developer, front-end                                  7128  58357.289909   \n",
       "Student                                               2740  24634.515929   \n",
       "Developer, full-stack                                 9983  63024.234952   \n",
       "\n",
       "                                               FemaleSalary       Gap  \\\n",
       "Data scientist or machine learning specialist  65158.192406  2.858233   \n",
       "Engineer, data                                 75325.595661 -1.989051   \n",
       "Developer, front-end                           56208.281881  3.707590   \n",
       "Student                                        24305.919094  1.341741   \n",
       "Developer, full-stack                          63244.182031 -0.349870   \n",
       "\n",
       "                                                    Prop  \n",
       "Data scientist or machine learning specialist  13.099297  \n",
       "Engineer, data                                 19.152310  \n",
       "Developer, front-end                           13.389590  \n",
       "Student                                        12.472993  \n",
       "Developer, full-stack                          18.308324  "
      ]
     },
     "execution_count": 4,
     "metadata": {},
     "output_type": "execute_result"
    }
   ],
   "source": [
    "df.head()"
   ]
  },
  {
   "cell_type": "code",
   "execution_count": 8,
   "metadata": {
    "ExecuteTime": {
     "end_time": "2023-06-17T13:55:53.146579Z",
     "start_time": "2023-06-17T13:55:53.142203Z"
    }
   },
   "outputs": [
    {
     "name": "stdout",
     "output_type": "stream",
     "text": [
      "Positions with most female favourable pay gap:\n",
      "\tEngineer, site reliability\n",
      "\tEngineer, data\n",
      "\tProduct manager\n",
      "\n",
      "Positions with most male favourable pay gap:\n",
      "\tMarketing or sales professional\n",
      "\tDeveloper, QA or test\n",
      "\tDatabase administrator\n",
      "\n",
      "Positions with highest female proportion:\n",
      "\tSenior Executive (C-Suite, VP, etc.)\n",
      "\tDevOps specialist\n",
      "\tSystem administrator\n",
      "\n",
      "Positions with lowest female proportion:\n",
      "\tMarketing or sales professional\n",
      "\tStudent\n",
      "\tEducator or academic\n"
     ]
    }
   ],
   "source": [
    "if PRINT:\n",
    "    print('Positions with most female favourable pay gap:', *df.sort_values(by='Gap').head(3).index.tolist(),\n",
    "          sep='\\n\\t')\n",
    "    print('\\nPositions with most male favourable pay gap:',\n",
    "          *df.sort_values(by='Gap', ascending=False).head(3).index.tolist(), sep='\\n\\t')\n",
    "    print('\\nPositions with highest female proportion:',\n",
    "          *df.sort_values(by='Prop', ascending=False).head(3).index.tolist(), sep='\\n\\t')\n",
    "    print('\\nPositions with lowest female proportion:', *df.sort_values(by='Prop').head(3).index.tolist(), sep='\\n\\t')"
   ]
  },
  {
   "cell_type": "code",
   "execution_count": 6,
   "metadata": {
    "ExecuteTime": {
     "end_time": "2023-06-17T13:55:40.104859Z",
     "start_time": "2023-06-17T13:55:40.025967Z"
    }
   },
   "outputs": [
    {
     "data": {
      "image/png": "[encoded data removed]",
      "text/plain": [
       "<Figure size 640x480 with 1 Axes>"
      ]
     },
     "metadata": {},
     "output_type": "display_data"
    }
   ],
   "source": [
    "plt.scatter(x=df['Prop'], y=df['Gap'])\n",
    "SHOW_MEAN = False\n",
    "\n",
    "if SHOW_MEAN:\n",
    "    mean_proportion = df.MaleCount.sum() / df.FemaleCount.sum()\n",
    "    mean_gap = (df.Gap * (df.MaleCount + df.FemaleCount)).sum() / (df.MaleCount.sum() + df.FemaleCount.sum())\n",
    "    plt.axvline(color='grey', linestyle='dashed', x=mean_proportion)\n",
    "    plt.axhline(color='grey', linestyle='dashed', y=mean_gap)\n",
    "    plt.annotate(color='grey', xy=(mean_proportion + 0.5, mean_gap - 1), text='Mean')\n",
    "else:\n",
    "    plt.axhline(color='grey', linestyle='dotted')\n",
    "\n",
    "plt.title('Gender proportion versus relative pay gap')\n",
    "plt.xlabel('Male developers per female developer')\n",
    "plt.ylabel('Percentage higher wage of male developers')\n",
    "\n",
    "plt.show()\n",
    "\n",
    "# Seems like higher proportion males ~= better pay females"
   ]
  }
 ],
 "metadata": {
  "kernelspec": {
   "display_name": "Python 3 (ipykernel)",
   "language": "python",
   "name": "python3"
  },
  "language_info": {
   "codemirror_mode": {
    "name": "ipython",
    "version": 3
   },
   "file_extension": ".py",
   "mimetype": "text/x-python",
   "name": "python",
   "nbconvert_exporter": "python",
   "pygments_lexer": "ipython3",
   "version": "3.10.6"
  }
 },
 "nbformat": 4,
 "nbformat_minor": 1
}
