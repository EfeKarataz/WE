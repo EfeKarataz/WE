{
 "cells": [
  {
   "cell_type": "code",
   "execution_count": null,
   "metadata": {},
   "outputs": [],
   "source": [
    "import plotly.express as px\n",
    "import pandas as pd\n",
    "\n",
    "df1422 = pd.read_parquet('../data/SO_2014_2022.pq', engine='pyarrow')\n",
    "df1422limited = df1422[(df1422['Salary'] > 0) & (df1422['Salary'] < 250000)]\n",
    "\n",
    "# calculate mean for each of the age bins\n",
    "# plot these means for all age bins"
   ]
  }
 ],
 "metadata": {
  "language_info": {
   "name": "python"
  },
  "orig_nbformat": 4
 },
 "nbformat": 4,
 "nbformat_minor": 2
}
